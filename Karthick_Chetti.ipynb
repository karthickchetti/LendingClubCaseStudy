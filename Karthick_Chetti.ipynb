{
 "cells": [
  {
   "cell_type": "markdown",
   "id": "6611e0e2",
   "metadata": {},
   "source": [
    "# **LENDING CLUB CASE STUDY** \n",
    "## **Group Members :**\n",
    "### **1. Karthick Chetti** - Group Fecilitator\n",
    "### **2. Anirudh KVC** - Collaborator"
   ]
  },
  {
   "cell_type": "markdown",
   "id": "69b6d6b8",
   "metadata": {},
   "source": [
    "## **Index of Notebook**\n",
    "1. Objectives\n",
    "2. Understanding Data\n",
    "3. Data Cleaning\n",
    "4. Selecting columns based on business objectives\n",
    "5. Missing Value Imputation\n",
    "6. Understanding variables and their datatypes\n"
   ]
  },
  {
   "cell_type": "markdown",
   "id": "dcc5c8b7",
   "metadata": {},
   "source": [
    "## **1. Objectives :**\n",
    "1. Understanding the driving factors behind loan default thereby aiming to reduce credit loss \n",
    "2. Data Driven inferences to support the driving factors"
   ]
  },
  {
   "cell_type": "code",
   "execution_count": 44,
   "id": "a303cb83",
   "metadata": {},
   "outputs": [],
   "source": [
    "# Load the libraries\n",
    "import pandas as pd #To work with dataset\n",
    "pd.set_option(\"display.max_columns\", 100)\n",
    "import numpy as np #Math library\n",
    "import seaborn as sns #Graph library that use matplot in background\n",
    "import matplotlib.pyplot as plt #to plot some parameters in seaborn\n",
    "from matplotlib.ticker import PercentFormatter # for percentage"
   ]
  },
  {
   "cell_type": "code",
   "execution_count": 45,
   "id": "f9a2f74e",
   "metadata": {},
   "outputs": [
    {
     "name": "stderr",
     "output_type": "stream",
     "text": [
      "C:\\Users\\user\\Documents\\Anaconda\\lib\\site-packages\\IPython\\core\\interactiveshell.py:3444: DtypeWarning: Columns (47) have mixed types.Specify dtype option on import or set low_memory=False.\n",
      "  exec(code_obj, self.user_global_ns, self.user_ns)\n"
     ]
    }
   ],
   "source": [
    "# Importing data from loan.csv\n",
    "loan_df=pd.read_csv(\"loan.csv\")"
   ]
  },
  {
   "cell_type": "markdown",
   "id": "9eaed205",
   "metadata": {},
   "source": [
    "### **2. Understanding Data** "
   ]
  },
  {
   "cell_type": "code",
   "execution_count": 46,
   "id": "76d81305",
   "metadata": {},
   "outputs": [
    {
     "name": "stdout",
     "output_type": "stream",
     "text": [
      "<class 'pandas.core.frame.DataFrame'>\n",
      "RangeIndex: 39717 entries, 0 to 39716\n",
      "Data columns (total 111 columns):\n",
      " #    Column                          Non-Null Count  Dtype  \n",
      "---   ------                          --------------  -----  \n",
      " 0    id                              39717 non-null  int64  \n",
      " 1    member_id                       39717 non-null  int64  \n",
      " 2    loan_amnt                       39717 non-null  int64  \n",
      " 3    funded_amnt                     39717 non-null  int64  \n",
      " 4    funded_amnt_inv                 39717 non-null  float64\n",
      " 5    term                            39717 non-null  object \n",
      " 6    int_rate                        39717 non-null  object \n",
      " 7    installment                     39717 non-null  float64\n",
      " 8    grade                           39717 non-null  object \n",
      " 9    sub_grade                       39717 non-null  object \n",
      " 10   emp_title                       37258 non-null  object \n",
      " 11   emp_length                      38642 non-null  object \n",
      " 12   home_ownership                  39717 non-null  object \n",
      " 13   annual_inc                      39717 non-null  float64\n",
      " 14   verification_status             39717 non-null  object \n",
      " 15   issue_d                         39717 non-null  object \n",
      " 16   loan_status                     39717 non-null  object \n",
      " 17   pymnt_plan                      39717 non-null  object \n",
      " 18   url                             39717 non-null  object \n",
      " 19   desc                            26777 non-null  object \n",
      " 20   purpose                         39717 non-null  object \n",
      " 21   title                           39706 non-null  object \n",
      " 22   zip_code                        39717 non-null  object \n",
      " 23   addr_state                      39717 non-null  object \n",
      " 24   dti                             39717 non-null  float64\n",
      " 25   delinq_2yrs                     39717 non-null  int64  \n",
      " 26   earliest_cr_line                39717 non-null  object \n",
      " 27   inq_last_6mths                  39717 non-null  int64  \n",
      " 28   mths_since_last_delinq          14035 non-null  float64\n",
      " 29   mths_since_last_record          2786 non-null   float64\n",
      " 30   open_acc                        39717 non-null  int64  \n",
      " 31   pub_rec                         39717 non-null  int64  \n",
      " 32   revol_bal                       39717 non-null  int64  \n",
      " 33   revol_util                      39667 non-null  object \n",
      " 34   total_acc                       39717 non-null  int64  \n",
      " 35   initial_list_status             39717 non-null  object \n",
      " 36   out_prncp                       39717 non-null  float64\n",
      " 37   out_prncp_inv                   39717 non-null  float64\n",
      " 38   total_pymnt                     39717 non-null  float64\n",
      " 39   total_pymnt_inv                 39717 non-null  float64\n",
      " 40   total_rec_prncp                 39717 non-null  float64\n",
      " 41   total_rec_int                   39717 non-null  float64\n",
      " 42   total_rec_late_fee              39717 non-null  float64\n",
      " 43   recoveries                      39717 non-null  float64\n",
      " 44   collection_recovery_fee         39717 non-null  float64\n",
      " 45   last_pymnt_d                    39646 non-null  object \n",
      " 46   last_pymnt_amnt                 39717 non-null  float64\n",
      " 47   next_pymnt_d                    1140 non-null   object \n",
      " 48   last_credit_pull_d              39715 non-null  object \n",
      " 49   collections_12_mths_ex_med      39661 non-null  float64\n",
      " 50   mths_since_last_major_derog     0 non-null      float64\n",
      " 51   policy_code                     39717 non-null  int64  \n",
      " 52   application_type                39717 non-null  object \n",
      " 53   annual_inc_joint                0 non-null      float64\n",
      " 54   dti_joint                       0 non-null      float64\n",
      " 55   verification_status_joint       0 non-null      float64\n",
      " 56   acc_now_delinq                  39717 non-null  int64  \n",
      " 57   tot_coll_amt                    0 non-null      float64\n",
      " 58   tot_cur_bal                     0 non-null      float64\n",
      " 59   open_acc_6m                     0 non-null      float64\n",
      " 60   open_il_6m                      0 non-null      float64\n",
      " 61   open_il_12m                     0 non-null      float64\n",
      " 62   open_il_24m                     0 non-null      float64\n",
      " 63   mths_since_rcnt_il              0 non-null      float64\n",
      " 64   total_bal_il                    0 non-null      float64\n",
      " 65   il_util                         0 non-null      float64\n",
      " 66   open_rv_12m                     0 non-null      float64\n",
      " 67   open_rv_24m                     0 non-null      float64\n",
      " 68   max_bal_bc                      0 non-null      float64\n",
      " 69   all_util                        0 non-null      float64\n",
      " 70   total_rev_hi_lim                0 non-null      float64\n",
      " 71   inq_fi                          0 non-null      float64\n",
      " 72   total_cu_tl                     0 non-null      float64\n",
      " 73   inq_last_12m                    0 non-null      float64\n",
      " 74   acc_open_past_24mths            0 non-null      float64\n",
      " 75   avg_cur_bal                     0 non-null      float64\n",
      " 76   bc_open_to_buy                  0 non-null      float64\n",
      " 77   bc_util                         0 non-null      float64\n",
      " 78   chargeoff_within_12_mths        39661 non-null  float64\n",
      " 79   delinq_amnt                     39717 non-null  int64  \n",
      " 80   mo_sin_old_il_acct              0 non-null      float64\n",
      " 81   mo_sin_old_rev_tl_op            0 non-null      float64\n",
      " 82   mo_sin_rcnt_rev_tl_op           0 non-null      float64\n",
      " 83   mo_sin_rcnt_tl                  0 non-null      float64\n",
      " 84   mort_acc                        0 non-null      float64\n",
      " 85   mths_since_recent_bc            0 non-null      float64\n",
      " 86   mths_since_recent_bc_dlq        0 non-null      float64\n",
      " 87   mths_since_recent_inq           0 non-null      float64\n",
      " 88   mths_since_recent_revol_delinq  0 non-null      float64\n",
      " 89   num_accts_ever_120_pd           0 non-null      float64\n",
      " 90   num_actv_bc_tl                  0 non-null      float64\n",
      " 91   num_actv_rev_tl                 0 non-null      float64\n",
      " 92   num_bc_sats                     0 non-null      float64\n",
      " 93   num_bc_tl                       0 non-null      float64\n",
      " 94   num_il_tl                       0 non-null      float64\n",
      " 95   num_op_rev_tl                   0 non-null      float64\n",
      " 96   num_rev_accts                   0 non-null      float64\n",
      " 97   num_rev_tl_bal_gt_0             0 non-null      float64\n",
      " 98   num_sats                        0 non-null      float64\n",
      " 99   num_tl_120dpd_2m                0 non-null      float64\n",
      " 100  num_tl_30dpd                    0 non-null      float64\n",
      " 101  num_tl_90g_dpd_24m              0 non-null      float64\n",
      " 102  num_tl_op_past_12m              0 non-null      float64\n",
      " 103  pct_tl_nvr_dlq                  0 non-null      float64\n",
      " 104  percent_bc_gt_75                0 non-null      float64\n",
      " 105  pub_rec_bankruptcies            39020 non-null  float64\n",
      " 106  tax_liens                       39678 non-null  float64\n",
      " 107  tot_hi_cred_lim                 0 non-null      float64\n",
      " 108  total_bal_ex_mort               0 non-null      float64\n",
      " 109  total_bc_limit                  0 non-null      float64\n",
      " 110  total_il_high_credit_limit      0 non-null      float64\n",
      "dtypes: float64(74), int64(13), object(24)\n",
      "memory usage: 33.6+ MB\n"
     ]
    }
   ],
   "source": [
    "loan_df.info(verbose=True,show_counts=True)\n",
    "init_cols=len(loan_df.columns)"
   ]
  },
  {
   "cell_type": "markdown",
   "id": "7d772673",
   "metadata": {},
   "source": [
    "#### We can see that there are some null values in the columns and there are too many columns to analyze, hence measures have to be taken to clean data based on *business objectives* and based on *statistics*"
   ]
  },
  {
   "cell_type": "markdown",
   "id": "5201273e",
   "metadata": {},
   "source": [
    "### **3. Data Cleaning** : Based on Business Objective\n",
    "### Filtering out data based on objective, since we are restricting our analysis to Charged off customers in the interest for the business objective"
   ]
  },
  {
   "cell_type": "code",
   "execution_count": 47,
   "id": "b7d51d3b",
   "metadata": {},
   "outputs": [],
   "source": [
    "# Filtering data accorgingly\n",
    "loan_df = loan_df[loan_df[\"loan_status\"] == \"Charged Off\"]"
   ]
  },
  {
   "cell_type": "markdown",
   "id": "7455f1f4",
   "metadata": {},
   "source": [
    "### **3. Data Cleaning** : A) Removing Columns with high percentage of null values"
   ]
  },
  {
   "cell_type": "code",
   "execution_count": 48,
   "id": "99f2b3bf",
   "metadata": {},
   "outputs": [],
   "source": [
    "#Removing columns having 50% null values in them as such columns are not useful for analysis\n",
    "lc_df=loan_df.dropna(axis=1,thresh=int(0.5*len(loan_df)))"
   ]
  },
  {
   "cell_type": "code",
   "execution_count": 49,
   "id": "517847b2",
   "metadata": {},
   "outputs": [
    {
     "name": "stdout",
     "output_type": "stream",
     "text": [
      "57 columns were removed from original dataframe due to high amount of missing values in them\n"
     ]
    }
   ],
   "source": [
    "#Printing number of columns removed\n",
    "removed_columns=len(loan_df.columns)-len(lc_df.columns)\n",
    "print(f\"{removed_columns} columns were removed from original dataframe due to high amount of missing values in them\")"
   ]
  },
  {
   "cell_type": "markdown",
   "id": "94a79f97",
   "metadata": {},
   "source": [
    "### **3. Data Cleaning** : B) Removing Columns with same values which are redundant for analysis"
   ]
  },
  {
   "cell_type": "code",
   "execution_count": 50,
   "id": "f252e648",
   "metadata": {},
   "outputs": [
    {
     "name": "stdout",
     "output_type": "stream",
     "text": [
      "9 columns are dropped in the dataframe due to same values repeating throughout the column\n"
     ]
    }
   ],
   "source": [
    "#### It is observed that some columns have only one value(mostly 0) throughout the rows, which are not useful for the analysis\n",
    "dropped_col=[]\n",
    "for col in lc_df.columns:\n",
    "    if len(lc_df[col].unique())==1:\n",
    "        dropped_col.append(col)\n",
    "print(f\"{len(dropped_col)} columns are dropped in the dataframe due to same values repeating throughout the column\")\n",
    "lc_df=lc_df.drop(dropped_col,axis=1)"
   ]
  },
  {
   "cell_type": "markdown",
   "id": "f83f86a6",
   "metadata": {},
   "source": [
    "### **3. Data Cleaning** : C) Removing Columns with either 0s or missing values in them"
   ]
  },
  {
   "cell_type": "code",
   "execution_count": 51,
   "id": "cc4850d5",
   "metadata": {},
   "outputs": [
    {
     "name": "stdout",
     "output_type": "stream",
     "text": [
      "[' 60 months' ' 36 months']\n",
      "[ 0. nan]\n",
      "[ 0. nan]\n",
      "[ 0. nan]\n"
     ]
    }
   ],
   "source": [
    "for c in lc_df.columns:\n",
    "    if len(lc_df[c].unique())==2:\n",
    "        print(lc_df[c].unique())"
   ]
  },
  {
   "cell_type": "code",
   "execution_count": 52,
   "id": "f9c63c0e",
   "metadata": {},
   "outputs": [
    {
     "name": "stdout",
     "output_type": "stream",
     "text": [
      "3 columns are dropped since they don't have meaningful unique values for analysis\n"
     ]
    }
   ],
   "source": [
    "no_uniq_cols=[\"collections_12_mths_ex_med\",\"chargeoff_within_12_mths\",\"tax_liens\"]\n",
    "lc_df.drop(no_uniq_cols,axis=1,inplace=True)\n",
    "print(f\"{len(no_uniq_cols)} columns are dropped since they don't have meaningful unique values for analysis\")"
   ]
  },
  {
   "cell_type": "code",
   "execution_count": 53,
   "id": "5a20ca7c",
   "metadata": {},
   "outputs": [
    {
     "name": "stdout",
     "output_type": "stream",
     "text": [
      "As a result of data cleaning, out of 111 columns, 42 columns exist.\n",
      "However it is important to select the most relevant columns out of these 42 for analysis\n"
     ]
    }
   ],
   "source": [
    "exis_cols=len(lc_df.columns)\n",
    "print(f\"As a result of data cleaning, out of {init_cols} columns, {exis_cols} columns exist.\\nHowever it is important to select the most relevant columns out of these {exis_cols} for analysis\")"
   ]
  },
  {
   "cell_type": "markdown",
   "id": "d269ca02",
   "metadata": {},
   "source": [
    "### **4. Selecting most relevant features as per business objective** \n",
    "### Additional features/columns will be added to the analysis in the future if it's found relevant"
   ]
  },
  {
   "cell_type": "code",
   "execution_count": 54,
   "id": "0d3b1ea2",
   "metadata": {},
   "outputs": [],
   "source": [
    "# Key features\n",
    "# id,loan_amnt,term,int_rate,installment,grade,sub_grade,emp_length,annual_inc,verification_status,purpose,zip_code,add_state\n",
    "# Here id is conidered for aggregation purpose\n",
    "req_features=[\"id\",\"loan_amnt\",\"term\",\"int_rate\",\"grade\",\"sub_grade\",\"home_ownership\",\"emp_length\",\"annual_inc\",\"verification_status\",\"purpose\",\"addr_state\",\"dti\",\"open_acc\",\"total_acc\",\"delinq_2yrs\"]\n",
    "lc_df = lc_df[req_features]"
   ]
  },
  {
   "cell_type": "code",
   "execution_count": 55,
   "id": "8f4c8d79",
   "metadata": {},
   "outputs": [
    {
     "data": {
      "text/html": [
       "<div>\n",
       "<style scoped>\n",
       "    .dataframe tbody tr th:only-of-type {\n",
       "        vertical-align: middle;\n",
       "    }\n",
       "\n",
       "    .dataframe tbody tr th {\n",
       "        vertical-align: top;\n",
       "    }\n",
       "\n",
       "    .dataframe thead th {\n",
       "        text-align: right;\n",
       "    }\n",
       "</style>\n",
       "<table border=\"1\" class=\"dataframe\">\n",
       "  <thead>\n",
       "    <tr style=\"text-align: right;\">\n",
       "      <th></th>\n",
       "      <th>id</th>\n",
       "      <th>loan_amnt</th>\n",
       "      <th>term</th>\n",
       "      <th>int_rate</th>\n",
       "      <th>grade</th>\n",
       "      <th>sub_grade</th>\n",
       "      <th>home_ownership</th>\n",
       "      <th>emp_length</th>\n",
       "      <th>annual_inc</th>\n",
       "      <th>verification_status</th>\n",
       "      <th>purpose</th>\n",
       "      <th>addr_state</th>\n",
       "      <th>dti</th>\n",
       "      <th>open_acc</th>\n",
       "      <th>total_acc</th>\n",
       "      <th>delinq_2yrs</th>\n",
       "    </tr>\n",
       "  </thead>\n",
       "  <tbody>\n",
       "    <tr>\n",
       "      <th>1</th>\n",
       "      <td>1077430</td>\n",
       "      <td>2500</td>\n",
       "      <td>60 months</td>\n",
       "      <td>15.27%</td>\n",
       "      <td>C</td>\n",
       "      <td>C4</td>\n",
       "      <td>RENT</td>\n",
       "      <td>&lt; 1 year</td>\n",
       "      <td>30000.0</td>\n",
       "      <td>Source Verified</td>\n",
       "      <td>car</td>\n",
       "      <td>GA</td>\n",
       "      <td>1.00</td>\n",
       "      <td>3</td>\n",
       "      <td>4</td>\n",
       "      <td>0</td>\n",
       "    </tr>\n",
       "    <tr>\n",
       "      <th>8</th>\n",
       "      <td>1071795</td>\n",
       "      <td>5600</td>\n",
       "      <td>60 months</td>\n",
       "      <td>21.28%</td>\n",
       "      <td>F</td>\n",
       "      <td>F2</td>\n",
       "      <td>OWN</td>\n",
       "      <td>4 years</td>\n",
       "      <td>40000.0</td>\n",
       "      <td>Source Verified</td>\n",
       "      <td>small_business</td>\n",
       "      <td>CA</td>\n",
       "      <td>5.55</td>\n",
       "      <td>11</td>\n",
       "      <td>13</td>\n",
       "      <td>0</td>\n",
       "    </tr>\n",
       "    <tr>\n",
       "      <th>9</th>\n",
       "      <td>1071570</td>\n",
       "      <td>5375</td>\n",
       "      <td>60 months</td>\n",
       "      <td>12.69%</td>\n",
       "      <td>B</td>\n",
       "      <td>B5</td>\n",
       "      <td>RENT</td>\n",
       "      <td>&lt; 1 year</td>\n",
       "      <td>15000.0</td>\n",
       "      <td>Verified</td>\n",
       "      <td>other</td>\n",
       "      <td>TX</td>\n",
       "      <td>18.08</td>\n",
       "      <td>2</td>\n",
       "      <td>3</td>\n",
       "      <td>0</td>\n",
       "    </tr>\n",
       "    <tr>\n",
       "      <th>12</th>\n",
       "      <td>1064687</td>\n",
       "      <td>9000</td>\n",
       "      <td>36 months</td>\n",
       "      <td>13.49%</td>\n",
       "      <td>C</td>\n",
       "      <td>C1</td>\n",
       "      <td>RENT</td>\n",
       "      <td>&lt; 1 year</td>\n",
       "      <td>30000.0</td>\n",
       "      <td>Source Verified</td>\n",
       "      <td>debt_consolidation</td>\n",
       "      <td>VA</td>\n",
       "      <td>10.08</td>\n",
       "      <td>4</td>\n",
       "      <td>9</td>\n",
       "      <td>0</td>\n",
       "    </tr>\n",
       "    <tr>\n",
       "      <th>14</th>\n",
       "      <td>1069057</td>\n",
       "      <td>10000</td>\n",
       "      <td>36 months</td>\n",
       "      <td>10.65%</td>\n",
       "      <td>B</td>\n",
       "      <td>B2</td>\n",
       "      <td>RENT</td>\n",
       "      <td>3 years</td>\n",
       "      <td>100000.0</td>\n",
       "      <td>Source Verified</td>\n",
       "      <td>other</td>\n",
       "      <td>CA</td>\n",
       "      <td>7.06</td>\n",
       "      <td>14</td>\n",
       "      <td>29</td>\n",
       "      <td>0</td>\n",
       "    </tr>\n",
       "  </tbody>\n",
       "</table>\n",
       "</div>"
      ],
      "text/plain": [
       "         id  loan_amnt        term int_rate grade sub_grade home_ownership  \\\n",
       "1   1077430       2500   60 months   15.27%     C        C4           RENT   \n",
       "8   1071795       5600   60 months   21.28%     F        F2            OWN   \n",
       "9   1071570       5375   60 months   12.69%     B        B5           RENT   \n",
       "12  1064687       9000   36 months   13.49%     C        C1           RENT   \n",
       "14  1069057      10000   36 months   10.65%     B        B2           RENT   \n",
       "\n",
       "   emp_length  annual_inc verification_status             purpose addr_state  \\\n",
       "1    < 1 year     30000.0     Source Verified                 car         GA   \n",
       "8     4 years     40000.0     Source Verified      small_business         CA   \n",
       "9    < 1 year     15000.0            Verified               other         TX   \n",
       "12   < 1 year     30000.0     Source Verified  debt_consolidation         VA   \n",
       "14    3 years    100000.0     Source Verified               other         CA   \n",
       "\n",
       "      dti  open_acc  total_acc  delinq_2yrs  \n",
       "1    1.00         3          4            0  \n",
       "8    5.55        11         13            0  \n",
       "9   18.08         2          3            0  \n",
       "12  10.08         4          9            0  \n",
       "14   7.06        14         29            0  "
      ]
     },
     "execution_count": 55,
     "metadata": {},
     "output_type": "execute_result"
    }
   ],
   "source": [
    "# Having a look at the data\n",
    "lc_df.head()"
   ]
  },
  {
   "cell_type": "code",
   "execution_count": 56,
   "id": "a3971cb4",
   "metadata": {},
   "outputs": [
    {
     "name": "stdout",
     "output_type": "stream",
     "text": [
      "<class 'pandas.core.frame.DataFrame'>\n",
      "Int64Index: 5627 entries, 1 to 39688\n",
      "Data columns (total 16 columns):\n",
      " #   Column               Non-Null Count  Dtype  \n",
      "---  ------               --------------  -----  \n",
      " 0   id                   5627 non-null   int64  \n",
      " 1   loan_amnt            5627 non-null   int64  \n",
      " 2   term                 5627 non-null   object \n",
      " 3   int_rate             5627 non-null   object \n",
      " 4   grade                5627 non-null   object \n",
      " 5   sub_grade            5627 non-null   object \n",
      " 6   home_ownership       5627 non-null   object \n",
      " 7   emp_length           5399 non-null   object \n",
      " 8   annual_inc           5627 non-null   float64\n",
      " 9   verification_status  5627 non-null   object \n",
      " 10  purpose              5627 non-null   object \n",
      " 11  addr_state           5627 non-null   object \n",
      " 12  dti                  5627 non-null   float64\n",
      " 13  open_acc             5627 non-null   int64  \n",
      " 14  total_acc            5627 non-null   int64  \n",
      " 15  delinq_2yrs          5627 non-null   int64  \n",
      "dtypes: float64(2), int64(5), object(9)\n",
      "memory usage: 747.3+ KB\n"
     ]
    },
    {
     "data": {
      "text/html": [
       "<div>\n",
       "<style scoped>\n",
       "    .dataframe tbody tr th:only-of-type {\n",
       "        vertical-align: middle;\n",
       "    }\n",
       "\n",
       "    .dataframe tbody tr th {\n",
       "        vertical-align: top;\n",
       "    }\n",
       "\n",
       "    .dataframe thead th {\n",
       "        text-align: right;\n",
       "    }\n",
       "</style>\n",
       "<table border=\"1\" class=\"dataframe\">\n",
       "  <thead>\n",
       "    <tr style=\"text-align: right;\">\n",
       "      <th></th>\n",
       "      <th>id</th>\n",
       "      <th>loan_amnt</th>\n",
       "      <th>annual_inc</th>\n",
       "      <th>dti</th>\n",
       "      <th>open_acc</th>\n",
       "      <th>total_acc</th>\n",
       "      <th>delinq_2yrs</th>\n",
       "    </tr>\n",
       "  </thead>\n",
       "  <tbody>\n",
       "    <tr>\n",
       "      <th>count</th>\n",
       "      <td>5.627000e+03</td>\n",
       "      <td>5627.000000</td>\n",
       "      <td>5.627000e+03</td>\n",
       "      <td>5627.000000</td>\n",
       "      <td>5627.000000</td>\n",
       "      <td>5627.000000</td>\n",
       "      <td>5627.000000</td>\n",
       "    </tr>\n",
       "    <tr>\n",
       "      <th>mean</th>\n",
       "      <td>6.978440e+05</td>\n",
       "      <td>12104.385108</td>\n",
       "      <td>6.242730e+04</td>\n",
       "      <td>14.000624</td>\n",
       "      <td>9.178070</td>\n",
       "      <td>21.427581</td>\n",
       "      <td>0.170606</td>\n",
       "    </tr>\n",
       "    <tr>\n",
       "      <th>std</th>\n",
       "      <td>2.163767e+05</td>\n",
       "      <td>8085.732038</td>\n",
       "      <td>4.777601e+04</td>\n",
       "      <td>6.585577</td>\n",
       "      <td>4.525937</td>\n",
       "      <td>11.447427</td>\n",
       "      <td>0.534986</td>\n",
       "    </tr>\n",
       "    <tr>\n",
       "      <th>min</th>\n",
       "      <td>6.141900e+04</td>\n",
       "      <td>900.000000</td>\n",
       "      <td>4.080000e+03</td>\n",
       "      <td>0.000000</td>\n",
       "      <td>2.000000</td>\n",
       "      <td>2.000000</td>\n",
       "      <td>0.000000</td>\n",
       "    </tr>\n",
       "    <tr>\n",
       "      <th>25%</th>\n",
       "      <td>5.297245e+05</td>\n",
       "      <td>5600.000000</td>\n",
       "      <td>3.700000e+04</td>\n",
       "      <td>9.050000</td>\n",
       "      <td>6.000000</td>\n",
       "      <td>13.000000</td>\n",
       "      <td>0.000000</td>\n",
       "    </tr>\n",
       "    <tr>\n",
       "      <th>50%</th>\n",
       "      <td>6.969370e+05</td>\n",
       "      <td>10000.000000</td>\n",
       "      <td>5.300000e+04</td>\n",
       "      <td>14.290000</td>\n",
       "      <td>8.000000</td>\n",
       "      <td>20.000000</td>\n",
       "      <td>0.000000</td>\n",
       "    </tr>\n",
       "    <tr>\n",
       "      <th>75%</th>\n",
       "      <td>8.548760e+05</td>\n",
       "      <td>16500.000000</td>\n",
       "      <td>7.500000e+04</td>\n",
       "      <td>19.290000</td>\n",
       "      <td>12.000000</td>\n",
       "      <td>28.000000</td>\n",
       "      <td>0.000000</td>\n",
       "    </tr>\n",
       "    <tr>\n",
       "      <th>max</th>\n",
       "      <td>1.077430e+06</td>\n",
       "      <td>35000.000000</td>\n",
       "      <td>1.250000e+06</td>\n",
       "      <td>29.850000</td>\n",
       "      <td>38.000000</td>\n",
       "      <td>74.000000</td>\n",
       "      <td>8.000000</td>\n",
       "    </tr>\n",
       "  </tbody>\n",
       "</table>\n",
       "</div>"
      ],
      "text/plain": [
       "                 id     loan_amnt    annual_inc          dti     open_acc  \\\n",
       "count  5.627000e+03   5627.000000  5.627000e+03  5627.000000  5627.000000   \n",
       "mean   6.978440e+05  12104.385108  6.242730e+04    14.000624     9.178070   \n",
       "std    2.163767e+05   8085.732038  4.777601e+04     6.585577     4.525937   \n",
       "min    6.141900e+04    900.000000  4.080000e+03     0.000000     2.000000   \n",
       "25%    5.297245e+05   5600.000000  3.700000e+04     9.050000     6.000000   \n",
       "50%    6.969370e+05  10000.000000  5.300000e+04    14.290000     8.000000   \n",
       "75%    8.548760e+05  16500.000000  7.500000e+04    19.290000    12.000000   \n",
       "max    1.077430e+06  35000.000000  1.250000e+06    29.850000    38.000000   \n",
       "\n",
       "         total_acc  delinq_2yrs  \n",
       "count  5627.000000  5627.000000  \n",
       "mean     21.427581     0.170606  \n",
       "std      11.447427     0.534986  \n",
       "min       2.000000     0.000000  \n",
       "25%      13.000000     0.000000  \n",
       "50%      20.000000     0.000000  \n",
       "75%      28.000000     0.000000  \n",
       "max      74.000000     8.000000  "
      ]
     },
     "execution_count": 56,
     "metadata": {},
     "output_type": "execute_result"
    }
   ],
   "source": [
    "# Understanding the data and data types\n",
    "lc_df.info(verbose=True,show_counts=True)\n",
    "lc_df.describe()"
   ]
  },
  {
   "cell_type": "markdown",
   "id": "b2dec733",
   "metadata": {},
   "source": [
    "### **5. Missing value imputation**"
   ]
  },
  {
   "cell_type": "markdown",
   "id": "2061aa94",
   "metadata": {},
   "source": [
    "### There are some columns which have missing values,Therefore understanding the number of missing values in these columns"
   ]
  },
  {
   "cell_type": "code",
   "execution_count": 57,
   "id": "85612a44",
   "metadata": {},
   "outputs": [
    {
     "name": "stdout",
     "output_type": "stream",
     "text": [
      "The missing values in columns is :\n",
      " {'emp_length': 228}\n"
     ]
    }
   ],
   "source": [
    "empty_cols=lc_df.columns[lc_df.isna().any()].tolist()\n",
    "empty_vals=[lc_df[col].isna().sum() for col in empty_cols]\n",
    "empty_per_dict=dict(zip(empty_cols,empty_vals))\n",
    "print(\"The missing values in columns is :\\n\",empty_per_dict)"
   ]
  },
  {
   "cell_type": "markdown",
   "id": "05ff742f",
   "metadata": {},
   "source": [
    "#### It is observed that in selected columns for analysis, 'emp_length' column has some missing data"
   ]
  },
  {
   "cell_type": "code",
   "execution_count": 58,
   "id": "907a5e12",
   "metadata": {},
   "outputs": [
    {
     "data": {
      "text/plain": [
       "10+ years    1331\n",
       "< 1 year      639\n",
       "2 years       567\n",
       "3 years       555\n",
       "4 years       462\n",
       "5 years       458\n",
       "1 year        456\n",
       "6 years       307\n",
       "7 years       263\n",
       "8 years       203\n",
       "9 years       158\n",
       "Name: emp_length, dtype: int64"
      ]
     },
     "execution_count": 58,
     "metadata": {},
     "output_type": "execute_result"
    }
   ],
   "source": [
    "# As the number of missing data is less, missing value imputation can be done\n",
    "# Checking the values in emp_length column\n",
    "lc_df[\"emp_length\"].value_counts()"
   ]
  },
  {
   "cell_type": "code",
   "execution_count": 59,
   "id": "67bbf045",
   "metadata": {},
   "outputs": [],
   "source": [
    "# As the most recurring value is 10+years, adding 10+ years whereever the data is missing\n",
    "lc_df[\"emp_length\"] = lc_df[\"emp_length\"].fillna(lc_df[\"emp_length\"].value_counts().index[0])"
   ]
  },
  {
   "cell_type": "markdown",
   "id": "722fdd07",
   "metadata": {},
   "source": [
    "### **6. Understanding variables and their datatypes**"
   ]
  },
  {
   "cell_type": "code",
   "execution_count": 60,
   "id": "ece1a849",
   "metadata": {},
   "outputs": [
    {
     "name": "stdout",
     "output_type": "stream",
     "text": [
      "<class 'pandas.core.frame.DataFrame'>\n",
      "Int64Index: 5627 entries, 1 to 39688\n",
      "Data columns (total 16 columns):\n",
      " #   Column               Dtype  \n",
      "---  ------               -----  \n",
      " 0   id                   int64  \n",
      " 1   loan_amnt            int64  \n",
      " 2   term                 object \n",
      " 3   int_rate             object \n",
      " 4   grade                object \n",
      " 5   sub_grade            object \n",
      " 6   home_ownership       object \n",
      " 7   emp_length           object \n",
      " 8   annual_inc           float64\n",
      " 9   verification_status  object \n",
      " 10  purpose              object \n",
      " 11  addr_state           object \n",
      " 12  dti                  float64\n",
      " 13  open_acc             int64  \n",
      " 14  total_acc            int64  \n",
      " 15  delinq_2yrs          int64  \n",
      "dtypes: float64(2), int64(5), object(9)\n",
      "memory usage: 747.3+ KB\n"
     ]
    }
   ],
   "source": [
    "#Understanding the datatypes in the dataframe\n",
    "lc_df.info(verbose=True,show_counts=False)"
   ]
  },
  {
   "cell_type": "code",
   "execution_count": 61,
   "id": "0cc65b2f",
   "metadata": {},
   "outputs": [],
   "source": [
    "# Removing % and converting to float\n",
    "lc_df[\"int_rate\"]=lc_df[\"int_rate\"].str.replace(\"%\",\"\").astype(float)"
   ]
  },
  {
   "cell_type": "markdown",
   "id": "5140c101",
   "metadata": {},
   "source": [
    "### **Understanding type of variable for analysis**\n",
    "1. **Numeric Data** : <br>\n",
    "loan_amt,int_rate,installment,annual_inc,dti\n",
    "\n",
    "2. **Ordered Categorical Data** : <br>\n",
    "term,grade,sub_grade,emp_length,verification_status,open_acc,total_acc,delinq_2yrs,earliest_cr_line\n",
    "\n",
    "3. **Unordered Categorical Data** : <br>\n",
    "home_ownership,purpose,zip_code,addr_state\n",
    "\n",
    "*id column can be used as a unique row identifier*"
   ]
  },
  {
   "cell_type": "code",
   "execution_count": 62,
   "id": "43f01d41",
   "metadata": {},
   "outputs": [],
   "source": [
    "#Declaring type of variables\n",
    "numeric_data=[\"loan_amnt\",\"int_rate\",\"annual_inc\",\"dti\"]\n",
    "ordered_cat_data=[\"term\",\"grade\",\"sub_grade\",\"emp_length\",\"open_acc\",\"total_acc\",\"delinq_2yrs\",\"earliest_cr_line\"]\n",
    "unordered_cat_data=[\"home_ownership\",\"purpose\",\"verification_status\",\"zip_code\",\"addr_state\"]"
   ]
  },
  {
   "cell_type": "markdown",
   "id": "6f3e6114",
   "metadata": {},
   "source": [
    "### **7. Data Distribution and Outlier Correction for Numeric Data**"
   ]
  },
  {
   "cell_type": "code",
   "execution_count": 63,
   "id": "44c7cb1f",
   "metadata": {},
   "outputs": [
    {
     "data": {
      "image/png": "[encoded data removed]",
      "text/plain": [
       "<Figure size 432x288 with 1 Axes>"
      ]
     },
     "metadata": {
      "needs_background": "light"
     },
     "output_type": "display_data"
    },
    {
     "data": {
      "image/png": "[encoded data removed]",
      "text/plain": [
       "<Figure size 432x288 with 1 Axes>"
      ]
     },
     "metadata": {
      "needs_background": "light"
     },
     "output_type": "display_data"
    },
    {
     "data": {
      "image/png": "[encoded data removed]",
      "text/plain": [
       "<Figure size 432x288 with 1 Axes>"
      ]
     },
     "metadata": {
      "needs_background": "light"
     },
     "output_type": "display_data"
    },
    {
     "data": {
      "image/png": "[encoded data removed]",
      "text/plain": [
       "<Figure size 432x288 with 1 Axes>"
      ]
     },
     "metadata": {
      "needs_background": "light"
     },
     "output_type": "display_data"
    }
   ],
   "source": [
    "#Checking the distributions for numeric data\n",
    "#Function to plot box plots taking dataframe and columns as input\n",
    "def box_plot_col(df,cols):\n",
    "    for col in cols:\n",
    "        plt.boxplot(df[col])\n",
    "        plt.xlabel(col)\n",
    "        plt.show()\n",
    "box_plot_col(lc_df,numeric_data)"
   ]
  },
  {
   "cell_type": "markdown",
   "id": "35c8e1f5",
   "metadata": {},
   "source": [
    "### Outliers are detected in the box plot for some variables, it is important to remove outliers in the data based on a  IQR "
   ]
  },
  {
   "cell_type": "code",
   "execution_count": 64,
   "id": "f07e0117",
   "metadata": {},
   "outputs": [
    {
     "name": "stdout",
     "output_type": "stream",
     "text": [
      "103 data points were removed because they were outliers in the numeric data columns\n"
     ]
    }
   ],
   "source": [
    "#Remove outliers based on IQR (Taking Threshold as 15%)\n",
    "def remove_outliers(df,cols):\n",
    "    for col in cols:\n",
    "        ser=df[col]\n",
    "        Q1 = ser.quantile(0.15)\n",
    "        Q3 = ser.quantile(0.85)\n",
    "        IQR = Q3 - Q1\n",
    "        df = df[~(ser > (Q3 + 1.5 * IQR))]\n",
    "    return df\n",
    "lc_df=remove_outliers(lc_df,numeric_data)\n",
    "removed_data_points=len(loan_df)-len(lc_df)\n",
    "print(f\"{removed_data_points} data points were removed because they were outliers in the numeric data columns\")"
   ]
  },
  {
   "cell_type": "markdown",
   "id": "9ba3d969",
   "metadata": {},
   "source": [
    "### Univariate Analysis"
   ]
  },
  {
   "cell_type": "code",
   "execution_count": 65,
   "id": "5b22cfe1",
   "metadata": {},
   "outputs": [
    {
     "data": {
      "text/html": [
       "<div>\n",
       "<style scoped>\n",
       "    .dataframe tbody tr th:only-of-type {\n",
       "        vertical-align: middle;\n",
       "    }\n",
       "\n",
       "    .dataframe tbody tr th {\n",
       "        vertical-align: top;\n",
       "    }\n",
       "\n",
       "    .dataframe thead th {\n",
       "        text-align: right;\n",
       "    }\n",
       "</style>\n",
       "<table border=\"1\" class=\"dataframe\">\n",
       "  <thead>\n",
       "    <tr style=\"text-align: right;\">\n",
       "      <th></th>\n",
       "      <th>id</th>\n",
       "      <th>loan_amnt</th>\n",
       "      <th>term</th>\n",
       "      <th>int_rate</th>\n",
       "      <th>grade</th>\n",
       "      <th>sub_grade</th>\n",
       "      <th>home_ownership</th>\n",
       "      <th>emp_length</th>\n",
       "      <th>annual_inc</th>\n",
       "      <th>verification_status</th>\n",
       "      <th>purpose</th>\n",
       "      <th>addr_state</th>\n",
       "      <th>dti</th>\n",
       "      <th>open_acc</th>\n",
       "      <th>total_acc</th>\n",
       "      <th>delinq_2yrs</th>\n",
       "    </tr>\n",
       "  </thead>\n",
       "  <tbody>\n",
       "    <tr>\n",
       "      <th>1</th>\n",
       "      <td>1077430</td>\n",
       "      <td>2500</td>\n",
       "      <td>60 months</td>\n",
       "      <td>15.27</td>\n",
       "      <td>C</td>\n",
       "      <td>C4</td>\n",
       "      <td>RENT</td>\n",
       "      <td>&lt; 1 year</td>\n",
       "      <td>30000.0</td>\n",
       "      <td>Source Verified</td>\n",
       "      <td>car</td>\n",
       "      <td>GA</td>\n",
       "      <td>1.00</td>\n",
       "      <td>3</td>\n",
       "      <td>4</td>\n",
       "      <td>0</td>\n",
       "    </tr>\n",
       "    <tr>\n",
       "      <th>8</th>\n",
       "      <td>1071795</td>\n",
       "      <td>5600</td>\n",
       "      <td>60 months</td>\n",
       "      <td>21.28</td>\n",
       "      <td>F</td>\n",
       "      <td>F2</td>\n",
       "      <td>OWN</td>\n",
       "      <td>4 years</td>\n",
       "      <td>40000.0</td>\n",
       "      <td>Source Verified</td>\n",
       "      <td>small_business</td>\n",
       "      <td>CA</td>\n",
       "      <td>5.55</td>\n",
       "      <td>11</td>\n",
       "      <td>13</td>\n",
       "      <td>0</td>\n",
       "    </tr>\n",
       "    <tr>\n",
       "      <th>9</th>\n",
       "      <td>1071570</td>\n",
       "      <td>5375</td>\n",
       "      <td>60 months</td>\n",
       "      <td>12.69</td>\n",
       "      <td>B</td>\n",
       "      <td>B5</td>\n",
       "      <td>RENT</td>\n",
       "      <td>&lt; 1 year</td>\n",
       "      <td>15000.0</td>\n",
       "      <td>Verified</td>\n",
       "      <td>other</td>\n",
       "      <td>TX</td>\n",
       "      <td>18.08</td>\n",
       "      <td>2</td>\n",
       "      <td>3</td>\n",
       "      <td>0</td>\n",
       "    </tr>\n",
       "    <tr>\n",
       "      <th>12</th>\n",
       "      <td>1064687</td>\n",
       "      <td>9000</td>\n",
       "      <td>36 months</td>\n",
       "      <td>13.49</td>\n",
       "      <td>C</td>\n",
       "      <td>C1</td>\n",
       "      <td>RENT</td>\n",
       "      <td>&lt; 1 year</td>\n",
       "      <td>30000.0</td>\n",
       "      <td>Source Verified</td>\n",
       "      <td>debt_consolidation</td>\n",
       "      <td>VA</td>\n",
       "      <td>10.08</td>\n",
       "      <td>4</td>\n",
       "      <td>9</td>\n",
       "      <td>0</td>\n",
       "    </tr>\n",
       "    <tr>\n",
       "      <th>14</th>\n",
       "      <td>1069057</td>\n",
       "      <td>10000</td>\n",
       "      <td>36 months</td>\n",
       "      <td>10.65</td>\n",
       "      <td>B</td>\n",
       "      <td>B2</td>\n",
       "      <td>RENT</td>\n",
       "      <td>3 years</td>\n",
       "      <td>100000.0</td>\n",
       "      <td>Source Verified</td>\n",
       "      <td>other</td>\n",
       "      <td>CA</td>\n",
       "      <td>7.06</td>\n",
       "      <td>14</td>\n",
       "      <td>29</td>\n",
       "      <td>0</td>\n",
       "    </tr>\n",
       "    <tr>\n",
       "      <th>...</th>\n",
       "      <td>...</td>\n",
       "      <td>...</td>\n",
       "      <td>...</td>\n",
       "      <td>...</td>\n",
       "      <td>...</td>\n",
       "      <td>...</td>\n",
       "      <td>...</td>\n",
       "      <td>...</td>\n",
       "      <td>...</td>\n",
       "      <td>...</td>\n",
       "      <td>...</td>\n",
       "      <td>...</td>\n",
       "      <td>...</td>\n",
       "      <td>...</td>\n",
       "      <td>...</td>\n",
       "      <td>...</td>\n",
       "    </tr>\n",
       "    <tr>\n",
       "      <th>39666</th>\n",
       "      <td>119043</td>\n",
       "      <td>15450</td>\n",
       "      <td>36 months</td>\n",
       "      <td>11.22</td>\n",
       "      <td>C</td>\n",
       "      <td>C4</td>\n",
       "      <td>MORTGAGE</td>\n",
       "      <td>2 years</td>\n",
       "      <td>40000.0</td>\n",
       "      <td>Not Verified</td>\n",
       "      <td>debt_consolidation</td>\n",
       "      <td>VA</td>\n",
       "      <td>13.50</td>\n",
       "      <td>13</td>\n",
       "      <td>29</td>\n",
       "      <td>0</td>\n",
       "    </tr>\n",
       "    <tr>\n",
       "      <th>39667</th>\n",
       "      <td>118823</td>\n",
       "      <td>2500</td>\n",
       "      <td>36 months</td>\n",
       "      <td>12.80</td>\n",
       "      <td>D</td>\n",
       "      <td>D4</td>\n",
       "      <td>MORTGAGE</td>\n",
       "      <td>&lt; 1 year</td>\n",
       "      <td>32000.0</td>\n",
       "      <td>Not Verified</td>\n",
       "      <td>home_improvement</td>\n",
       "      <td>NE</td>\n",
       "      <td>20.00</td>\n",
       "      <td>11</td>\n",
       "      <td>32</td>\n",
       "      <td>0</td>\n",
       "    </tr>\n",
       "    <tr>\n",
       "      <th>39668</th>\n",
       "      <td>118533</td>\n",
       "      <td>2500</td>\n",
       "      <td>36 months</td>\n",
       "      <td>9.64</td>\n",
       "      <td>B</td>\n",
       "      <td>B4</td>\n",
       "      <td>MORTGAGE</td>\n",
       "      <td>&lt; 1 year</td>\n",
       "      <td>75000.0</td>\n",
       "      <td>Not Verified</td>\n",
       "      <td>home_improvement</td>\n",
       "      <td>NE</td>\n",
       "      <td>20.00</td>\n",
       "      <td>9</td>\n",
       "      <td>35</td>\n",
       "      <td>0</td>\n",
       "    </tr>\n",
       "    <tr>\n",
       "      <th>39678</th>\n",
       "      <td>113179</td>\n",
       "      <td>1000</td>\n",
       "      <td>36 months</td>\n",
       "      <td>10.59</td>\n",
       "      <td>C</td>\n",
       "      <td>C2</td>\n",
       "      <td>MORTGAGE</td>\n",
       "      <td>2 years</td>\n",
       "      <td>33990.0</td>\n",
       "      <td>Not Verified</td>\n",
       "      <td>wedding</td>\n",
       "      <td>VA</td>\n",
       "      <td>14.47</td>\n",
       "      <td>9</td>\n",
       "      <td>11</td>\n",
       "      <td>0</td>\n",
       "    </tr>\n",
       "    <tr>\n",
       "      <th>39688</th>\n",
       "      <td>111227</td>\n",
       "      <td>20000</td>\n",
       "      <td>36 months</td>\n",
       "      <td>13.43</td>\n",
       "      <td>E</td>\n",
       "      <td>E1</td>\n",
       "      <td>MORTGAGE</td>\n",
       "      <td>6 years</td>\n",
       "      <td>145000.0</td>\n",
       "      <td>Not Verified</td>\n",
       "      <td>credit_card</td>\n",
       "      <td>FL</td>\n",
       "      <td>10.15</td>\n",
       "      <td>17</td>\n",
       "      <td>26</td>\n",
       "      <td>0</td>\n",
       "    </tr>\n",
       "  </tbody>\n",
       "</table>\n",
       "<p>5524 rows × 16 columns</p>\n",
       "</div>"
      ],
      "text/plain": [
       "            id  loan_amnt        term  int_rate grade sub_grade  \\\n",
       "1      1077430       2500   60 months     15.27     C        C4   \n",
       "8      1071795       5600   60 months     21.28     F        F2   \n",
       "9      1071570       5375   60 months     12.69     B        B5   \n",
       "12     1064687       9000   36 months     13.49     C        C1   \n",
       "14     1069057      10000   36 months     10.65     B        B2   \n",
       "...        ...        ...         ...       ...   ...       ...   \n",
       "39666   119043      15450   36 months     11.22     C        C4   \n",
       "39667   118823       2500   36 months     12.80     D        D4   \n",
       "39668   118533       2500   36 months      9.64     B        B4   \n",
       "39678   113179       1000   36 months     10.59     C        C2   \n",
       "39688   111227      20000   36 months     13.43     E        E1   \n",
       "\n",
       "      home_ownership emp_length  annual_inc verification_status  \\\n",
       "1               RENT   < 1 year     30000.0     Source Verified   \n",
       "8                OWN    4 years     40000.0     Source Verified   \n",
       "9               RENT   < 1 year     15000.0            Verified   \n",
       "12              RENT   < 1 year     30000.0     Source Verified   \n",
       "14              RENT    3 years    100000.0     Source Verified   \n",
       "...              ...        ...         ...                 ...   \n",
       "39666       MORTGAGE    2 years     40000.0        Not Verified   \n",
       "39667       MORTGAGE   < 1 year     32000.0        Not Verified   \n",
       "39668       MORTGAGE   < 1 year     75000.0        Not Verified   \n",
       "39678       MORTGAGE    2 years     33990.0        Not Verified   \n",
       "39688       MORTGAGE    6 years    145000.0        Not Verified   \n",
       "\n",
       "                  purpose addr_state    dti  open_acc  total_acc  delinq_2yrs  \n",
       "1                     car         GA   1.00         3          4            0  \n",
       "8          small_business         CA   5.55        11         13            0  \n",
       "9                   other         TX  18.08         2          3            0  \n",
       "12     debt_consolidation         VA  10.08         4          9            0  \n",
       "14                  other         CA   7.06        14         29            0  \n",
       "...                   ...        ...    ...       ...        ...          ...  \n",
       "39666  debt_consolidation         VA  13.50        13         29            0  \n",
       "39667    home_improvement         NE  20.00        11         32            0  \n",
       "39668    home_improvement         NE  20.00         9         35            0  \n",
       "39678             wedding         VA  14.47         9         11            0  \n",
       "39688         credit_card         FL  10.15        17         26            0  \n",
       "\n",
       "[5524 rows x 16 columns]"
      ]
     },
     "execution_count": 65,
     "metadata": {},
     "output_type": "execute_result"
    }
   ],
   "source": [
    "lc_df"
   ]
  },
  {
   "cell_type": "code",
   "execution_count": 66,
   "id": "58d591f1",
   "metadata": {},
   "outputs": [
    {
     "data": {
      "image/png": "[encoded data removed]",
      "text/plain": [
       "<Figure size 1080x360 with 1 Axes>"
      ]
     },
     "metadata": {
      "needs_background": "light"
     },
     "output_type": "display_data"
    },
    {
     "data": {
      "image/png": "[encoded data removed]",
      "text/plain": [
       "<Figure size 1080x360 with 1 Axes>"
      ]
     },
     "metadata": {
      "needs_background": "light"
     },
     "output_type": "display_data"
    },
    {
     "data": {
      "image/png": "[encoded data removed]",
      "text/plain": [
       "<Figure size 1080x360 with 1 Axes>"
      ]
     },
     "metadata": {
      "needs_background": "light"
     },
     "output_type": "display_data"
    },
    {
     "data": {
      "image/png": "[encoded data removed]",
      "text/plain": [
       "<Figure size 1080x360 with 1 Axes>"
      ]
     },
     "metadata": {
      "needs_background": "light"
     },
     "output_type": "display_data"
    },
    {
     "data": {
      "image/png": "[encoded data removed]",
      "text/plain": [
       "<Figure size 1080x360 with 1 Axes>"
      ]
     },
     "metadata": {
      "needs_background": "light"
     },
     "output_type": "display_data"
    },
    {
     "data": {
      "image/png": "[encoded data removed]",
      "text/plain": [
       "<Figure size 1080x360 with 1 Axes>"
      ]
     },
     "metadata": {
      "needs_background": "light"
     },
     "output_type": "display_data"
    },
    {
     "data": {
      "image/png": "[encoded data removed]",
      "text/plain": [
       "<Figure size 1080x360 with 1 Axes>"
      ]
     },
     "metadata": {
      "needs_background": "light"
     },
     "output_type": "display_data"
    },
    {
     "data": {
      "image/png": "[encoded data removed]",
      "text/plain": [
       "<Figure size 1080x360 with 1 Axes>"
      ]
     },
     "metadata": {
      "needs_background": "light"
     },
     "output_type": "display_data"
    },
    {
     "data": {
      "image/png": "[encoded data removed]",
      "text/plain": [
       "<Figure size 1080x360 with 1 Axes>"
      ]
     },
     "metadata": {
      "needs_background": "light"
     },
     "output_type": "display_data"
    },
    {
     "data": {
      "image/png": "[encoded data removed]",
      "text/plain": [
       "<Figure size 1080x360 with 1 Axes>"
      ]
     },
     "metadata": {
      "needs_background": "light"
     },
     "output_type": "display_data"
    },
    {
     "data": {
      "image/png": "[encoded data removed]",
      "text/plain": [
       "<Figure size 1080x360 with 1 Axes>"
      ]
     },
     "metadata": {
      "needs_background": "light"
     },
     "output_type": "display_data"
    },
    {
     "data": {
      "image/png": "[encoded data removed]",
      "text/plain": [
       "<Figure size 1080x360 with 1 Axes>"
      ]
     },
     "metadata": {
      "needs_background": "light"
     },
     "output_type": "display_data"
    },
    {
     "data": {
      "image/png": "[encoded data removed]",
      "text/plain": [
       "<Figure size 1080x360 with 1 Axes>"
      ]
     },
     "metadata": {
      "needs_background": "light"
     },
     "output_type": "display_data"
    },
    {
     "data": {
      "image/png": "[encoded data removed]",
      "text/plain": [
       "<Figure size 1080x360 with 1 Axes>"
      ]
     },
     "metadata": {
      "needs_background": "light"
     },
     "output_type": "display_data"
    }
   ],
   "source": [
    "for col in lc_df.columns:\n",
    "    if col in ['loan_amnt', 'term', 'int_rate', 'grade',\n",
    "       'sub_grade', 'home_ownership', 'emp_length', 'loan_status',\n",
    "       'annual_inc', 'verification_status', 'purpose', 'dti', 'open_acc', 'total_acc', 'delinq_2yrs',]:\n",
    "        plt.figure(figsize=(15,5))\n",
    "        if col in numeric_data:\n",
    "            n,bins,_=plt.hist(lc_df[col])\n",
    "            plt.xticks(bins,fontsize=12,rotation = 45)\n",
    "        else:\n",
    "            plt.bar(lc_df[col].value_counts().index,lc_df[col].value_counts().values)\n",
    "            plt.xticks(fontsize=12,rotation = 45)\n",
    "        plt.title(col)\n",
    "        plt.ylabel(\"Frequency\",fontsize=12)\n",
    "        plt.yticks(fontsize=12)\n",
    "        plt.show()"
   ]
  },
  {
   "cell_type": "markdown",
   "id": "21bc2e6e",
   "metadata": {},
   "source": [
    "## Inferences from univariate analysis\n",
    "### 1. Majority of charged off loan amounts are taken between 4000 to 11000\n",
    "### 2. Loans taken for term of 36 months have more charged off customers compared to loan term of 60 months\n",
    "### 3. More charged off people take loans in 11-15% interest rate\n",
    "### 4. Loans offered in B,C,D grades have high charged off customers with B5 sub grade having the highest\n",
    "### 5. People with rented or mortgaged homes are mostly charging off compared to other categories\n",
    "### 6. Employees with experience more than 10 years majorly charge off\n",
    "### 7. Employees having annual income between 40000 to 55000 majorly charge off\n",
    "### 8. People taking loans for debt consolidation are significantly charge off more\n",
    "### 9. Customers whose data is not verified tend to charge off more\n",
    "### 10. Customers whose dti is between 12-21 charge off more compared to other dti ratios\n",
    "\n"
   ]
  },
  {
   "cell_type": "markdown",
   "id": "6d5bbd63",
   "metadata": {},
   "source": [
    "## **8. Bivariate Analysis**"
   ]
  },
  {
   "cell_type": "markdown",
   "id": "e2e263ca",
   "metadata": {},
   "source": [
    "### Since univariate analysis is not fully indicative of the business objective to find out the driving variables for charged off customers, \n",
    "### We are visualizing the insights with respect to **fully paid** and **charged off** customers"
   ]
  },
  {
   "cell_type": "code",
   "execution_count": null,
   "id": "cb123fcc",
   "metadata": {},
   "outputs": [],
   "source": [
    "# Functions for plotting bar chart for categorical variables\n",
    "\n",
    "def plot_bar_cat(df,index_name,column_name,width,x_lbl_rotation):\n",
    "    pivot=pd.pivot_table(lc_df,values=\"id\",index=index_name,columns=column_name,aggfunc=lambda x: len(x.unique()))\n",
    "    plt.figure(figsize=(15,5))\n",
    "    x_label = pivot.index\n",
    "    x_data = np.arange(len(x_label)) # create values from 0 to len(x_label) - 1\n",
    "    #height_data = (df[df[\"loan_status\"]==\"Fully Paid\"][column_name].value_counts().values,df[df[\"loan_status\"]==\"Charged Off\"][column_name].value_counts().values)\n",
    "    chart=[]\n",
    "    for j,i in enumerate(pivot.columns):\n",
    "        chart.append(plt.bar(x_data + j*(width), pivot[i],width=width,align=\"edge\"))\n",
    "    plt.xlabel(index_name,fontsize=22)\n",
    "    plt.ylabel(\"Frequency\",fontsize=22)\n",
    "    x_label_pos = x_data + (len(pivot.columns)*width)/2\n",
    "    plt.xticks(x_label_pos ,x_label,fontsize=15,rotation = x_lbl_rotation)\n",
    "    plt.yticks(fontsize=15)\n",
    "    plt.legend(chart,pivot.columns,fontsize=15)\n",
    "    plt.show()\n",
    "\n",
    "ord_cat_plot_cols=ordered_cat_data.copy()\n",
    "for col in ord_cat_plot_cols:\n",
    "    if col not in [\"earliest_cr_line\",\"loan_status\",\"open_acc\",\"total_acc\"]:\n",
    "        plot_bar_cat(lc_df,col,\"loan_status\",0.1,45)"
   ]
  },
  {
   "cell_type": "markdown",
   "id": "76df852b",
   "metadata": {},
   "source": [
    "### **Inferences from bivariate analysis on ordered categorical variables**\n",
    "1. The number of charged off people are more when the term of loan is 36 months as compared to 60 months *(Probably paying more installment amounts might be difficult)*<br>\n",
    "2. Very few people are interested to take loans beyond D grade. In B,C & D loan grades,the charged off customers remain almost the same but the number of fully paid customers reduce *(Probably due to increase in risk and volatality of these loan grades, Source - https://www.lendingclub.com/foliofn/rateDetail.action)*<br>\n",
    "3. Majority of the charged of customers either have 10+ years of experience *(Probably due to other existing credit lines) or they have less than or equal to 1 year of experience*(Probably due poor financial management)*<br>\n",
    "4. Majority of customers have no history of deliquency within 2 years, *(Probably because LC might be cautious in providing loans to people having history of deliquency)*"
   ]
  },
  {
   "cell_type": "code",
   "execution_count": null,
   "id": "85208ee6",
   "metadata": {},
   "outputs": [],
   "source": [
    "#Unordered categorical variables\n",
    "for i in unordered_cat_data:\n",
    "    x_data = np.arange(1,len(lc_df[i].value_counts())+1)\n",
    "    y_data = lc_df[i].value_counts().values\n",
    "    plt.loglog(x_data,y_data)\n",
    "    plt.xlabel(\"log (Rank)\")\n",
    "    plt.ylabel(\"log (Frequency)\")\n",
    "    plt.title(i)\n",
    "    plt.show()"
   ]
  },
  {
   "cell_type": "code",
   "execution_count": null,
   "id": "505163b3",
   "metadata": {},
   "outputs": [],
   "source": [
    "# From the rank vs frequency plots it can be inferred that purpose follows nearly power law distribution"
   ]
  },
  {
   "cell_type": "code",
   "execution_count": null,
   "id": "a4c5fb92",
   "metadata": {},
   "outputs": [],
   "source": [
    "# Plotting bar chart for unordered categorical variables\n",
    "for col in unordered_cat_data:\n",
    "    if col not in (\"zip_code\",\"addr_state\"):\n",
    "        plot_bar_cat(lc_df,col,\"loan_status\",0.1,90)"
   ]
  },
  {
   "cell_type": "code",
   "execution_count": null,
   "id": "5a33c71d",
   "metadata": {},
   "outputs": [],
   "source": [
    "# Inferences from unordered categorical univariate analysis\n",
    "# Majority of the charged off customers are on rent or mortgage\n",
    "# Most of the charged off customers have taken loans for debt consolidation"
   ]
  },
  {
   "cell_type": "markdown",
   "id": "9c5d9a60",
   "metadata": {},
   "source": [
    "### **9. Derived Metrics and Binning for Ordered Categorical Variables**"
   ]
  },
  {
   "cell_type": "code",
   "execution_count": null,
   "id": "eab3c70f",
   "metadata": {},
   "outputs": [],
   "source": [
    "# Functions for plotting graphs wrt columns (numerical) as percentage\n",
    "def plot_hist(df,column_name,bins):\n",
    "    plot_data = (df[df[\"loan_status\"]==\"Fully Paid\"][column_name],df[df[\"loan_status\"]==\"Charged Off\"][column_name])\n",
    "    #weight_data= (np.ones(len(plot_data[0])) / len(plot_data[0]+plot_data[1]),np.ones(len(plot_data[1])) / len(plot_data[0]+plot_data[1]))\n",
    "    #weight_data= (np.ones(len(plot_data[0])) / len(plot_data[0]),np.ones(len(plot_data[1])) / len(plot_data[1]))\n",
    "    plt.figure(figsize=(15,5))\n",
    "    plt.hist(plot_data,bins=bins)\n",
    "    plt.xlabel(column_name,fontsize=22)\n",
    "    plt.ylabel(\"Frequency\",fontsize=22)\n",
    "    plt.xticks(fontsize=15)\n",
    "    plt.yticks(fontsize=15)\n",
    "    #plt.gca().yaxis.set_major_formatter(PercentFormatter(1))\n",
    "    plt.legend((\"Fully Paid\",\"Charged Off\"),fontsize=15)\n",
    "    plt.show()\n",
    "    "
   ]
  },
  {
   "cell_type": "code",
   "execution_count": null,
   "id": "d170c776",
   "metadata": {},
   "outputs": [],
   "source": [
    "# Change bin_dict variable for binning\n",
    "bin_dict = {\"loan_amnt\":np.arange(0,31000,10000),\"int_rate\":np.linspace(0,25,num=6),\"annual_inc\":np.arange(0,151000,30000),\"dti\":np.linspace(0,30,num=7),\"installment\":np.linspace(0,800,num=9)}\n",
    "plot_hist(lc_df,\"loan_amnt\",bin_dict[\"loan_amnt\"])\n",
    "plot_hist(lc_df,\"int_rate\",bin_dict[\"int_rate\"])\n",
    "plot_hist(lc_df,\"annual_inc\",bin_dict[\"annual_inc\"])\n",
    "plot_hist(lc_df,\"dti\",bin_dict[\"dti\"])\n",
    "plot_hist(lc_df,\"installment\",bin_dict[\"installment\"])\n"
   ]
  },
  {
   "cell_type": "markdown",
   "id": "ba8892f4",
   "metadata": {},
   "source": [
    "### 1. As the loan amount is increasing the number of fully paid customers are decreasing\n",
    "### 2. Most of the charged off customers are from 10 to 15 % interest rate\n",
    "### 3. As the annual income of the customers is increasing the number of charged customers reduce and, probably due to their capacity to repay the loan is high\n",
    "### 4. As the installment amount is increasing the number of fully paid customers are reducing"
   ]
  },
  {
   "cell_type": "code",
   "execution_count": null,
   "id": "3c32d8c1",
   "metadata": {},
   "outputs": [],
   "source": [
    "#Derived Metric 1 : Employee length bins\n",
    "#Employee length can be binned based on distribution into lesser categories (<1 yr,1-3yr,4-6yr,7-9yr,>10yr)\n",
    "def bin_emp_len(x):\n",
    "    if x in [\"< 1 year\"]:\n",
    "        return \"<1 year\"\n",
    "    elif x in [\"1 year\",\"2 years\",\"3 years\"]:\n",
    "        return \"1-3 years\"\n",
    "    elif x in [\"4 years\",\"5 years\",\"6 years\"]:\n",
    "        return \"4-6 years\"\n",
    "    elif x in [\"7 years\",\"8 years\",\"9 years\"]:\n",
    "        return \"7-9 years\"\n",
    "    elif x in [\"10+ years\"]:\n",
    "        return \">10 years\"\n",
    "lc_df['emp_length']=lc_df['emp_length'].apply(bin_emp_len)\n",
    "plot_bar_cat(lc_df,\"emp_length\",\"loan_status\",0.2,0)"
   ]
  },
  {
   "cell_type": "code",
   "execution_count": null,
   "id": "c8c4aecd",
   "metadata": {},
   "outputs": [],
   "source": [
    "# Derived Metric 2 : Total Closed Credit lines\n",
    "lc_df['closed_acc']=lc_df['total_acc']-lc_df['open_acc']\n",
    "# Removing the data point as the number of closed accounts in negative\n",
    "lc_df = lc_df[~lc_df[\"closed_acc\"]<0]\n",
    "lc_df[\"closed_acc\"].describe()\n",
    "def label_generator(x):\n",
    "    lab = []\n",
    "    for i in range(0,len(x)-1):\n",
    "        lab.append(str(x[i]) + \" to \" + str(x[i+1]))\n",
    "    return lab\n",
    "# Binning the closed accounts\n",
    "lc_df[\"bin_closed_acc\"] = pd.cut(lc_df[\"closed_acc\"],bins=np.arange(0,90,15),labels=label_generator(np.arange(0,90,15)),include_lowest=True)\n",
    "lc_df[\"bin_closed_acc\"].value_counts()\n",
    "plot_bar_cat(lc_df,\"bin_closed_acc\",\"loan_status\",0.2,0)"
   ]
  },
  {
   "cell_type": "code",
   "execution_count": null,
   "id": "a292b0f5",
   "metadata": {},
   "outputs": [],
   "source": [
    "# Derived Metric 3 : Extract year from earliest_cr_line\n",
    "#lc_df['last_credit_line_year'] = pd.to_datetime(lc_df[\"earliest_cr_line\"],format=\"%b-%y\").dt.year\n",
    "def year(x):\n",
    "    y_int=int(x.split(\"-\")[1])\n",
    "    if y_int>=0 and y_int<=11:\n",
    "        y_int = y_int + 2000\n",
    "    else:\n",
    "        y_int = y_int + 1900\n",
    "    return y_int\n",
    "lc_df['ear_cre_li_year'] = lc_df[\"earliest_cr_line\"].apply(year)\n",
    "#Binning the years\n",
    "lc_df['ear_cre_li_year'].describe()\n",
    "range_values_year=np.arange(1945,2025,10)\n",
    "lc_df[\"bin_ear_cre_li_year\"] = pd.cut(lc_df[\"ear_cre_li_year\"],bins=range_values_year,labels=label_generator(range_values_year),include_lowest=True)\n",
    "plot_bar_cat(lc_df,\"bin_ear_cre_li_year\",\"loan_status\",0.2,0)"
   ]
  },
  {
   "cell_type": "code",
   "execution_count": null,
   "id": "c5e16e00",
   "metadata": {},
   "outputs": [],
   "source": [
    "# Binning numerical features\n",
    "binned_num = []\n",
    "for feat,b in bin_dict.items():\n",
    "    col = \"bin_\" + feat \n",
    "    binned_num.append(col)\n",
    "    lc_df[col] = pd.cut(lc_df[feat],bins=b,labels=label_generator(b),include_lowest=True)"
   ]
  },
  {
   "cell_type": "code",
   "execution_count": null,
   "id": "5cc7e5a1",
   "metadata": {},
   "outputs": [],
   "source": [
    "#Viewing dataframe with binned columns\n",
    "lc_df.head()"
   ]
  },
  {
   "cell_type": "markdown",
   "id": "458dd27d",
   "metadata": {},
   "source": [
    "## Understanding the factors behind Charged off Customers"
   ]
  },
  {
   "cell_type": "code",
   "execution_count": null,
   "id": "75daa41c",
   "metadata": {},
   "outputs": [],
   "source": [
    "#Function to plot the percentage of charged off customers across categorical variables. \n",
    "#Expected Charged Off Customers per Category :\n",
    "# Probability of Charged Off Customers : Total Charged off Customers/(Charged Off + Fully Paid Customers)\n",
    "# Expected Number of Charged Of Customers = Number of Charged Off Customers * Probability of Charged Off Customers\n",
    "\n",
    "# function to add value labels\n",
    "def addlabels(x,y):\n",
    "    for i in range(len(x)):\n",
    "        plt.text(i, y[i]//2,int(y[i]), ha = 'center',\n",
    "                 Bbox = dict(facecolor = 'white', alpha = 1))\n",
    "\n",
    "def plot_bar_perc(df,index_name,x_lbl_rotation):\n",
    "    pivot=pd.pivot_table(df,values=\"id\",index=index_name,columns=\"loan_status\",aggfunc=lambda x: len(x.unique()))\n",
    "    pivot.fillna(0,inplace=True)\n",
    "    pivot[\"co_prob\"]=(pivot[\"Charged Off\"]/pivot.sum(axis=1))*pivot[\"Charged Off\"]\n",
    "    plt.figure(figsize=(15,5))\n",
    "    x_label = pivot.index\n",
    "    x_data=np.arange(0,len(pivot))\n",
    "    plt.bar(x_data,pivot[\"co_prob\"],width=0.2)\n",
    "    addlabels(pivot.index,pivot[\"co_prob\"])\n",
    "    plt.xlabel(index_name,fontsize=22)\n",
    "    plt.ylabel(\"Expect No. of Charged Off Customers\",fontsize=15)\n",
    "    plt.xticks(ticks=x_data,labels=x_label,fontsize=15,rotation = x_lbl_rotation)\n",
    "    plt.yticks(fontsize=15)\n",
    "    plt.show()\n"
   ]
  },
  {
   "cell_type": "code",
   "execution_count": null,
   "id": "2d06acfe",
   "metadata": {},
   "outputs": [],
   "source": [
    "#Plotting Graphs for Categorical Variables\n",
    "for col in lc_df.columns:\n",
    "    if lc_df[col].dtype == \"object\" and col not in [\"loan_status\",\"zip_code\",\"addr_state\",\"earliest_cr_line\",\"id\"] or col[:4]==\"bin_\":\n",
    "        plot_bar_perc(lc_df,col,90)"
   ]
  },
  {
   "cell_type": "markdown",
   "id": "1687cc08",
   "metadata": {},
   "source": [
    "### **Inference from percentage of charged off customers**\n",
    "### -There percentage of charged off customers in the segments increase with :\n",
    "### 1. Increase in term of the loan from 36 to 60 months\n",
    "### 2. Increase in grade of the loans, mostly E,F,G loan grades witness high charge off percentages\n",
    "### 3. Increase of interest rate on loans\n",
    "### - F5 loan grade has the highest charge off rate of about 48%, need to reconsider the loan grade\n",
    "### - As the annual income increases, the charge off rate reduces steadily \n",
    "### - Those customers who have the earliest credit lines from 2005 uptill today tend to charge off more\n",
    "### - Those people taking loan for small business tend to charge off about one in four times\n",
    "\n",
    "### Doubt - To add total customers in the bar chart? to check which category is most significant?\n",
    "\n",
    "\n",
    "\n",
    "\n"
   ]
  },
  {
   "cell_type": "markdown",
   "id": "c836fa92",
   "metadata": {},
   "source": [
    "### **Analysis on More than Two Variables**"
   ]
  },
  {
   "cell_type": "code",
   "execution_count": null,
   "id": "b35c86a3",
   "metadata": {},
   "outputs": [],
   "source": [
    "lc_df.columns"
   ]
  },
  {
   "cell_type": "code",
   "execution_count": null,
   "id": "6bfde208",
   "metadata": {},
   "outputs": [],
   "source": [
    "pivot=pd.pivot_table(lc_df,values=\"id\",index=\"grade\",columns=(\"loan_status\",\"sub_grade\",),aggfunc=lambda x: len(x.unique()))"
   ]
  },
  {
   "cell_type": "code",
   "execution_count": null,
   "id": "16d3bbf4",
   "metadata": {},
   "outputs": [],
   "source": [
    "co_prob = 100*pivot[\"Charged Off\"]/(pivot[\"Fully Paid\"] + pivot[\"Charged Off\"])\n",
    "co_prob.fillna(0,inplace=True)\n",
    "co_prob\n",
    "# co_prob.sort_values(by = (\"RENT\"),axis=1,inplace=True)\n",
    "# co_prob.idxmax(axis=1).index\n"
   ]
  },
  {
   "cell_type": "code",
   "execution_count": null,
   "id": "c820bc79",
   "metadata": {},
   "outputs": [],
   "source": [
    "def plot_bar_multi_variate(df,index_name,cnames,width,x_lbl_rotation):\n",
    "    pivot=pd.pivot_table(lc_df,values=\"id\",index=index_name,columns=cnames,aggfunc=lambda x: len(x.unique()))\n",
    "    co_prob = 100*pivot[\"Charged Off\"]/(pivot[\"Fully Paid\"] + pivot[\"Charged Off\"]) # Calculating the probability of charged off customers across columns\n",
    "    co_prob.fillna(0,inplace=True)\n",
    "    plt.figure(figsize=(15,5))\n",
    "    x_label = co_prob.index\n",
    "    x_data = np.arange(len(x_label)) # create values from 0 to len(x_label) - 1\n",
    "    chart=[]\n",
    "    for j,i in enumerate(co_prob.columns):\n",
    "        bottom_pos=0\n",
    "        for k in range(j-1,-1,-1):\n",
    "            bottom_pos = bottom_pos + co_prob[co_prob.columns[k]]\n",
    "        chart.append(plt.bar(x_data, co_prob[i],width=width,align=\"center\",bottom=bottom_pos))\n",
    "    plt.xlabel(index_name,fontsize=22)\n",
    "    plt.ylabel(\"% Charged Off Customers\",fontsize=22)\n",
    "    x_label_pos = x_data\n",
    "    plt.xticks(x_label_pos ,x_label,fontsize=15,rotation = x_lbl_rotation)\n",
    "    plt.yticks(fontsize=15)\n",
    "    plt.legend(chart,co_prob.columns,fontsize=15)\n",
    "    plt.title(index_name + \" vs \" + cnames[1],fontsize=20)\n",
    "    plt.show()\n",
    "lc_df[\"bin_open_acc\"] = pd.cut(lc_df[\"open_acc\"],bins=np.arange(0,51,10),labels=label_generator(np.arange(0,51,10)),include_lowest=True)\n",
    "plot_bar_multi_variate(lc_df,\"emp_length\",(\"loan_status\",\"bin_open_acc\"),0.1,45)\n"
   ]
  },
  {
   "cell_type": "code",
   "execution_count": null,
   "id": "d38e8450",
   "metadata": {},
   "outputs": [],
   "source": [
    "plot_bar_multi_variate(lc_df,\"purpose\",(\"loan_status\",\"bin_loan_amnt\"),0.3,45)\n",
    "plot_bar_multi_variate(lc_df,\"purpose\",(\"loan_status\",\"emp_length\"),0.3,45)"
   ]
  },
  {
   "cell_type": "code",
   "execution_count": null,
   "id": "b0e49c64",
   "metadata": {},
   "outputs": [],
   "source": [
    "# Employees having employee length 7-9 years and having 30 to 40 open accounts have higher chances of charging off\n",
    "# For moving and renewable energy,the probabilty of charged off customers is higher for people taking loan amount from 20000 to 30000\n",
    "# Employee with >10 years of experience takig loan for small business tend to chargeoff more \n",
    "lc_df.columns"
   ]
  },
  {
   "cell_type": "markdown",
   "id": "a7966d99",
   "metadata": {},
   "source": []
  }
 ],
 "metadata": {
  "kernelspec": {
   "display_name": "Python 3 (ipykernel)",
   "language": "python",
   "name": "python3"
  },
  "language_info": {
   "codemirror_mode": {
    "name": "ipython",
    "version": 3
   },
   "file_extension": ".py",
   "mimetype": "text/x-python",
   "name": "python",
   "nbconvert_exporter": "python",
   "pygments_lexer": "ipython3",
   "version": "3.9.7"
  }
 },
 "nbformat": 4,
 "nbformat_minor": 5
}
