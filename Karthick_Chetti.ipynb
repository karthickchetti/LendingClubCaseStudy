{
 "cells": [
  {
   "cell_type": "markdown",
   "id": "6611e0e2",
   "metadata": {},
   "source": [
    "# **LENDING CLUB CASE STUDY** \n",
    "## **Group Members :**\n",
    "### **1. Karthick Chetti** - Group Fecilitator\n",
    "### **2. Anirudh KVC** - Collaborator"
   ]
  },
  {
   "cell_type": "markdown",
   "id": "69b6d6b8",
   "metadata": {},
   "source": [
    "## **Index of Notebook**\n",
    "1. Objectives\n",
    "2. Understanding Data\n",
    "3. Data Cleaning\n",
    "4. Selecting columns based on business objectives\n",
    "5. Missing Value Imputation\n",
    "6. Understanding variables and their datatypes\n"
   ]
  },
  {
   "cell_type": "markdown",
   "id": "dcc5c8b7",
   "metadata": {},
   "source": [
    "## **1. Objectives :**\n",
    "1. Understanding the driving factors behind loan default thereby aiming to reduce credit loss \n",
    "2. Data Driven inferences to support the driving factors"
   ]
  },
  {
   "cell_type": "code",
   "execution_count": null,
   "id": "a303cb83",
   "metadata": {},
   "outputs": [],
   "source": [
    "# Load the libraries\n",
    "import pandas as pd #To work with dataset\n",
    "pd.set_option(\"display.max_columns\", 100)\n",
    "import numpy as np #Math library\n",
    "import seaborn as sns #Graph library that use matplot in background\n",
    "import matplotlib.pyplot as plt #to plot some parameters in seaborn\n",
    "from matplotlib.ticker import PercentFormatter # for percentage"
   ]
  },
  {
   "cell_type": "code",
   "execution_count": null,
   "id": "f9a2f74e",
   "metadata": {},
   "outputs": [],
   "source": [
    "# Importing data from loan.csv\n",
    "loan_df=pd.read_csv(\"loan.csv\")"
   ]
  },
  {
   "cell_type": "markdown",
   "id": "9eaed205",
   "metadata": {},
   "source": [
    "### **2. Understanding Data** "
   ]
  },
  {
   "cell_type": "code",
   "execution_count": null,
   "id": "76d81305",
   "metadata": {},
   "outputs": [],
   "source": [
    "loan_df.info(verbose=True,show_counts=True)\n",
    "init_cols=len(loan_df.columns)"
   ]
  },
  {
   "cell_type": "markdown",
   "id": "7d772673",
   "metadata": {},
   "source": [
    "#### We can see that there are some null values in the columns and there are too many columns to analyze, hence measures have to be taken to clean data based on *business objectives* and based on *statistics*"
   ]
  },
  {
   "cell_type": "markdown",
   "id": "5201273e",
   "metadata": {},
   "source": [
    "### **3. Data Cleaning** : Based on Business Objective\n",
    "### Filtering out data based on objective, since current loans are not of interest for the business objective"
   ]
  },
  {
   "cell_type": "code",
   "execution_count": null,
   "id": "b7d51d3b",
   "metadata": {},
   "outputs": [],
   "source": [
    "# As we are interested in understanding charged off customers loan status as current is not useful for the analysis\n",
    "# Filtering data accorgingly\n",
    "loan_df = loan_df[~ (loan_df[\"loan_status\"] == \"Current\")]"
   ]
  },
  {
   "cell_type": "markdown",
   "id": "7455f1f4",
   "metadata": {},
   "source": [
    "### **3. Data Cleaning** : A) Removing Columns with high percentage of null values"
   ]
  },
  {
   "cell_type": "code",
   "execution_count": null,
   "id": "99f2b3bf",
   "metadata": {},
   "outputs": [],
   "source": [
    "#Removing columns having 50% null values in them as such columns are not useful for analysis\n",
    "lc_df=loan_df.dropna(axis=1,thresh=int(0.5*len(loan_df)))"
   ]
  },
  {
   "cell_type": "code",
   "execution_count": null,
   "id": "517847b2",
   "metadata": {},
   "outputs": [],
   "source": [
    "#Printing number of columns removed\n",
    "removed_columns=len(loan_df.columns)-len(lc_df.columns)\n",
    "print(f\"{removed_columns} columns were removed from original dataframe due to high amount of missing values in them\")"
   ]
  },
  {
   "cell_type": "markdown",
   "id": "94a79f97",
   "metadata": {},
   "source": [
    "### **3. Data Cleaning** : B) Removing Columns with same values which are redundant for analysis"
   ]
  },
  {
   "cell_type": "code",
   "execution_count": null,
   "id": "f252e648",
   "metadata": {},
   "outputs": [],
   "source": [
    "#### It is observed that some columns have only one value(mostly 0) throughout the rows, which are not useful for the analysis\n",
    "dropped_col=[]\n",
    "for col in lc_df.columns:\n",
    "    if len(lc_df[col].unique())==1:\n",
    "        dropped_col.append(col)\n",
    "print(f\"{len(dropped_col)} columns are dropped in the dataframe due to same values repeating throughout the column\")\n",
    "lc_df=lc_df.drop(dropped_col,axis=1)"
   ]
  },
  {
   "cell_type": "markdown",
   "id": "f83f86a6",
   "metadata": {},
   "source": [
    "### **3. Data Cleaning** : C) Removing Columns with either 0s or missing values in them"
   ]
  },
  {
   "cell_type": "code",
   "execution_count": null,
   "id": "cc4850d5",
   "metadata": {},
   "outputs": [],
   "source": [
    "for c in lc_df.columns:\n",
    "    if len(lc_df[c].unique())==2:\n",
    "        print(lc_df[c].unique())"
   ]
  },
  {
   "cell_type": "code",
   "execution_count": null,
   "id": "f9c63c0e",
   "metadata": {},
   "outputs": [],
   "source": [
    "no_uniq_cols=[\"collections_12_mths_ex_med\",\"chargeoff_within_12_mths\",\"tax_liens\"]\n",
    "lc_df.drop(no_uniq_cols,axis=1,inplace=True)\n",
    "print(f\"{len(no_uniq_cols)} columns are dropped since they don't have meaningful unique values for analysis\")"
   ]
  },
  {
   "cell_type": "code",
   "execution_count": null,
   "id": "5a20ca7c",
   "metadata": {},
   "outputs": [],
   "source": [
    "exis_cols=len(lc_df.columns)\n",
    "print(f\"As a result of data cleaning, out of {init_cols} columns, {exis_cols} columns exist.\\nHowever it is important to select the most relevant columns out of these {exis_cols} for analysis\")"
   ]
  },
  {
   "cell_type": "markdown",
   "id": "d269ca02",
   "metadata": {},
   "source": [
    "### **4. Selecting most relevant features as per business objective** \n",
    "### Additional features/columns will be added to the analysis in the future if it's found relevant"
   ]
  },
  {
   "cell_type": "code",
   "execution_count": null,
   "id": "0d3b1ea2",
   "metadata": {},
   "outputs": [],
   "source": [
    "# Key features\n",
    "# id,loan_amnt,term,int_rate,installment,grade,sub_grade,emp_length,annual_inc,verification_status,purpose,zip_code,add_state\n",
    "# Here id is conidered for aggregation purpose\n",
    "req_features=[\"id\",\"loan_amnt\",\"term\",\"int_rate\",\"installment\",\"grade\",\"sub_grade\",\"home_ownership\",\"emp_length\",\"loan_status\",\"annual_inc\",\"verification_status\",\"purpose\",\"zip_code\",\"addr_state\",\"dti\",\"open_acc\",\"total_acc\",\"delinq_2yrs\",\"earliest_cr_line\"]\n",
    "lc_df = lc_df[req_features]"
   ]
  },
  {
   "cell_type": "code",
   "execution_count": null,
   "id": "8f4c8d79",
   "metadata": {},
   "outputs": [],
   "source": [
    "# Having a look at the data\n",
    "lc_df.head()"
   ]
  },
  {
   "cell_type": "code",
   "execution_count": null,
   "id": "a3971cb4",
   "metadata": {},
   "outputs": [],
   "source": [
    "# Understanding the data and data types\n",
    "lc_df.info(verbose=True,show_counts=True)\n",
    "lc_df.describe()"
   ]
  },
  {
   "cell_type": "markdown",
   "id": "b2dec733",
   "metadata": {},
   "source": [
    "### **5. Missing value imputation**"
   ]
  },
  {
   "cell_type": "markdown",
   "id": "2061aa94",
   "metadata": {},
   "source": [
    "### There are some columns which have missing values,Therefore understanding the number of missing values in these columns"
   ]
  },
  {
   "cell_type": "code",
   "execution_count": null,
   "id": "85612a44",
   "metadata": {},
   "outputs": [],
   "source": [
    "empty_cols=lc_df.columns[lc_df.isna().any()].tolist()\n",
    "empty_vals=[lc_df[col].isna().sum() for col in empty_cols]\n",
    "empty_per_dict=dict(zip(empty_cols,empty_vals))\n",
    "print(\"The missing values in columns is :\\n\",empty_per_dict)"
   ]
  },
  {
   "cell_type": "markdown",
   "id": "05ff742f",
   "metadata": {},
   "source": [
    "#### It is observed that in selected columns for analysis, 'emp_length' column has some missing data"
   ]
  },
  {
   "cell_type": "code",
   "execution_count": null,
   "id": "907a5e12",
   "metadata": {},
   "outputs": [],
   "source": [
    "# As the number of missing data is less, missing value imputation can be done\n",
    "# Checking the values in emp_length column\n",
    "lc_df[\"emp_length\"].value_counts()"
   ]
  },
  {
   "cell_type": "code",
   "execution_count": null,
   "id": "67bbf045",
   "metadata": {},
   "outputs": [],
   "source": [
    "# As the most recurring value is 10+years, adding 10+ years whereever the data is missing\n",
    "lc_df[\"emp_length\"] = lc_df[\"emp_length\"].fillna(\"10+ years\")"
   ]
  },
  {
   "cell_type": "markdown",
   "id": "722fdd07",
   "metadata": {},
   "source": [
    "### **6. Understanding variables and their datatypes**"
   ]
  },
  {
   "cell_type": "code",
   "execution_count": null,
   "id": "ece1a849",
   "metadata": {},
   "outputs": [],
   "source": [
    "#Understanding the datatypes in the dataframe\n",
    "lc_df.info(verbose=True,show_counts=False)"
   ]
  },
  {
   "cell_type": "code",
   "execution_count": null,
   "id": "0cc65b2f",
   "metadata": {},
   "outputs": [],
   "source": [
    "# Removing % and converting to float\n",
    "lc_df[\"int_rate\"]=lc_df[\"int_rate\"].str.replace(\"%\",\"\").astype(float)"
   ]
  },
  {
   "cell_type": "markdown",
   "id": "5140c101",
   "metadata": {},
   "source": [
    "### **Understanding type of variable for analysis**\n",
    "1. **Numeric Data** : <br>\n",
    "loan_amt,int_rate,installment,annual_inc,dti\n",
    "\n",
    "2. **Ordered Categorical Data** : <br>\n",
    "term,grade,sub_grade,emp_length,loan_status,verification_status,open_acc,total_acc,delinq_2yrs,earliest_cr_line\n",
    "\n",
    "3. **Unordered Categorical Data** : <br>\n",
    "home_ownership,purpose,zip_code,addr_state\n",
    "\n",
    "*id column can be used as a unique row identifier*"
   ]
  },
  {
   "cell_type": "code",
   "execution_count": null,
   "id": "43f01d41",
   "metadata": {},
   "outputs": [],
   "source": [
    "#Declaring type of variables\n",
    "numeric_data=[\"loan_amnt\",\"int_rate\",\"installment\",\"annual_inc\",\"dti\"]\n",
    "ordered_cat_data=[\"term\",\"grade\",\"sub_grade\",\"emp_length\",\"open_acc\",\"total_acc\",\"delinq_2yrs\",\"earliest_cr_line\"]\n",
    "unordered_cat_data=[\"home_ownership\",\"purpose\",\"loan_status\",\"verification_status\",\"zip_code\",\"addr_state\"]"
   ]
  },
  {
   "cell_type": "markdown",
   "id": "6f3e6114",
   "metadata": {},
   "source": [
    "### **7. Data Distribution and Outlier Correction for Numeric Data**"
   ]
  },
  {
   "cell_type": "code",
   "execution_count": null,
   "id": "44c7cb1f",
   "metadata": {},
   "outputs": [],
   "source": [
    "#Checking the distributions for numeric data\n",
    "#Function to plot box plots taking dataframe and columns as input\n",
    "def box_plot_col(df,cols):\n",
    "    for col in cols:\n",
    "        plt.boxplot(df[col])\n",
    "        plt.xlabel(col)\n",
    "        plt.show()\n",
    "box_plot_col(lc_df,numeric_data)"
   ]
  },
  {
   "cell_type": "markdown",
   "id": "35c8e1f5",
   "metadata": {},
   "source": [
    "### Outliers are detected in the box plot for some variables, it is important to remove outliers in the data based on a  IQR "
   ]
  },
  {
   "cell_type": "code",
   "execution_count": null,
   "id": "4dea191d",
   "metadata": {},
   "outputs": [],
   "source": [
    "# #Remove outliers based on threshold of 99%\n",
    "# def remove_outliers(df,thresh,cols):\n",
    "#     for col in cols:\n",
    "#         ser=df[col]\n",
    "#         P = np.percentile(ser, [100-thresh, thresh])\n",
    "#         df = df[(ser > P[0]) & (ser < P[1])]\n",
    "#     return df\n",
    "        \n",
    "# lc_df=remove_outliers(lc_df,99,numeric_data)\n",
    "# removed_data_points=len(loan_df)-len(lc_df)\n",
    "# print(f\"{removed_data_points} data points were removed because they were outliers in the numeric data columns\")"
   ]
  },
  {
   "cell_type": "code",
   "execution_count": null,
   "id": "f07e0117",
   "metadata": {},
   "outputs": [],
   "source": [
    "#Remove outliers based on IQR (Taking Threshold as 15%)\n",
    "def remove_outliers(df,cols):\n",
    "    for col in cols:\n",
    "        ser=df[col]\n",
    "        Q1 = ser.quantile(0.15)\n",
    "        Q3 = ser.quantile(0.85)\n",
    "        IQR = Q3 - Q1\n",
    "        df = df[~(ser > (Q3 + 1.5 * IQR))]\n",
    "    return df\n",
    "lc_df=remove_outliers(lc_df,numeric_data)\n",
    "removed_data_points=len(loan_df)-len(lc_df)\n",
    "print(f\"{removed_data_points} data points were removed because they were outliers in the numeric data columns\")"
   ]
  },
  {
   "cell_type": "markdown",
   "id": "9ba3d969",
   "metadata": {},
   "source": [
    "### Univariate Analysis"
   ]
  },
  {
   "cell_type": "code",
   "execution_count": null,
   "id": "5b22cfe1",
   "metadata": {},
   "outputs": [],
   "source": [
    "lc_df.columns"
   ]
  },
  {
   "cell_type": "code",
   "execution_count": null,
   "id": "58d591f1",
   "metadata": {},
   "outputs": [],
   "source": [
    "for col in lc_df.columns:\n",
    "    if col in ['loan_amnt', 'term', 'int_rate', 'installment', 'grade',\n",
    "       'sub_grade', 'home_ownership', 'emp_length', 'loan_status',\n",
    "       'annual_inc', 'verification_status', 'purpose', 'dti', 'open_acc', 'total_acc', 'delinq_2yrs',]:\n",
    "        plt.figure(figsize=(15,5))\n",
    "        if col in numeric_data:\n",
    "            n,bins,_=plt.hist(lc_df[col])\n",
    "            plt.xticks(bins,fontsize=12,rotation = 45)\n",
    "        else:\n",
    "            plt.bar(lc_df[col].value_counts().index,lc_df[col].value_counts().values)\n",
    "            plt.xticks(fontsize=12,rotation = 45)\n",
    "        plt.title(col)\n",
    "        plt.ylabel(\"Frequency\",fontsize=12)\n",
    "        plt.yticks(fontsize=12)\n",
    "        plt.show()"
   ]
  },
  {
   "cell_type": "markdown",
   "id": "21bc2e6e",
   "metadata": {},
   "source": [
    "## Inferences from univariate analysis\n",
    "### 1. Majority of loan amounts are taken between 4000 to 11000\n",
    "### 2. More people prefer 36 months as loan term than 60 months\n",
    "### 3. 9-15% loan rate is mostly preferred interest rate\n",
    "### 4. Mostly the customers pay installments between 130-350\n",
    "### 5. A,B,C grades are the most offered grades to the customers \n",
    "### 6. People who have a rented or mortgaged majorly take loans\n",
    "### 7. Employees with experience more than 10 years majorly take loans\n",
    "### 8. The odds of charging off to fully paying is about 1:6\n",
    "### 9. Employees having annual income between 20000 to 60000 majorly take loans\n",
    "### 10. Around 40% of the loans are given to customers whose information is not verified \n",
    "### 11. People taking loans for debt consolidation are significantly higher than other categories"
   ]
  },
  {
   "cell_type": "markdown",
   "id": "6d5bbd63",
   "metadata": {},
   "source": [
    "## **8. Bivariate Analysis**"
   ]
  },
  {
   "cell_type": "markdown",
   "id": "e2e263ca",
   "metadata": {},
   "source": [
    "### Since univariate analysis is not fully indicative of the business objective to find out the driving variables for charged off customers, \n",
    "### We are visualizing the insights with respect to **fully paid** and **charged off** customers"
   ]
  },
  {
   "cell_type": "code",
   "execution_count": null,
   "id": "cb123fcc",
   "metadata": {},
   "outputs": [],
   "source": [
    "# Functions for plotting bar chart for categorical variables\n",
    "\n",
    "def plot_bar_cat(df,index_name,column_name,width,x_lbl_rotation):\n",
    "    pivot=pd.pivot_table(lc_df,values=\"id\",index=index_name,columns=column_name,aggfunc=lambda x: len(x.unique()))\n",
    "    plt.figure(figsize=(15,5))\n",
    "    x_label = pivot.index\n",
    "    x_data = np.arange(len(x_label)) # create values from 0 to len(x_label) - 1\n",
    "    #height_data = (df[df[\"loan_status\"]==\"Fully Paid\"][column_name].value_counts().values,df[df[\"loan_status\"]==\"Charged Off\"][column_name].value_counts().values)\n",
    "    chart=[]\n",
    "    for j,i in enumerate(pivot.columns):\n",
    "        chart.append(plt.bar(x_data + j*(width), pivot[i],width=width,align=\"edge\"))\n",
    "    plt.xlabel(index_name,fontsize=22)\n",
    "    plt.ylabel(\"Frequency\",fontsize=22)\n",
    "    x_label_pos = x_data + (len(pivot.columns)*width)/2\n",
    "    plt.xticks(x_label_pos ,x_label,fontsize=15,rotation = x_lbl_rotation)\n",
    "    plt.yticks(fontsize=15)\n",
    "    plt.legend(chart,pivot.columns,fontsize=15)\n",
    "    plt.show()\n",
    "\n",
    "ord_cat_plot_cols=ordered_cat_data.copy()\n",
    "for col in ord_cat_plot_cols:\n",
    "    if col not in [\"earliest_cr_line\",\"loan_status\",\"open_acc\",\"total_acc\"]:\n",
    "        plot_bar_cat(lc_df,col,\"loan_status\",0.1,45)"
   ]
  },
  {
   "cell_type": "markdown",
   "id": "76df852b",
   "metadata": {},
   "source": [
    "### **Inferences from bivariate analysis on ordered categorical variables**\n",
    "1. The number of charged off people are more when the term of loan is 36 months as compared to 60 months *(Probably paying more installment amounts might be difficult)*<br>\n",
    "2. Very few people are interested to take loans beyond D grade. In B,C & D loan grades,the charged off customers remain almost the same but the number of fully paid customers reduce *(Probably due to increase in risk and volatality of these loan grades, Source - https://www.lendingclub.com/foliofn/rateDetail.action)*<br>\n",
    "3. Majority of the charged of customers either have 10+ years of experience *(Probably due to other existing credit lines) or they have less than or equal to 1 year of experience*(Probably due poor financial management)*<br>\n",
    "4. Majority of customers have no history of deliquency within 2 years, *(Probably because LC might be cautious in providing loans to people having history of deliquency)*"
   ]
  },
  {
   "cell_type": "code",
   "execution_count": null,
   "id": "85208ee6",
   "metadata": {},
   "outputs": [],
   "source": [
    "#Unordered categorical variables\n",
    "for i in unordered_cat_data:\n",
    "    x_data = np.arange(1,len(lc_df[i].value_counts())+1)\n",
    "    y_data = lc_df[i].value_counts().values\n",
    "    plt.loglog(x_data,y_data)\n",
    "    plt.xlabel(\"log (Rank)\")\n",
    "    plt.ylabel(\"log (Frequency)\")\n",
    "    plt.title(i)\n",
    "    plt.show()"
   ]
  },
  {
   "cell_type": "code",
   "execution_count": null,
   "id": "505163b3",
   "metadata": {},
   "outputs": [],
   "source": [
    "# From the rank vs frequency plots it can be inferred that purpose follows nearly power law distribution"
   ]
  },
  {
   "cell_type": "code",
   "execution_count": null,
   "id": "a4c5fb92",
   "metadata": {},
   "outputs": [],
   "source": [
    "# Plotting bar chart for unordered categorical variables\n",
    "for col in unordered_cat_data:\n",
    "    if col not in (\"zip_code\",\"addr_state\"):\n",
    "        plot_bar_cat(lc_df,col,\"loan_status\",0.1,90)"
   ]
  },
  {
   "cell_type": "code",
   "execution_count": null,
   "id": "5a33c71d",
   "metadata": {},
   "outputs": [],
   "source": [
    "# Inferences from unordered categorical univariate analysis\n",
    "# Majority of the charged off customers are on rent or mortgage\n",
    "# Most of the charged off customers have taken loans for debt consolidation"
   ]
  },
  {
   "cell_type": "markdown",
   "id": "9c5d9a60",
   "metadata": {},
   "source": [
    "### **9. Derived Metrics and Binning for Ordered Categorical Variables**"
   ]
  },
  {
   "cell_type": "code",
   "execution_count": null,
   "id": "eab3c70f",
   "metadata": {},
   "outputs": [],
   "source": [
    "# Functions for plotting graphs wrt columns (numerical) as percentage\n",
    "def plot_hist(df,column_name,bins):\n",
    "    plot_data = (df[df[\"loan_status\"]==\"Fully Paid\"][column_name],df[df[\"loan_status\"]==\"Charged Off\"][column_name])\n",
    "    #weight_data= (np.ones(len(plot_data[0])) / len(plot_data[0]+plot_data[1]),np.ones(len(plot_data[1])) / len(plot_data[0]+plot_data[1]))\n",
    "    #weight_data= (np.ones(len(plot_data[0])) / len(plot_data[0]),np.ones(len(plot_data[1])) / len(plot_data[1]))\n",
    "    plt.figure(figsize=(15,5))\n",
    "    plt.hist(plot_data,bins=bins)\n",
    "    plt.xlabel(column_name,fontsize=22)\n",
    "    plt.ylabel(\"Frequency\",fontsize=22)\n",
    "    plt.xticks(fontsize=15)\n",
    "    plt.yticks(fontsize=15)\n",
    "    #plt.gca().yaxis.set_major_formatter(PercentFormatter(1))\n",
    "    plt.legend((\"Fully Paid\",\"Charged Off\"),fontsize=15)\n",
    "    plt.show()\n",
    "    "
   ]
  },
  {
   "cell_type": "code",
   "execution_count": null,
   "id": "d170c776",
   "metadata": {},
   "outputs": [],
   "source": [
    "# Change bin_dict variable for binning\n",
    "bin_dict = {\"loan_amnt\":np.arange(0,31000,10000),\"int_rate\":np.linspace(0,25,num=6),\"annual_inc\":np.arange(0,151000,30000),\"dti\":np.linspace(0,30,num=7),\"installment\":np.linspace(0,800,num=9)}\n",
    "plot_hist(lc_df,\"loan_amnt\",bin_dict[\"loan_amnt\"])\n",
    "plot_hist(lc_df,\"int_rate\",bin_dict[\"int_rate\"])\n",
    "plot_hist(lc_df,\"annual_inc\",bin_dict[\"annual_inc\"])\n",
    "plot_hist(lc_df,\"dti\",bin_dict[\"dti\"])\n",
    "plot_hist(lc_df,\"installment\",bin_dict[\"installment\"])\n"
   ]
  },
  {
   "cell_type": "markdown",
   "id": "ba8892f4",
   "metadata": {},
   "source": [
    "### 1. As the loan amount is increasing the number of fully paid customers are decreasing\n",
    "### 2. Most of the charged off customers are from 10 to 15 % interest rate\n",
    "### 3. As the annual income of the customers is increasing the number of charged customers reduce and, probably due to their capacity to repay the loan is high\n",
    "### 4. As the installment amount is increasing the number of fully paid customers are reducing"
   ]
  },
  {
   "cell_type": "code",
   "execution_count": null,
   "id": "3c32d8c1",
   "metadata": {},
   "outputs": [],
   "source": [
    "#Derived Metric 1 : Employee length bins\n",
    "#Employee length can be binned based on distribution into lesser categories (<1 yr,1-3yr,4-6yr,7-9yr,>10yr)\n",
    "def bin_emp_len(x):\n",
    "    if x in [\"< 1 year\"]:\n",
    "        return \"<1 year\"\n",
    "    elif x in [\"1 year\",\"2 years\",\"3 years\"]:\n",
    "        return \"1-3 years\"\n",
    "    elif x in [\"4 years\",\"5 years\",\"6 years\"]:\n",
    "        return \"4-6 years\"\n",
    "    elif x in [\"7 years\",\"8 years\",\"9 years\"]:\n",
    "        return \"7-9 years\"\n",
    "    elif x in [\"10+ years\"]:\n",
    "        return \">10 years\"\n",
    "lc_df['emp_length']=lc_df['emp_length'].apply(bin_emp_len)\n",
    "plot_bar_cat(lc_df,\"emp_length\",\"loan_status\",0.2,0)"
   ]
  },
  {
   "cell_type": "code",
   "execution_count": null,
   "id": "c8c4aecd",
   "metadata": {},
   "outputs": [],
   "source": [
    "# Derived Metric 2 : Total Closed Credit lines\n",
    "lc_df['closed_acc']=lc_df['total_acc']-lc_df['open_acc']\n",
    "# Removing the data point as the number of closed accounts in negative\n",
    "lc_df = lc_df[~lc_df[\"closed_acc\"]<0]\n",
    "lc_df[\"closed_acc\"].describe()\n",
    "def label_generator(x):\n",
    "    lab = []\n",
    "    for i in range(0,len(x)-1):\n",
    "        lab.append(str(x[i]) + \" to \" + str(x[i+1]))\n",
    "    return lab\n",
    "# Binning the closed accounts\n",
    "lc_df[\"bin_closed_acc\"] = pd.cut(lc_df[\"closed_acc\"],bins=np.arange(0,90,15),labels=label_generator(np.arange(0,90,15)),include_lowest=True)\n",
    "lc_df[\"bin_closed_acc\"].value_counts()\n",
    "plot_bar_cat(lc_df,\"bin_closed_acc\",\"loan_status\",0.2,0)"
   ]
  },
  {
   "cell_type": "code",
   "execution_count": null,
   "id": "a292b0f5",
   "metadata": {},
   "outputs": [],
   "source": [
    "# Derived Metric 3 : Extract year from earliest_cr_line\n",
    "#lc_df['last_credit_line_year'] = pd.to_datetime(lc_df[\"earliest_cr_line\"],format=\"%b-%y\").dt.year\n",
    "def year(x):\n",
    "    y_int=int(x.split(\"-\")[1])\n",
    "    if y_int>=0 and y_int<=11:\n",
    "        y_int = y_int + 2000\n",
    "    else:\n",
    "        y_int = y_int + 1900\n",
    "    return y_int\n",
    "lc_df['ear_cre_li_year'] = lc_df[\"earliest_cr_line\"].apply(year)\n",
    "#Binning the years\n",
    "lc_df['ear_cre_li_year'].describe()\n",
    "range_values_year=np.arange(1945,2025,10)\n",
    "lc_df[\"bin_ear_cre_li_year\"] = pd.cut(lc_df[\"ear_cre_li_year\"],bins=range_values_year,labels=label_generator(range_values_year),include_lowest=True)\n",
    "plot_bar_cat(lc_df,\"bin_ear_cre_li_year\",\"loan_status\",0.2,0)"
   ]
  },
  {
   "cell_type": "code",
   "execution_count": null,
   "id": "c5e16e00",
   "metadata": {},
   "outputs": [],
   "source": [
    "# Binning numerical features\n",
    "binned_num = []\n",
    "for feat,b in bin_dict.items():\n",
    "    col = \"bin_\" + feat \n",
    "    binned_num.append(col)\n",
    "    lc_df[col] = pd.cut(lc_df[feat],bins=b,labels=label_generator(b),include_lowest=True)"
   ]
  },
  {
   "cell_type": "code",
   "execution_count": null,
   "id": "5cc7e5a1",
   "metadata": {},
   "outputs": [],
   "source": [
    "#Viewing dataframe with binned columns\n",
    "lc_df.head()"
   ]
  },
  {
   "cell_type": "markdown",
   "id": "458dd27d",
   "metadata": {},
   "source": [
    "## Understanding the factors behind Charged off Customers"
   ]
  },
  {
   "cell_type": "code",
   "execution_count": null,
   "id": "75daa41c",
   "metadata": {},
   "outputs": [],
   "source": [
    "#Function to plot the percentage of charged off customers across categorical variables. \n",
    "#Expected Charged Off Customers per Category :\n",
    "# Probability of Charged Off Customers : Total Charged off Customers/(Charged Off + Fully Paid Customers)\n",
    "# Expected Number of Charged Of Customers = Number of Charged Off Customers * Probability of Charged Off Customers\n",
    "\n",
    "# function to add value labels\n",
    "def addlabels(x,y):\n",
    "    for i in range(len(x)):\n",
    "        plt.text(i, y[i]//2,int(y[i]), ha = 'center',\n",
    "                 Bbox = dict(facecolor = 'white', alpha = 1))\n",
    "\n",
    "def plot_bar_perc(df,index_name,x_lbl_rotation):\n",
    "    pivot=pd.pivot_table(df,values=\"id\",index=index_name,columns=\"loan_status\",aggfunc=lambda x: len(x.unique()))\n",
    "    pivot.fillna(0,inplace=True)\n",
    "    pivot[\"co_prob\"]=(pivot[\"Charged Off\"]/pivot.sum(axis=1))*pivot[\"Charged Off\"]\n",
    "    plt.figure(figsize=(15,5))\n",
    "    x_label = pivot.index\n",
    "    x_data=np.arange(0,len(pivot))\n",
    "    plt.bar(x_data,pivot[\"co_prob\"],width=0.2)\n",
    "    addlabels(pivot.index,pivot[\"co_prob\"])\n",
    "    plt.xlabel(index_name,fontsize=22)\n",
    "    plt.ylabel(\"Expect No. of Charged Off Customers\",fontsize=15)\n",
    "    plt.xticks(ticks=x_data,labels=x_label,fontsize=15,rotation = x_lbl_rotation)\n",
    "    plt.yticks(fontsize=15)\n",
    "    plt.show()\n"
   ]
  },
  {
   "cell_type": "code",
   "execution_count": null,
   "id": "2d06acfe",
   "metadata": {},
   "outputs": [],
   "source": [
    "#Plotting Graphs for Categorical Variables\n",
    "for col in lc_df.columns:\n",
    "    if lc_df[col].dtype == \"object\" and col not in [\"loan_status\",\"zip_code\",\"addr_state\",\"earliest_cr_line\",\"id\"] or col[:4]==\"bin_\":\n",
    "        plot_bar_perc(lc_df,col,90)"
   ]
  },
  {
   "cell_type": "markdown",
   "id": "1687cc08",
   "metadata": {},
   "source": [
    "### **Inference from percentage of charged off customers**\n",
    "### -There percentage of charged off customers in the segments increase with :\n",
    "### 1. Increase in term of the loan from 36 to 60 months\n",
    "### 2. Increase in grade of the loans, mostly E,F,G loan grades witness high charge off percentages\n",
    "### 3. Increase of interest rate on loans\n",
    "### - F5 loan grade has the highest charge off rate of about 48%, need to reconsider the loan grade\n",
    "### - As the annual income increases, the charge off rate reduces steadily \n",
    "### - Those customers who have the earliest credit lines from 2005 uptill today tend to charge off more\n",
    "### - Those people taking loan for small business tend to charge off about one in four times\n",
    "\n",
    "### Doubt - To add total customers in the bar chart? to check which category is most significant?\n",
    "\n",
    "\n",
    "\n",
    "\n"
   ]
  },
  {
   "cell_type": "markdown",
   "id": "c836fa92",
   "metadata": {},
   "source": [
    "### **Analysis on More than Two Variables**"
   ]
  },
  {
   "cell_type": "code",
   "execution_count": null,
   "id": "b35c86a3",
   "metadata": {},
   "outputs": [],
   "source": [
    "lc_df.columns"
   ]
  },
  {
   "cell_type": "code",
   "execution_count": null,
   "id": "6bfde208",
   "metadata": {},
   "outputs": [],
   "source": [
    "pivot=pd.pivot_table(lc_df,values=\"id\",index=\"grade\",columns=(\"loan_status\",\"sub_grade\",),aggfunc=lambda x: len(x.unique()))"
   ]
  },
  {
   "cell_type": "code",
   "execution_count": null,
   "id": "16d3bbf4",
   "metadata": {},
   "outputs": [],
   "source": [
    "co_prob = 100*pivot[\"Charged Off\"]/(pivot[\"Fully Paid\"] + pivot[\"Charged Off\"])\n",
    "co_prob.fillna(0,inplace=True)\n",
    "co_prob\n",
    "# co_prob.sort_values(by = (\"RENT\"),axis=1,inplace=True)\n",
    "# co_prob.idxmax(axis=1).index\n"
   ]
  },
  {
   "cell_type": "code",
   "execution_count": null,
   "id": "c820bc79",
   "metadata": {},
   "outputs": [],
   "source": [
    "def plot_bar_multi_variate(df,index_name,cnames,width,x_lbl_rotation):\n",
    "    pivot=pd.pivot_table(lc_df,values=\"id\",index=index_name,columns=cnames,aggfunc=lambda x: len(x.unique()))\n",
    "    co_prob = 100*pivot[\"Charged Off\"]/(pivot[\"Fully Paid\"] + pivot[\"Charged Off\"]) # Calculating the probability of charged off customers across columns\n",
    "    co_prob.fillna(0,inplace=True)\n",
    "    plt.figure(figsize=(15,5))\n",
    "    x_label = co_prob.index\n",
    "    x_data = np.arange(len(x_label)) # create values from 0 to len(x_label) - 1\n",
    "    chart=[]\n",
    "    for j,i in enumerate(co_prob.columns):\n",
    "        bottom_pos=0\n",
    "        for k in range(j-1,-1,-1):\n",
    "            bottom_pos = bottom_pos + co_prob[co_prob.columns[k]]\n",
    "        chart.append(plt.bar(x_data, co_prob[i],width=width,align=\"center\",bottom=bottom_pos))\n",
    "    plt.xlabel(index_name,fontsize=22)\n",
    "    plt.ylabel(\"% Charged Off Customers\",fontsize=22)\n",
    "    x_label_pos = x_data\n",
    "    plt.xticks(x_label_pos ,x_label,fontsize=15,rotation = x_lbl_rotation)\n",
    "    plt.yticks(fontsize=15)\n",
    "    plt.legend(chart,co_prob.columns,fontsize=15)\n",
    "    plt.title(index_name + \" vs \" + cnames[1],fontsize=20)\n",
    "    plt.show()\n",
    "lc_df[\"bin_open_acc\"] = pd.cut(lc_df[\"open_acc\"],bins=np.arange(0,51,10),labels=label_generator(np.arange(0,51,10)),include_lowest=True)\n",
    "plot_bar_multi_variate(lc_df,\"emp_length\",(\"loan_status\",\"bin_open_acc\"),0.1,45)\n"
   ]
  },
  {
   "cell_type": "code",
   "execution_count": null,
   "id": "d38e8450",
   "metadata": {},
   "outputs": [],
   "source": [
    "plot_bar_multi_variate(lc_df,\"purpose\",(\"loan_status\",\"bin_loan_amnt\"),0.3,45)\n",
    "plot_bar_multi_variate(lc_df,\"purpose\",(\"loan_status\",\"emp_length\"),0.3,45)"
   ]
  },
  {
   "cell_type": "code",
   "execution_count": null,
   "id": "b0e49c64",
   "metadata": {},
   "outputs": [],
   "source": [
    "# Employees having employee length 7-9 years and having 30 to 40 open accounts have higher chances of charging off\n",
    "# For moving and renewable energy,the probabilty of charged off customers is higher for people taking loan amount from 20000 to 30000\n",
    "# Employee with >10 years of experience takig loan for small business tend to chargeoff more \n",
    "lc_df.columns"
   ]
  },
  {
   "cell_type": "markdown",
   "id": "a7966d99",
   "metadata": {},
   "source": []
  }
 ],
 "metadata": {
  "kernelspec": {
   "display_name": "Python 3 (ipykernel)",
   "language": "python",
   "name": "python3"
  },
  "language_info": {
   "codemirror_mode": {
    "name": "ipython",
    "version": 3
   },
   "file_extension": ".py",
   "mimetype": "text/x-python",
   "name": "python",
   "nbconvert_exporter": "python",
   "pygments_lexer": "ipython3",
   "version": "3.9.7"
  }
 },
 "nbformat": 4,
 "nbformat_minor": 5
}
