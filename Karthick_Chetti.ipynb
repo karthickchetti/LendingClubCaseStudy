{
 "cells": [
  {
   "cell_type": "markdown",
   "id": "6611e0e2",
   "metadata": {},
   "source": [
    "# LENDING CLUB CASE STUDY \n",
    "## Group Members :\n",
    "1. Karthick Chetti \n",
    "2. Anirudh KVC"
   ]
  },
  {
   "cell_type": "markdown",
   "id": "dcc5c8b7",
   "metadata": {},
   "source": [
    "## Objectives :\n",
    "1. Reduce Credit loss from 'charged-off' customers who are the 'defaulters'. (Lending loans to ‘risky’ applicants) which is largest source of financial loss\n",
    "2. Understand the driving factors (or driver variables) behind loan default"
   ]
  },
  {
   "cell_type": "markdown",
   "id": "3eebe882",
   "metadata": {},
   "source": [
    "## Data Cleaning\n",
    "\n",
    "### Task 1 : Removing the unnecessary columns based on its relevance to the objective\n",
    "\n",
    "#### 1. id\t& member_id are unique and shouldn't influence the loan_status\n",
    "#### 2. emp_title - contains subjective information and irrevelant to analyze\n",
    "\n",
    "\n",
    "### Task 2 : Format Correction of Columns\n",
    "\n",
    "#### 1. term - remove months from each cell and convert to int\n",
    "\n",
    "### Task 3 : Relevant Columns\n",
    "loan_amnt\n",
    "funded_amnt\n",
    "funded_amnt_inv\n",
    "term\n",
    "int_rate\n",
    "installment\n",
    "grade\n",
    "sub_grade\n",
    "emp_length\n",
    "home_ownership\n",
    "annual_inc\n",
    "verification_status\n",
    "loan_status\n",
    "purpose\n",
    "addr_state\n",
    "dti\n",
    "delinq_2yrs\n",
    "earliest_cr_line\n",
    "mths_since_last_delinq\n",
    "open_acc\n",
    "pub_rec\n",
    "revol_bal\n",
    "revol_util\n",
    "total_acc\n",
    "last_pymnt_d\n",
    "pub_rec_bankruptcies\n",
    "\n"
   ]
  },
  {
   "cell_type": "code",
   "execution_count": 184,
   "id": "a303cb83",
   "metadata": {},
   "outputs": [],
   "source": [
    "# Load the libraries\n",
    "import pandas as pd #To work with dataset\n",
    "pd.set_option(\"display.max_columns\", 100)\n",
    "import numpy as np #Math library\n",
    "import seaborn as sns #Graph library that use matplot in background\n",
    "import matplotlib.pyplot as plt #to plot some parameters in seaborn\n",
    "from matplotlib.ticker import PercentFormatter # for percentage"
   ]
  },
  {
   "cell_type": "code",
   "execution_count": 185,
   "id": "f9a2f74e",
   "metadata": {},
   "outputs": [
    {
     "name": "stderr",
     "output_type": "stream",
     "text": [
      "C:\\Users\\kvc06\\anaconda3\\lib\\site-packages\\IPython\\core\\interactiveshell.py:3444: DtypeWarning: Columns (47) have mixed types.Specify dtype option on import or set low_memory=False.\n",
      "  exec(code_obj, self.user_global_ns, self.user_ns)\n"
     ]
    }
   ],
   "source": [
    "# Importing data\n",
    "lc_df=pd.read_csv(\"loan.csv\")"
   ]
  },
  {
   "cell_type": "code",
   "execution_count": 186,
   "id": "b7d51d3b",
   "metadata": {},
   "outputs": [],
   "source": [
    "# As we are interested in understanding charged off customers loan status as current is not useful for the analysis\n",
    "# Filtering data accorgingly\n",
    "\n",
    "lc_df = lc_df[~ (lc_df[\"loan_status\"] == \"Current\")]"
   ]
  },
  {
   "cell_type": "code",
   "execution_count": 187,
   "id": "94a79f97",
   "metadata": {},
   "outputs": [],
   "source": [
    "# Key features\n",
    "# id,loan_amnt,term,int_rate,installment,grade,sub_grade,emp_length,annual_inc,verification_status,purpose,zip_code,add_state\n",
    "# Add other additional features if felt relevant in the future\n",
    "# Here id is conidered for aggregation purpose\n",
    "req_features=[\"id\",\"loan_amnt\",\"term\",\"int_rate\",\"installment\",\"grade\",\"sub_grade\",\"home_ownership\",\"emp_length\",\"loan_status\",\"annual_inc\",\"verification_status\",\"purpose\",\"zip_code\",\"addr_state\",\"dti\",\"open_acc\"]\n",
    "lc_df = lc_df[req_features]"
   ]
  },
  {
   "cell_type": "code",
   "execution_count": 188,
   "id": "8f4c8d79",
   "metadata": {},
   "outputs": [
    {
     "data": {
      "text/html": [
       "<div>\n",
       "<style scoped>\n",
       "    .dataframe tbody tr th:only-of-type {\n",
       "        vertical-align: middle;\n",
       "    }\n",
       "\n",
       "    .dataframe tbody tr th {\n",
       "        vertical-align: top;\n",
       "    }\n",
       "\n",
       "    .dataframe thead th {\n",
       "        text-align: right;\n",
       "    }\n",
       "</style>\n",
       "<table border=\"1\" class=\"dataframe\">\n",
       "  <thead>\n",
       "    <tr style=\"text-align: right;\">\n",
       "      <th></th>\n",
       "      <th>id</th>\n",
       "      <th>loan_amnt</th>\n",
       "      <th>term</th>\n",
       "      <th>int_rate</th>\n",
       "      <th>installment</th>\n",
       "      <th>grade</th>\n",
       "      <th>sub_grade</th>\n",
       "      <th>home_ownership</th>\n",
       "      <th>emp_length</th>\n",
       "      <th>loan_status</th>\n",
       "      <th>annual_inc</th>\n",
       "      <th>verification_status</th>\n",
       "      <th>purpose</th>\n",
       "      <th>zip_code</th>\n",
       "      <th>addr_state</th>\n",
       "      <th>dti</th>\n",
       "      <th>open_acc</th>\n",
       "    </tr>\n",
       "  </thead>\n",
       "  <tbody>\n",
       "    <tr>\n",
       "      <th>0</th>\n",
       "      <td>1077501</td>\n",
       "      <td>5000</td>\n",
       "      <td>36 months</td>\n",
       "      <td>10.65%</td>\n",
       "      <td>162.87</td>\n",
       "      <td>B</td>\n",
       "      <td>B2</td>\n",
       "      <td>RENT</td>\n",
       "      <td>10+ years</td>\n",
       "      <td>Fully Paid</td>\n",
       "      <td>24000.0</td>\n",
       "      <td>Verified</td>\n",
       "      <td>credit_card</td>\n",
       "      <td>860xx</td>\n",
       "      <td>AZ</td>\n",
       "      <td>27.65</td>\n",
       "      <td>3</td>\n",
       "    </tr>\n",
       "    <tr>\n",
       "      <th>1</th>\n",
       "      <td>1077430</td>\n",
       "      <td>2500</td>\n",
       "      <td>60 months</td>\n",
       "      <td>15.27%</td>\n",
       "      <td>59.83</td>\n",
       "      <td>C</td>\n",
       "      <td>C4</td>\n",
       "      <td>RENT</td>\n",
       "      <td>&lt; 1 year</td>\n",
       "      <td>Charged Off</td>\n",
       "      <td>30000.0</td>\n",
       "      <td>Source Verified</td>\n",
       "      <td>car</td>\n",
       "      <td>309xx</td>\n",
       "      <td>GA</td>\n",
       "      <td>1.00</td>\n",
       "      <td>3</td>\n",
       "    </tr>\n",
       "    <tr>\n",
       "      <th>2</th>\n",
       "      <td>1077175</td>\n",
       "      <td>2400</td>\n",
       "      <td>36 months</td>\n",
       "      <td>15.96%</td>\n",
       "      <td>84.33</td>\n",
       "      <td>C</td>\n",
       "      <td>C5</td>\n",
       "      <td>RENT</td>\n",
       "      <td>10+ years</td>\n",
       "      <td>Fully Paid</td>\n",
       "      <td>12252.0</td>\n",
       "      <td>Not Verified</td>\n",
       "      <td>small_business</td>\n",
       "      <td>606xx</td>\n",
       "      <td>IL</td>\n",
       "      <td>8.72</td>\n",
       "      <td>2</td>\n",
       "    </tr>\n",
       "    <tr>\n",
       "      <th>3</th>\n",
       "      <td>1076863</td>\n",
       "      <td>10000</td>\n",
       "      <td>36 months</td>\n",
       "      <td>13.49%</td>\n",
       "      <td>339.31</td>\n",
       "      <td>C</td>\n",
       "      <td>C1</td>\n",
       "      <td>RENT</td>\n",
       "      <td>10+ years</td>\n",
       "      <td>Fully Paid</td>\n",
       "      <td>49200.0</td>\n",
       "      <td>Source Verified</td>\n",
       "      <td>other</td>\n",
       "      <td>917xx</td>\n",
       "      <td>CA</td>\n",
       "      <td>20.00</td>\n",
       "      <td>10</td>\n",
       "    </tr>\n",
       "    <tr>\n",
       "      <th>5</th>\n",
       "      <td>1075269</td>\n",
       "      <td>5000</td>\n",
       "      <td>36 months</td>\n",
       "      <td>7.90%</td>\n",
       "      <td>156.46</td>\n",
       "      <td>A</td>\n",
       "      <td>A4</td>\n",
       "      <td>RENT</td>\n",
       "      <td>3 years</td>\n",
       "      <td>Fully Paid</td>\n",
       "      <td>36000.0</td>\n",
       "      <td>Source Verified</td>\n",
       "      <td>wedding</td>\n",
       "      <td>852xx</td>\n",
       "      <td>AZ</td>\n",
       "      <td>11.20</td>\n",
       "      <td>9</td>\n",
       "    </tr>\n",
       "  </tbody>\n",
       "</table>\n",
       "</div>"
      ],
      "text/plain": [
       "        id  loan_amnt        term int_rate  installment grade sub_grade  \\\n",
       "0  1077501       5000   36 months   10.65%       162.87     B        B2   \n",
       "1  1077430       2500   60 months   15.27%        59.83     C        C4   \n",
       "2  1077175       2400   36 months   15.96%        84.33     C        C5   \n",
       "3  1076863      10000   36 months   13.49%       339.31     C        C1   \n",
       "5  1075269       5000   36 months    7.90%       156.46     A        A4   \n",
       "\n",
       "  home_ownership emp_length  loan_status  annual_inc verification_status  \\\n",
       "0           RENT  10+ years   Fully Paid     24000.0            Verified   \n",
       "1           RENT   < 1 year  Charged Off     30000.0     Source Verified   \n",
       "2           RENT  10+ years   Fully Paid     12252.0        Not Verified   \n",
       "3           RENT  10+ years   Fully Paid     49200.0     Source Verified   \n",
       "5           RENT    3 years   Fully Paid     36000.0     Source Verified   \n",
       "\n",
       "          purpose zip_code addr_state    dti  open_acc  \n",
       "0     credit_card    860xx         AZ  27.65         3  \n",
       "1             car    309xx         GA   1.00         3  \n",
       "2  small_business    606xx         IL   8.72         2  \n",
       "3           other    917xx         CA  20.00        10  \n",
       "5         wedding    852xx         AZ  11.20         9  "
      ]
     },
     "execution_count": 188,
     "metadata": {},
     "output_type": "execute_result"
    }
   ],
   "source": [
    "# Having a look at the data\n",
    "lc_df.head()"
   ]
  },
  {
   "cell_type": "code",
   "execution_count": 189,
   "id": "a3971cb4",
   "metadata": {},
   "outputs": [
    {
     "name": "stdout",
     "output_type": "stream",
     "text": [
      "<class 'pandas.core.frame.DataFrame'>\n",
      "Int64Index: 38577 entries, 0 to 39716\n",
      "Data columns (total 17 columns):\n",
      " #   Column               Non-Null Count  Dtype  \n",
      "---  ------               --------------  -----  \n",
      " 0   id                   38577 non-null  int64  \n",
      " 1   loan_amnt            38577 non-null  int64  \n",
      " 2   term                 38577 non-null  object \n",
      " 3   int_rate             38577 non-null  object \n",
      " 4   installment          38577 non-null  float64\n",
      " 5   grade                38577 non-null  object \n",
      " 6   sub_grade            38577 non-null  object \n",
      " 7   home_ownership       38577 non-null  object \n",
      " 8   emp_length           37544 non-null  object \n",
      " 9   loan_status          38577 non-null  object \n",
      " 10  annual_inc           38577 non-null  float64\n",
      " 11  verification_status  38577 non-null  object \n",
      " 12  purpose              38577 non-null  object \n",
      " 13  zip_code             38577 non-null  object \n",
      " 14  addr_state           38577 non-null  object \n",
      " 15  dti                  38577 non-null  float64\n",
      " 16  open_acc             38577 non-null  int64  \n",
      "dtypes: float64(3), int64(3), object(11)\n",
      "memory usage: 5.3+ MB\n"
     ]
    },
    {
     "data": {
      "text/html": [
       "<div>\n",
       "<style scoped>\n",
       "    .dataframe tbody tr th:only-of-type {\n",
       "        vertical-align: middle;\n",
       "    }\n",
       "\n",
       "    .dataframe tbody tr th {\n",
       "        vertical-align: top;\n",
       "    }\n",
       "\n",
       "    .dataframe thead th {\n",
       "        text-align: right;\n",
       "    }\n",
       "</style>\n",
       "<table border=\"1\" class=\"dataframe\">\n",
       "  <thead>\n",
       "    <tr style=\"text-align: right;\">\n",
       "      <th></th>\n",
       "      <th>id</th>\n",
       "      <th>loan_amnt</th>\n",
       "      <th>installment</th>\n",
       "      <th>annual_inc</th>\n",
       "      <th>dti</th>\n",
       "      <th>open_acc</th>\n",
       "    </tr>\n",
       "  </thead>\n",
       "  <tbody>\n",
       "    <tr>\n",
       "      <th>count</th>\n",
       "      <td>3.857700e+04</td>\n",
       "      <td>38577.000000</td>\n",
       "      <td>38577.000000</td>\n",
       "      <td>3.857700e+04</td>\n",
       "      <td>38577.000000</td>\n",
       "      <td>38577.000000</td>\n",
       "    </tr>\n",
       "    <tr>\n",
       "      <th>mean</th>\n",
       "      <td>6.763787e+05</td>\n",
       "      <td>11047.025430</td>\n",
       "      <td>322.466318</td>\n",
       "      <td>6.877797e+04</td>\n",
       "      <td>13.272727</td>\n",
       "      <td>9.275423</td>\n",
       "    </tr>\n",
       "    <tr>\n",
       "      <th>std</th>\n",
       "      <td>2.092639e+05</td>\n",
       "      <td>7348.441646</td>\n",
       "      <td>208.639215</td>\n",
       "      <td>6.421868e+04</td>\n",
       "      <td>6.673044</td>\n",
       "      <td>4.401588</td>\n",
       "    </tr>\n",
       "    <tr>\n",
       "      <th>min</th>\n",
       "      <td>5.473400e+04</td>\n",
       "      <td>500.000000</td>\n",
       "      <td>15.690000</td>\n",
       "      <td>4.000000e+03</td>\n",
       "      <td>0.000000</td>\n",
       "      <td>2.000000</td>\n",
       "    </tr>\n",
       "    <tr>\n",
       "      <th>25%</th>\n",
       "      <td>5.120330e+05</td>\n",
       "      <td>5300.000000</td>\n",
       "      <td>165.740000</td>\n",
       "      <td>4.000000e+04</td>\n",
       "      <td>8.130000</td>\n",
       "      <td>6.000000</td>\n",
       "    </tr>\n",
       "    <tr>\n",
       "      <th>50%</th>\n",
       "      <td>6.564230e+05</td>\n",
       "      <td>9600.000000</td>\n",
       "      <td>277.860000</td>\n",
       "      <td>5.886800e+04</td>\n",
       "      <td>13.370000</td>\n",
       "      <td>9.000000</td>\n",
       "    </tr>\n",
       "    <tr>\n",
       "      <th>75%</th>\n",
       "      <td>8.291460e+05</td>\n",
       "      <td>15000.000000</td>\n",
       "      <td>425.550000</td>\n",
       "      <td>8.200000e+04</td>\n",
       "      <td>18.560000</td>\n",
       "      <td>12.000000</td>\n",
       "    </tr>\n",
       "    <tr>\n",
       "      <th>max</th>\n",
       "      <td>1.077501e+06</td>\n",
       "      <td>35000.000000</td>\n",
       "      <td>1305.190000</td>\n",
       "      <td>6.000000e+06</td>\n",
       "      <td>29.990000</td>\n",
       "      <td>44.000000</td>\n",
       "    </tr>\n",
       "  </tbody>\n",
       "</table>\n",
       "</div>"
      ],
      "text/plain": [
       "                 id     loan_amnt   installment    annual_inc           dti  \\\n",
       "count  3.857700e+04  38577.000000  38577.000000  3.857700e+04  38577.000000   \n",
       "mean   6.763787e+05  11047.025430    322.466318  6.877797e+04     13.272727   \n",
       "std    2.092639e+05   7348.441646    208.639215  6.421868e+04      6.673044   \n",
       "min    5.473400e+04    500.000000     15.690000  4.000000e+03      0.000000   \n",
       "25%    5.120330e+05   5300.000000    165.740000  4.000000e+04      8.130000   \n",
       "50%    6.564230e+05   9600.000000    277.860000  5.886800e+04     13.370000   \n",
       "75%    8.291460e+05  15000.000000    425.550000  8.200000e+04     18.560000   \n",
       "max    1.077501e+06  35000.000000   1305.190000  6.000000e+06     29.990000   \n",
       "\n",
       "           open_acc  \n",
       "count  38577.000000  \n",
       "mean       9.275423  \n",
       "std        4.401588  \n",
       "min        2.000000  \n",
       "25%        6.000000  \n",
       "50%        9.000000  \n",
       "75%       12.000000  \n",
       "max       44.000000  "
      ]
     },
     "execution_count": 189,
     "metadata": {},
     "output_type": "execute_result"
    }
   ],
   "source": [
    "# Understanding the data and data types\n",
    "lc_df.info(verbose=True,show_counts=True)\n",
    "lc_df.describe()"
   ]
  },
  {
   "cell_type": "markdown",
   "id": "b2dec733",
   "metadata": {},
   "source": [
    "# Missing value imputation\n",
    "# Total number of data points found are 38577 \n",
    "## It is observed that for emp_length, some data is missing"
   ]
  },
  {
   "cell_type": "code",
   "execution_count": 190,
   "id": "907a5e12",
   "metadata": {},
   "outputs": [
    {
     "data": {
      "text/plain": [
       "10+ years    8488\n",
       "< 1 year     4508\n",
       "2 years      4291\n",
       "3 years      4012\n",
       "4 years      3342\n",
       "5 years      3194\n",
       "1 year       3169\n",
       "6 years      2168\n",
       "7 years      1711\n",
       "8 years      1435\n",
       "9 years      1226\n",
       "Name: emp_length, dtype: int64"
      ]
     },
     "execution_count": 190,
     "metadata": {},
     "output_type": "execute_result"
    }
   ],
   "source": [
    "# As the number of missing data is less, missing value imputation can be done\n",
    "# Checking the values in emp_length column\n",
    "lc_df[\"emp_length\"].value_counts()"
   ]
  },
  {
   "cell_type": "code",
   "execution_count": 191,
   "id": "67bbf045",
   "metadata": {},
   "outputs": [
    {
     "name": "stdout",
     "output_type": "stream",
     "text": [
      "<class 'pandas.core.frame.DataFrame'>\n",
      "Int64Index: 38577 entries, 0 to 39716\n",
      "Data columns (total 17 columns):\n",
      " #   Column               Non-Null Count  Dtype  \n",
      "---  ------               --------------  -----  \n",
      " 0   id                   38577 non-null  int64  \n",
      " 1   loan_amnt            38577 non-null  int64  \n",
      " 2   term                 38577 non-null  object \n",
      " 3   int_rate             38577 non-null  object \n",
      " 4   installment          38577 non-null  float64\n",
      " 5   grade                38577 non-null  object \n",
      " 6   sub_grade            38577 non-null  object \n",
      " 7   home_ownership       38577 non-null  object \n",
      " 8   emp_length           38577 non-null  object \n",
      " 9   loan_status          38577 non-null  object \n",
      " 10  annual_inc           38577 non-null  float64\n",
      " 11  verification_status  38577 non-null  object \n",
      " 12  purpose              38577 non-null  object \n",
      " 13  zip_code             38577 non-null  object \n",
      " 14  addr_state           38577 non-null  object \n",
      " 15  dti                  38577 non-null  float64\n",
      " 16  open_acc             38577 non-null  int64  \n",
      "dtypes: float64(3), int64(3), object(11)\n",
      "memory usage: 5.3+ MB\n"
     ]
    },
    {
     "data": {
      "text/plain": [
       "10+ years    9521\n",
       "< 1 year     4508\n",
       "2 years      4291\n",
       "3 years      4012\n",
       "4 years      3342\n",
       "5 years      3194\n",
       "1 year       3169\n",
       "6 years      2168\n",
       "7 years      1711\n",
       "8 years      1435\n",
       "9 years      1226\n",
       "Name: emp_length, dtype: int64"
      ]
     },
     "execution_count": 191,
     "metadata": {},
     "output_type": "execute_result"
    }
   ],
   "source": [
    "# As the most recurring value is 10+years, adding 10+ years whereever the data is missing\n",
    "lc_df[\"emp_length\"] = lc_df[\"emp_length\"].fillna(\"10+ years\")\n",
    "lc_df.info()\n",
    "lc_df[\"emp_length\"].value_counts()"
   ]
  },
  {
   "cell_type": "code",
   "execution_count": 192,
   "id": "498ae6be",
   "metadata": {},
   "outputs": [],
   "source": [
    "#Removing columns having 50% null values in them as such data is not useful\n",
    "#lc_df_nulldrop=lc_df.dropna(axis=1,thresh=int(0.5*len(lc_df)))"
   ]
  },
  {
   "cell_type": "code",
   "execution_count": 193,
   "id": "efd80cf9",
   "metadata": {},
   "outputs": [],
   "source": [
    "#Printing number of columns removed\n",
    "#removed_columns=len(lc_df.columns)-len(lc_df_nulldrop.columns)\n",
    "#print(f\"{removed_columns} columns were removed\")"
   ]
  },
  {
   "cell_type": "code",
   "execution_count": 194,
   "id": "9f7b54da",
   "metadata": {},
   "outputs": [
    {
     "data": {
      "text/html": [
       "<div>\n",
       "<style scoped>\n",
       "    .dataframe tbody tr th:only-of-type {\n",
       "        vertical-align: middle;\n",
       "    }\n",
       "\n",
       "    .dataframe tbody tr th {\n",
       "        vertical-align: top;\n",
       "    }\n",
       "\n",
       "    .dataframe thead th {\n",
       "        text-align: right;\n",
       "    }\n",
       "</style>\n",
       "<table border=\"1\" class=\"dataframe\">\n",
       "  <thead>\n",
       "    <tr style=\"text-align: right;\">\n",
       "      <th></th>\n",
       "      <th>id</th>\n",
       "      <th>loan_amnt</th>\n",
       "      <th>installment</th>\n",
       "      <th>annual_inc</th>\n",
       "      <th>dti</th>\n",
       "      <th>open_acc</th>\n",
       "    </tr>\n",
       "  </thead>\n",
       "  <tbody>\n",
       "    <tr>\n",
       "      <th>count</th>\n",
       "      <td>3.857700e+04</td>\n",
       "      <td>38577.000000</td>\n",
       "      <td>38577.000000</td>\n",
       "      <td>3.857700e+04</td>\n",
       "      <td>38577.000000</td>\n",
       "      <td>38577.000000</td>\n",
       "    </tr>\n",
       "    <tr>\n",
       "      <th>mean</th>\n",
       "      <td>6.763787e+05</td>\n",
       "      <td>11047.025430</td>\n",
       "      <td>322.466318</td>\n",
       "      <td>6.877797e+04</td>\n",
       "      <td>13.272727</td>\n",
       "      <td>9.275423</td>\n",
       "    </tr>\n",
       "    <tr>\n",
       "      <th>std</th>\n",
       "      <td>2.092639e+05</td>\n",
       "      <td>7348.441646</td>\n",
       "      <td>208.639215</td>\n",
       "      <td>6.421868e+04</td>\n",
       "      <td>6.673044</td>\n",
       "      <td>4.401588</td>\n",
       "    </tr>\n",
       "    <tr>\n",
       "      <th>min</th>\n",
       "      <td>5.473400e+04</td>\n",
       "      <td>500.000000</td>\n",
       "      <td>15.690000</td>\n",
       "      <td>4.000000e+03</td>\n",
       "      <td>0.000000</td>\n",
       "      <td>2.000000</td>\n",
       "    </tr>\n",
       "    <tr>\n",
       "      <th>25%</th>\n",
       "      <td>5.120330e+05</td>\n",
       "      <td>5300.000000</td>\n",
       "      <td>165.740000</td>\n",
       "      <td>4.000000e+04</td>\n",
       "      <td>8.130000</td>\n",
       "      <td>6.000000</td>\n",
       "    </tr>\n",
       "    <tr>\n",
       "      <th>50%</th>\n",
       "      <td>6.564230e+05</td>\n",
       "      <td>9600.000000</td>\n",
       "      <td>277.860000</td>\n",
       "      <td>5.886800e+04</td>\n",
       "      <td>13.370000</td>\n",
       "      <td>9.000000</td>\n",
       "    </tr>\n",
       "    <tr>\n",
       "      <th>75%</th>\n",
       "      <td>8.291460e+05</td>\n",
       "      <td>15000.000000</td>\n",
       "      <td>425.550000</td>\n",
       "      <td>8.200000e+04</td>\n",
       "      <td>18.560000</td>\n",
       "      <td>12.000000</td>\n",
       "    </tr>\n",
       "    <tr>\n",
       "      <th>max</th>\n",
       "      <td>1.077501e+06</td>\n",
       "      <td>35000.000000</td>\n",
       "      <td>1305.190000</td>\n",
       "      <td>6.000000e+06</td>\n",
       "      <td>29.990000</td>\n",
       "      <td>44.000000</td>\n",
       "    </tr>\n",
       "  </tbody>\n",
       "</table>\n",
       "</div>"
      ],
      "text/plain": [
       "                 id     loan_amnt   installment    annual_inc           dti  \\\n",
       "count  3.857700e+04  38577.000000  38577.000000  3.857700e+04  38577.000000   \n",
       "mean   6.763787e+05  11047.025430    322.466318  6.877797e+04     13.272727   \n",
       "std    2.092639e+05   7348.441646    208.639215  6.421868e+04      6.673044   \n",
       "min    5.473400e+04    500.000000     15.690000  4.000000e+03      0.000000   \n",
       "25%    5.120330e+05   5300.000000    165.740000  4.000000e+04      8.130000   \n",
       "50%    6.564230e+05   9600.000000    277.860000  5.886800e+04     13.370000   \n",
       "75%    8.291460e+05  15000.000000    425.550000  8.200000e+04     18.560000   \n",
       "max    1.077501e+06  35000.000000   1305.190000  6.000000e+06     29.990000   \n",
       "\n",
       "           open_acc  \n",
       "count  38577.000000  \n",
       "mean       9.275423  \n",
       "std        4.401588  \n",
       "min        2.000000  \n",
       "25%        6.000000  \n",
       "50%        9.000000  \n",
       "75%       12.000000  \n",
       "max       44.000000  "
      ]
     },
     "execution_count": 194,
     "metadata": {},
     "output_type": "execute_result"
    }
   ],
   "source": [
    "#Checking the statistics of the new dataframe\n",
    "lc_df.describe()"
   ]
  },
  {
   "cell_type": "markdown",
   "id": "583c7a46",
   "metadata": {},
   "source": [
    "### It is observed that some columns have only one value(mostly 0) throughout the rows, which are not useful for the analysis"
   ]
  },
  {
   "cell_type": "code",
   "execution_count": 195,
   "id": "529956cb",
   "metadata": {},
   "outputs": [],
   "source": [
    "#Dropping such columns in the dataframe\n",
    "# dropped_col=[]\n",
    "# for col in lc_df_nulldrop.columns:\n",
    "#     if len(lc_df_nulldrop[col].unique())==1:\n",
    "#         dropped_col.append(col)\n",
    "# print(f\"The columns to be dropped are : {dropped_col}\")\n",
    "# lc_df_droppedcol=lc_df_nulldrop.drop(dropped_col,axis=1)"
   ]
  },
  {
   "cell_type": "markdown",
   "id": "a1e33f77",
   "metadata": {},
   "source": [
    "### Dropping columns based on their relevance to the business objective\n",
    "#### 1. id ,member id and url will be specific to each customer \n",
    "#### 2. title,emp_title,desc - Very subjective and unstructured values in these columns"
   ]
  },
  {
   "cell_type": "code",
   "execution_count": 196,
   "id": "24792702",
   "metadata": {},
   "outputs": [],
   "source": [
    "#Collecting all non relevant columns\n",
    "# non_relevant_cols=[\"id\",\"member_id\",\"url\",\"title\",\"emp_title\",\"desc\"]\n",
    "# #Dropping these columns\n",
    "# lc_df_droppedcol.drop(non_relevant_cols,axis=1,inplace=True)"
   ]
  },
  {
   "cell_type": "code",
   "execution_count": 197,
   "id": "73caabac",
   "metadata": {},
   "outputs": [],
   "source": [
    "#lc_df_droppedcol.info(verbose=True,show_counts=True)"
   ]
  },
  {
   "cell_type": "markdown",
   "id": "399783ee",
   "metadata": {},
   "source": [
    "### It is observed that some columns still have missing values and 0 as only values in column\n",
    "#### collections_12_mths_ex_med, chargeoff_within_12_mths, tax_liens"
   ]
  },
  {
   "cell_type": "code",
   "execution_count": 198,
   "id": "c8a3cdd9",
   "metadata": {},
   "outputs": [],
   "source": [
    "# print(\"Unique values of collections_12_mths_ex_med column :\",lc_df_droppedcol[\"collections_12_mths_ex_med\"].unique())\n",
    "# print(\"Unique values of chargeoff_within_12_mths column :\",lc_df_droppedcol[\"chargeoff_within_12_mths\"].unique())\n",
    "# print(\"Unique values of tax_liens column :\",lc_df_droppedcol[\"tax_liens\"].unique())\n",
    "# #Hence, dropping these columns\n",
    "# lc_df_droppedcol.drop([\"collections_12_mths_ex_med\",\"chargeoff_within_12_mths\",\"tax_liens\"],axis=1,inplace=True)"
   ]
  },
  {
   "cell_type": "code",
   "execution_count": 199,
   "id": "4bea2931",
   "metadata": {},
   "outputs": [],
   "source": [
    "# lc_df_droppedcol.head()"
   ]
  },
  {
   "cell_type": "code",
   "execution_count": 200,
   "id": "da6e5937",
   "metadata": {},
   "outputs": [],
   "source": [
    "# lc_df_droppedcol.info(verbose=True,show_counts=True)"
   ]
  },
  {
   "cell_type": "markdown",
   "id": "6ef357f6",
   "metadata": {},
   "source": [
    "### There are still some columns which have missing values, Therefore understanding the number of missing values in these columns"
   ]
  },
  {
   "cell_type": "code",
   "execution_count": 201,
   "id": "5784c508",
   "metadata": {},
   "outputs": [],
   "source": [
    "# empty_cols=lc_df_droppedcol.columns[lc_df_droppedcol.isna().any()].tolist()\n",
    "# empty_vals=[lc_df_droppedcol[col].isna().sum() for col in empty_cols]\n",
    "# empty_per_dict=dict(zip(empty_cols,empty_vals))\n",
    "# print(\"The missing values in each column is :\\n\",empty_per_dict)"
   ]
  },
  {
   "cell_type": "markdown",
   "id": "88039319",
   "metadata": {},
   "source": [
    "### Missing Value Imputation"
   ]
  },
  {
   "cell_type": "code",
   "execution_count": 202,
   "id": "67701804",
   "metadata": {},
   "outputs": [],
   "source": [
    "#Add mean and median to missing values"
   ]
  },
  {
   "cell_type": "code",
   "execution_count": null,
   "id": "15472fe7",
   "metadata": {},
   "outputs": [],
   "source": []
  },
  {
   "cell_type": "code",
   "execution_count": null,
   "id": "13b8589d",
   "metadata": {},
   "outputs": [],
   "source": []
  },
  {
   "cell_type": "markdown",
   "id": "722fdd07",
   "metadata": {},
   "source": [
    "### Fixing data types of columns"
   ]
  },
  {
   "cell_type": "code",
   "execution_count": 203,
   "id": "0cc65b2f",
   "metadata": {},
   "outputs": [],
   "source": [
    "# Removing % and converting to float\n",
    "lc_df[\"int_rate\"]=lc_df[\"int_rate\"].str.replace(\"%\",\"\").astype(float)\n",
    "# lc_df_droppedcol[\"revol_util\"]=lc_df_droppedcol[\"revol_util\"].str.replace(\"%\",\"\").astype(float)"
   ]
  },
  {
   "cell_type": "markdown",
   "id": "5140c101",
   "metadata": {},
   "source": [
    "## Checking Data Distributions for Numeric Data"
   ]
  },
  {
   "cell_type": "code",
   "execution_count": 204,
   "id": "711c97d9",
   "metadata": {},
   "outputs": [
    {
     "data": {
      "image/png": "[encoded data removed]",
      "text/plain": [
       "<Figure size 432x288 with 1 Axes>"
      ]
     },
     "metadata": {
      "needs_background": "light"
     },
     "output_type": "display_data"
    },
    {
     "data": {
      "image/png": "[encoded data removed]",
      "text/plain": [
       "<Figure size 432x288 with 1 Axes>"
      ]
     },
     "metadata": {
      "needs_background": "light"
     },
     "output_type": "display_data"
    },
    {
     "data": {
      "image/png": "[encoded data removed]",
      "text/plain": [
       "<Figure size 432x288 with 1 Axes>"
      ]
     },
     "metadata": {
      "needs_background": "light"
     },
     "output_type": "display_data"
    },
    {
     "data": {
      "image/png": "[encoded data removed]",
      "text/plain": [
       "<Figure size 432x288 with 1 Axes>"
      ]
     },
     "metadata": {
      "needs_background": "light"
     },
     "output_type": "display_data"
    },
    {
     "data": {
      "image/png": "[encoded data removed]",
      "text/plain": [
       "<Figure size 432x288 with 1 Axes>"
      ]
     },
     "metadata": {
      "needs_background": "light"
     },
     "output_type": "display_data"
    },
    {
     "data": {
      "image/png": "[encoded data removed]",
      "text/plain": [
       "<Figure size 432x288 with 1 Axes>"
      ]
     },
     "metadata": {
      "needs_background": "light"
     },
     "output_type": "display_data"
    },
    {
     "data": {
      "image/png": "[encoded data removed]",
      "text/plain": [
       "<Figure size 432x288 with 1 Axes>"
      ]
     },
     "metadata": {
      "needs_background": "light"
     },
     "output_type": "display_data"
    }
   ],
   "source": [
    "#Checking the distributions for numeric data and identifying relevant columns for business objective\n",
    "def box_plot_col(df):\n",
    "    i=1\n",
    "    for col in df.columns:\n",
    "        if df[col].dtype in [\"int64\",\"float64\"]:\n",
    "            # plt.subplot(1, 2, 1)\n",
    "            # plt.hist(df[col])\n",
    "            # plt.xlabel(col)\n",
    "            #plt.subplot(1, 2, 2)\n",
    "            plt.boxplot(df[col])\n",
    "            plt.xlabel(col)\n",
    "            #plt.tight_layout()\n",
    "            plt.show()\n",
    "box_plot_col(lc_df)"
   ]
  },
  {
   "cell_type": "markdown",
   "id": "4255eb4b",
   "metadata": {},
   "source": [
    "## EDA for Business Objective 1 :\n",
    "### Reduce Credit loss from 'charged-off' customers who are the 'defaulters'. (Lending loans to ‘risky’ applicants) which is largest source of financial loss"
   ]
  },
  {
   "cell_type": "code",
   "execution_count": null,
   "id": "88554f4e",
   "metadata": {},
   "outputs": [],
   "source": []
  },
  {
   "cell_type": "code",
   "execution_count": null,
   "id": "02cf530e",
   "metadata": {},
   "outputs": [],
   "source": []
  },
  {
   "cell_type": "code",
   "execution_count": 205,
   "id": "5a598d3d",
   "metadata": {},
   "outputs": [],
   "source": [
    "# Univariate Analysis\n",
    "# Functions for plotting graphs wrt columns as percentage\n",
    "\n",
    "\n",
    "def plot_hist(df,column_name,bins):\n",
    "    plot_data = (df[df[\"loan_status\"]==\"Fully Paid\"][column_name],df[df[\"loan_status\"]==\"Charged Off\"][column_name])\n",
    "    #weight_data= (np.ones(len(plot_data[0])) / len(plot_data[0]+plot_data[1]),np.ones(len(plot_data[1])) / len(plot_data[0]+plot_data[1]))\n",
    "    weight_data= (np.ones(len(plot_data[0])) / len(plot_data[0]),np.ones(len(plot_data[1])) / len(plot_data[1]))\n",
    "    plt.figure(figsize=(20,10))\n",
    "    n,bin_data,patches=plt.hist(plot_data,color=(\"g\",\"r\"),weights=weight_data,bins=bins)\n",
    "    #plt.hist(plot_data,color=(\"g\",\"r\"))\n",
    "    plt.xlabel(column_name,fontsize=22)\n",
    "    plt.ylabel(\"Percentage\",fontsize=22)\n",
    "    plt.xticks(fontsize=15)\n",
    "    plt.yticks(fontsize=15)\n",
    "    plt.gca().yaxis.set_major_formatter(PercentFormatter(1))\n",
    "    plt.legend((\"Fully Paid\",\"Charged Off\"))\n",
    "    plt.show()\n",
    "    return n,bin_data,patches\n",
    "\n",
    "def plot_hist_cat(df,column_name,width):\n",
    "    df.plot.hist(column=[\"age\"], by=\"gender\", figsize=(10, 8))\n",
    "    plt.figure(figsize=(20,10))\n",
    "    plot_data = (df[df[\"loan_status\"]==\"Fully Paid\"][column_name].value_counts().index)\n",
    "    #plot_data = (df[df[\"loan_status\"]==\"Fully Paid\"][column_name].value_counts().index,df[df[\"loan_status\"]==\"Charged Off\"][column_name].value_counts().index)\n",
    "    count_data = (df[df[\"loan_status\"]==\"Fully Paid\"][column_name].value_counts().values,df[df[\"loan_status\"]==\"Charged Off\"][column_name].value_counts().values)\n",
    "    plt.bar(plot_data, count_data, width=width)\n",
    "    plt.xlabel(column_name,fontsize=22)\n",
    "    plt.ylabel(\"Frequency\",fontsize=22)\n",
    "    plt.xticks(fontsize=15)\n",
    "    plt.yticks(fontsize=15)\n",
    "    plt.legend((\"Fully Paid\",\"Charged Off\"))\n",
    "    plt.show()\n",
    "    \n",
    "\n"
   ]
  },
  {
   "cell_type": "code",
   "execution_count": 206,
   "id": "7e088c0d",
   "metadata": {},
   "outputs": [
    {
     "data": {
      "image/png": "[encoded data removed]",
      "text/plain": [
       "<Figure size 1440x720 with 1 Axes>"
      ]
     },
     "metadata": {
      "needs_background": "light"
     },
     "output_type": "display_data"
    },
    {
     "data": {
      "image/png": "[encoded data removed]",
      "text/plain": [
       "<Figure size 1440x720 with 1 Axes>"
      ]
     },
     "metadata": {
      "needs_background": "light"
     },
     "output_type": "display_data"
    },
    {
     "data": {
      "image/png": "[encoded data removed]",
      "text/plain": [
       "<Figure size 1440x720 with 1 Axes>"
      ]
     },
     "metadata": {
      "needs_background": "light"
     },
     "output_type": "display_data"
    }
   ],
   "source": [
    "a1,b1,c1=plot_hist(lc_df,\"loan_amnt\",np.linspace(0,40000,num=9))\n",
    "a2,b2,c2 = plot_hist(lc_df,\"int_rate\",np.linspace(0,25,num=6))\n",
    "a3,b3,c3 = plot_hist(lc_df,\"annual_inc\",np.linspace(4000,6000000,num=10))"
   ]
  },
  {
   "cell_type": "code",
   "execution_count": null,
   "id": "c9beb3ef",
   "metadata": {},
   "outputs": [],
   "source": []
  },
  {
   "cell_type": "code",
   "execution_count": 207,
   "id": "6df92048",
   "metadata": {},
   "outputs": [],
   "source": [
    "# Insights from the histogram\n",
    "# No loan is offered from 0 to 5 % interest rate\n",
    "\n",
    "# wrt interest rate\n",
    "#1) Around 48% of the charged of customers fall under interest rate of 10 to 15 percentage\n",
    "#2) 85 % of the charged off customers have taken the loan at an interest rate of > 10 %\n",
    "\n",
    "# wrt loan_amnt\n",
    "#1) 82 % of the charged customers have taken the loan amount > 5000\n",
    "#2) 50 % of fully paid customers have taken the loan amont < 10000"
   ]
  },
  {
   "cell_type": "code",
   "execution_count": 208,
   "id": "e60dadb8",
   "metadata": {},
   "outputs": [],
   "source": [
    "num_cols=[]\n",
    "for col in lc_df.columns:\n",
    "    if lc_df[col].dtype in [\"int64\",\"float64\"]:\n",
    "        num_cols.append(col)\n",
    "num_lc_df_corr=lc_df[num_cols].corr()\n",
    "num_lc_df = lc_df[num_cols]"
   ]
  },
  {
   "cell_type": "code",
   "execution_count": 209,
   "id": "b3a506f1",
   "metadata": {},
   "outputs": [
    {
     "data": {
      "image/png": "[encoded data removed]",
      "text/plain": [
       "<Figure size 1440x720 with 2 Axes>"
      ]
     },
     "metadata": {
      "needs_background": "light"
     },
     "output_type": "display_data"
    }
   ],
   "source": [
    "plt.figure(figsize=(20,10))\n",
    "sns.heatmap(num_lc_df_corr,cmap=\"viridis\",annot=True)\n",
    "plt.show()"
   ]
  },
  {
   "cell_type": "code",
   "execution_count": null,
   "id": "c57d7447",
   "metadata": {},
   "outputs": [],
   "source": []
  },
  {
   "cell_type": "code",
   "execution_count": 210,
   "id": "dbaccd47",
   "metadata": {},
   "outputs": [],
   "source": [
    "# sns.pairplot(num_lc_df.iloc[:,1:10])\n",
    "# plt.show()"
   ]
  },
  {
   "cell_type": "code",
   "execution_count": 211,
   "id": "00d78984",
   "metadata": {},
   "outputs": [],
   "source": [
    "### Derived Metrics\n",
    "#### earliest_cr_line to year\n",
    "#### closed acc = total - open acc\n",
    "#### ratio of funded_amt_inv to loan_amt"
   ]
  }
 ],
 "metadata": {
  "kernelspec": {
   "display_name": "Python 3 (ipykernel)",
   "language": "python",
   "name": "python3"
  },
  "language_info": {
   "codemirror_mode": {
    "name": "ipython",
    "version": 3
   },
   "file_extension": ".py",
   "mimetype": "text/x-python",
   "name": "python",
   "nbconvert_exporter": "python",
   "pygments_lexer": "ipython3",
   "version": "3.9.7"
  }
 },
 "nbformat": 4,
 "nbformat_minor": 5
}
