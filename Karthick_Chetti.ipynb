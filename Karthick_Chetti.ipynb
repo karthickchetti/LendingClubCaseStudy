{
 "cells": [
  {
   "cell_type": "markdown",
   "id": "6611e0e2",
   "metadata": {},
   "source": [
    "# **LENDING CLUB CASE STUDY** \n",
    "## **Group Members :**\n",
    "### **1. Karthick Chetti** - Group Fecilitator\n",
    "### **2. Anirudh KVC** - Collaborator"
   ]
  },
  {
   "cell_type": "markdown",
   "id": "69b6d6b8",
   "metadata": {},
   "source": [
    "## **Index of Notebook**\n",
    "1. Objectives\n",
    "2. Understanding Data\n",
    "3. Data Cleaning\n",
    "4. Selecting columns based on business objectives\n",
    "5. Missing Value Imputation\n",
    "6. Understanding variables and their datatypes\n"
   ]
  },
  {
   "cell_type": "markdown",
   "id": "dcc5c8b7",
   "metadata": {},
   "source": [
    "## **1. Objectives :**\n",
    "1. Understanding the driving factors behind loan default thereby aiming to reduce credit loss \n",
    "2. Data Driven inferences to support the driving factors"
   ]
  },
  {
   "cell_type": "code",
   "execution_count": 535,
   "id": "a303cb83",
   "metadata": {},
   "outputs": [],
   "source": [
    "# Load the libraries\n",
    "import pandas as pd #To work with dataset\n",
    "pd.set_option(\"display.max_columns\", 100)\n",
    "import numpy as np #Math library\n",
    "import seaborn as sns #Graph library that use matplot in background\n",
    "import matplotlib.pyplot as plt #to plot some parameters in seaborn\n",
    "from matplotlib.ticker import PercentFormatter # for percentage"
   ]
  },
  {
   "cell_type": "code",
   "execution_count": 536,
   "id": "f9a2f74e",
   "metadata": {},
   "outputs": [
    {
     "name": "stderr",
     "output_type": "stream",
     "text": [
      "C:\\Users\\user\\Documents\\Anaconda\\lib\\site-packages\\IPython\\core\\interactiveshell.py:3444: DtypeWarning: Columns (47) have mixed types.Specify dtype option on import or set low_memory=False.\n",
      "  exec(code_obj, self.user_global_ns, self.user_ns)\n"
     ]
    }
   ],
   "source": [
    "# Importing data from loan.csv\n",
    "loan_df=pd.read_csv(\"loan.csv\")"
   ]
  },
  {
   "cell_type": "markdown",
   "id": "9eaed205",
   "metadata": {},
   "source": [
    "### **2. Understanding Data** "
   ]
  },
  {
   "cell_type": "code",
   "execution_count": 537,
   "id": "76d81305",
   "metadata": {},
   "outputs": [
    {
     "name": "stdout",
     "output_type": "stream",
     "text": [
      "<class 'pandas.core.frame.DataFrame'>\n",
      "RangeIndex: 39717 entries, 0 to 39716\n",
      "Data columns (total 111 columns):\n",
      " #    Column                          Non-Null Count  Dtype  \n",
      "---   ------                          --------------  -----  \n",
      " 0    id                              39717 non-null  int64  \n",
      " 1    member_id                       39717 non-null  int64  \n",
      " 2    loan_amnt                       39717 non-null  int64  \n",
      " 3    funded_amnt                     39717 non-null  int64  \n",
      " 4    funded_amnt_inv                 39717 non-null  float64\n",
      " 5    term                            39717 non-null  object \n",
      " 6    int_rate                        39717 non-null  object \n",
      " 7    installment                     39717 non-null  float64\n",
      " 8    grade                           39717 non-null  object \n",
      " 9    sub_grade                       39717 non-null  object \n",
      " 10   emp_title                       37258 non-null  object \n",
      " 11   emp_length                      38642 non-null  object \n",
      " 12   home_ownership                  39717 non-null  object \n",
      " 13   annual_inc                      39717 non-null  float64\n",
      " 14   verification_status             39717 non-null  object \n",
      " 15   issue_d                         39717 non-null  object \n",
      " 16   loan_status                     39717 non-null  object \n",
      " 17   pymnt_plan                      39717 non-null  object \n",
      " 18   url                             39717 non-null  object \n",
      " 19   desc                            26777 non-null  object \n",
      " 20   purpose                         39717 non-null  object \n",
      " 21   title                           39706 non-null  object \n",
      " 22   zip_code                        39717 non-null  object \n",
      " 23   addr_state                      39717 non-null  object \n",
      " 24   dti                             39717 non-null  float64\n",
      " 25   delinq_2yrs                     39717 non-null  int64  \n",
      " 26   earliest_cr_line                39717 non-null  object \n",
      " 27   inq_last_6mths                  39717 non-null  int64  \n",
      " 28   mths_since_last_delinq          14035 non-null  float64\n",
      " 29   mths_since_last_record          2786 non-null   float64\n",
      " 30   open_acc                        39717 non-null  int64  \n",
      " 31   pub_rec                         39717 non-null  int64  \n",
      " 32   revol_bal                       39717 non-null  int64  \n",
      " 33   revol_util                      39667 non-null  object \n",
      " 34   total_acc                       39717 non-null  int64  \n",
      " 35   initial_list_status             39717 non-null  object \n",
      " 36   out_prncp                       39717 non-null  float64\n",
      " 37   out_prncp_inv                   39717 non-null  float64\n",
      " 38   total_pymnt                     39717 non-null  float64\n",
      " 39   total_pymnt_inv                 39717 non-null  float64\n",
      " 40   total_rec_prncp                 39717 non-null  float64\n",
      " 41   total_rec_int                   39717 non-null  float64\n",
      " 42   total_rec_late_fee              39717 non-null  float64\n",
      " 43   recoveries                      39717 non-null  float64\n",
      " 44   collection_recovery_fee         39717 non-null  float64\n",
      " 45   last_pymnt_d                    39646 non-null  object \n",
      " 46   last_pymnt_amnt                 39717 non-null  float64\n",
      " 47   next_pymnt_d                    1140 non-null   object \n",
      " 48   last_credit_pull_d              39715 non-null  object \n",
      " 49   collections_12_mths_ex_med      39661 non-null  float64\n",
      " 50   mths_since_last_major_derog     0 non-null      float64\n",
      " 51   policy_code                     39717 non-null  int64  \n",
      " 52   application_type                39717 non-null  object \n",
      " 53   annual_inc_joint                0 non-null      float64\n",
      " 54   dti_joint                       0 non-null      float64\n",
      " 55   verification_status_joint       0 non-null      float64\n",
      " 56   acc_now_delinq                  39717 non-null  int64  \n",
      " 57   tot_coll_amt                    0 non-null      float64\n",
      " 58   tot_cur_bal                     0 non-null      float64\n",
      " 59   open_acc_6m                     0 non-null      float64\n",
      " 60   open_il_6m                      0 non-null      float64\n",
      " 61   open_il_12m                     0 non-null      float64\n",
      " 62   open_il_24m                     0 non-null      float64\n",
      " 63   mths_since_rcnt_il              0 non-null      float64\n",
      " 64   total_bal_il                    0 non-null      float64\n",
      " 65   il_util                         0 non-null      float64\n",
      " 66   open_rv_12m                     0 non-null      float64\n",
      " 67   open_rv_24m                     0 non-null      float64\n",
      " 68   max_bal_bc                      0 non-null      float64\n",
      " 69   all_util                        0 non-null      float64\n",
      " 70   total_rev_hi_lim                0 non-null      float64\n",
      " 71   inq_fi                          0 non-null      float64\n",
      " 72   total_cu_tl                     0 non-null      float64\n",
      " 73   inq_last_12m                    0 non-null      float64\n",
      " 74   acc_open_past_24mths            0 non-null      float64\n",
      " 75   avg_cur_bal                     0 non-null      float64\n",
      " 76   bc_open_to_buy                  0 non-null      float64\n",
      " 77   bc_util                         0 non-null      float64\n",
      " 78   chargeoff_within_12_mths        39661 non-null  float64\n",
      " 79   delinq_amnt                     39717 non-null  int64  \n",
      " 80   mo_sin_old_il_acct              0 non-null      float64\n",
      " 81   mo_sin_old_rev_tl_op            0 non-null      float64\n",
      " 82   mo_sin_rcnt_rev_tl_op           0 non-null      float64\n",
      " 83   mo_sin_rcnt_tl                  0 non-null      float64\n",
      " 84   mort_acc                        0 non-null      float64\n",
      " 85   mths_since_recent_bc            0 non-null      float64\n",
      " 86   mths_since_recent_bc_dlq        0 non-null      float64\n",
      " 87   mths_since_recent_inq           0 non-null      float64\n",
      " 88   mths_since_recent_revol_delinq  0 non-null      float64\n",
      " 89   num_accts_ever_120_pd           0 non-null      float64\n",
      " 90   num_actv_bc_tl                  0 non-null      float64\n",
      " 91   num_actv_rev_tl                 0 non-null      float64\n",
      " 92   num_bc_sats                     0 non-null      float64\n",
      " 93   num_bc_tl                       0 non-null      float64\n",
      " 94   num_il_tl                       0 non-null      float64\n",
      " 95   num_op_rev_tl                   0 non-null      float64\n",
      " 96   num_rev_accts                   0 non-null      float64\n",
      " 97   num_rev_tl_bal_gt_0             0 non-null      float64\n",
      " 98   num_sats                        0 non-null      float64\n",
      " 99   num_tl_120dpd_2m                0 non-null      float64\n",
      " 100  num_tl_30dpd                    0 non-null      float64\n",
      " 101  num_tl_90g_dpd_24m              0 non-null      float64\n",
      " 102  num_tl_op_past_12m              0 non-null      float64\n",
      " 103  pct_tl_nvr_dlq                  0 non-null      float64\n",
      " 104  percent_bc_gt_75                0 non-null      float64\n",
      " 105  pub_rec_bankruptcies            39020 non-null  float64\n",
      " 106  tax_liens                       39678 non-null  float64\n",
      " 107  tot_hi_cred_lim                 0 non-null      float64\n",
      " 108  total_bal_ex_mort               0 non-null      float64\n",
      " 109  total_bc_limit                  0 non-null      float64\n",
      " 110  total_il_high_credit_limit      0 non-null      float64\n",
      "dtypes: float64(74), int64(13), object(24)\n",
      "memory usage: 33.6+ MB\n"
     ]
    }
   ],
   "source": [
    "loan_df.info(verbose=True,show_counts=True)\n",
    "init_cols=len(loan_df.columns)"
   ]
  },
  {
   "cell_type": "markdown",
   "id": "7d772673",
   "metadata": {},
   "source": [
    "#### We can see that there are some null values in the columns and there are too many columns to analyze, hence measures have to be taken to clean data based on *business objectives* and based on *statistics*"
   ]
  },
  {
   "cell_type": "markdown",
   "id": "5201273e",
   "metadata": {},
   "source": [
    "### **3. Data Cleaning** : Based on Business Objective\n",
    "### Filtering out data based on objective, since current loans are not of interest for the business objective"
   ]
  },
  {
   "cell_type": "code",
   "execution_count": 538,
   "id": "b7d51d3b",
   "metadata": {},
   "outputs": [],
   "source": [
    "# As we are interested in understanding charged off customers loan status as current is not useful for the analysis\n",
    "# Filtering data accorgingly\n",
    "loan_df = loan_df[~ (loan_df[\"loan_status\"] == \"Current\")]"
   ]
  },
  {
   "cell_type": "markdown",
   "id": "7455f1f4",
   "metadata": {},
   "source": [
    "### **3. Data Cleaning** : A) Removing Columns with high percentage of null values"
   ]
  },
  {
   "cell_type": "code",
   "execution_count": 539,
   "id": "99f2b3bf",
   "metadata": {},
   "outputs": [],
   "source": [
    "#Removing columns having 50% null values in them as such columns are not useful for analysis\n",
    "lc_df=loan_df.dropna(axis=1,thresh=int(0.5*len(loan_df)))"
   ]
  },
  {
   "cell_type": "code",
   "execution_count": 540,
   "id": "517847b2",
   "metadata": {},
   "outputs": [
    {
     "name": "stdout",
     "output_type": "stream",
     "text": [
      "57 columns were removed from original dataframe due to high amount of missing values in them\n"
     ]
    }
   ],
   "source": [
    "#Printing number of columns removed\n",
    "removed_columns=len(loan_df.columns)-len(lc_df.columns)\n",
    "print(f\"{removed_columns} columns were removed from original dataframe due to high amount of missing values in them\")"
   ]
  },
  {
   "cell_type": "markdown",
   "id": "94a79f97",
   "metadata": {},
   "source": [
    "### **3. Data Cleaning** : B) Removing Columns with same values which are redundant for analysis"
   ]
  },
  {
   "cell_type": "code",
   "execution_count": 541,
   "id": "f252e648",
   "metadata": {},
   "outputs": [
    {
     "name": "stdout",
     "output_type": "stream",
     "text": [
      "8 columns are dropped in the dataframe due to same values repeating throughout the column\n"
     ]
    }
   ],
   "source": [
    "#### It is observed that some columns have only one value(mostly 0) throughout the rows, which are not useful for the analysis\n",
    "dropped_col=[]\n",
    "for col in lc_df.columns:\n",
    "    if len(lc_df[col].unique())==1:\n",
    "        dropped_col.append(col)\n",
    "print(f\"{len(dropped_col)} columns are dropped in the dataframe due to same values repeating throughout the column\")\n",
    "lc_df=lc_df.drop(dropped_col,axis=1)"
   ]
  },
  {
   "cell_type": "markdown",
   "id": "f83f86a6",
   "metadata": {},
   "source": [
    "### **3. Data Cleaning** : C) Removing Columns with either 0s or missing values in them"
   ]
  },
  {
   "cell_type": "code",
   "execution_count": 542,
   "id": "cc4850d5",
   "metadata": {},
   "outputs": [
    {
     "name": "stdout",
     "output_type": "stream",
     "text": [
      "[' 36 months' ' 60 months']\n",
      "['Fully Paid' 'Charged Off']\n",
      "[ 0. nan]\n",
      "[ 0. nan]\n",
      "[ 0. nan]\n"
     ]
    }
   ],
   "source": [
    "for c in lc_df.columns:\n",
    "    if len(lc_df[c].unique())==2:\n",
    "        print(lc_df[c].unique())"
   ]
  },
  {
   "cell_type": "code",
   "execution_count": 543,
   "id": "f9c63c0e",
   "metadata": {},
   "outputs": [
    {
     "name": "stdout",
     "output_type": "stream",
     "text": [
      "3 columns are dropped since they don't have meaningful unique values for analysis\n"
     ]
    }
   ],
   "source": [
    "no_uniq_cols=[\"collections_12_mths_ex_med\",\"chargeoff_within_12_mths\",\"tax_liens\"]\n",
    "lc_df.drop(no_uniq_cols,axis=1,inplace=True)\n",
    "print(f\"{len(no_uniq_cols)} columns are dropped since they don't have meaningful unique values for analysis\")"
   ]
  },
  {
   "cell_type": "code",
   "execution_count": 544,
   "id": "5a20ca7c",
   "metadata": {},
   "outputs": [
    {
     "name": "stdout",
     "output_type": "stream",
     "text": [
      "As a result of data cleaning, out of 111 columns, 43 columns exist.\n",
      "However it is important to select the most relevant columns out of these 43 for analysis\n"
     ]
    }
   ],
   "source": [
    "exis_cols=len(lc_df.columns)\n",
    "print(f\"As a result of data cleaning, out of {init_cols} columns, {exis_cols} columns exist.\\nHowever it is important to select the most relevant columns out of these {exis_cols} for analysis\")"
   ]
  },
  {
   "cell_type": "markdown",
   "id": "d269ca02",
   "metadata": {},
   "source": [
    "### **4. Selecting most relevant features as per business objective** \n",
    "### Additional features/columns will be added to the analysis in the future if it's found relevant"
   ]
  },
  {
   "cell_type": "code",
   "execution_count": 545,
   "id": "0d3b1ea2",
   "metadata": {},
   "outputs": [],
   "source": [
    "# Key features\n",
    "# id,loan_amnt,term,int_rate,installment,grade,sub_grade,emp_length,annual_inc,verification_status,purpose,zip_code,add_state\n",
    "# Here id is conidered for aggregation purpose\n",
    "req_features=[\"id\",\"loan_amnt\",\"term\",\"int_rate\",\"installment\",\"grade\",\"sub_grade\",\"home_ownership\",\"emp_length\",\"loan_status\",\"annual_inc\",\"verification_status\",\"purpose\",\"zip_code\",\"addr_state\",\"dti\",\"open_acc\",\"total_acc\",\"delinq_2yrs\",\"earliest_cr_line\"]\n",
    "lc_df = lc_df[req_features]"
   ]
  },
  {
   "cell_type": "code",
   "execution_count": 546,
   "id": "8f4c8d79",
   "metadata": {},
   "outputs": [
    {
     "data": {
      "text/html": [
       "<div>\n",
       "<style scoped>\n",
       "    .dataframe tbody tr th:only-of-type {\n",
       "        vertical-align: middle;\n",
       "    }\n",
       "\n",
       "    .dataframe tbody tr th {\n",
       "        vertical-align: top;\n",
       "    }\n",
       "\n",
       "    .dataframe thead th {\n",
       "        text-align: right;\n",
       "    }\n",
       "</style>\n",
       "<table border=\"1\" class=\"dataframe\">\n",
       "  <thead>\n",
       "    <tr style=\"text-align: right;\">\n",
       "      <th></th>\n",
       "      <th>id</th>\n",
       "      <th>loan_amnt</th>\n",
       "      <th>term</th>\n",
       "      <th>int_rate</th>\n",
       "      <th>installment</th>\n",
       "      <th>grade</th>\n",
       "      <th>sub_grade</th>\n",
       "      <th>home_ownership</th>\n",
       "      <th>emp_length</th>\n",
       "      <th>loan_status</th>\n",
       "      <th>annual_inc</th>\n",
       "      <th>verification_status</th>\n",
       "      <th>purpose</th>\n",
       "      <th>zip_code</th>\n",
       "      <th>addr_state</th>\n",
       "      <th>dti</th>\n",
       "      <th>open_acc</th>\n",
       "      <th>total_acc</th>\n",
       "      <th>delinq_2yrs</th>\n",
       "      <th>earliest_cr_line</th>\n",
       "    </tr>\n",
       "  </thead>\n",
       "  <tbody>\n",
       "    <tr>\n",
       "      <th>0</th>\n",
       "      <td>1077501</td>\n",
       "      <td>5000</td>\n",
       "      <td>36 months</td>\n",
       "      <td>10.65%</td>\n",
       "      <td>162.87</td>\n",
       "      <td>B</td>\n",
       "      <td>B2</td>\n",
       "      <td>RENT</td>\n",
       "      <td>10+ years</td>\n",
       "      <td>Fully Paid</td>\n",
       "      <td>24000.0</td>\n",
       "      <td>Verified</td>\n",
       "      <td>credit_card</td>\n",
       "      <td>860xx</td>\n",
       "      <td>AZ</td>\n",
       "      <td>27.65</td>\n",
       "      <td>3</td>\n",
       "      <td>9</td>\n",
       "      <td>0</td>\n",
       "      <td>Jan-85</td>\n",
       "    </tr>\n",
       "    <tr>\n",
       "      <th>1</th>\n",
       "      <td>1077430</td>\n",
       "      <td>2500</td>\n",
       "      <td>60 months</td>\n",
       "      <td>15.27%</td>\n",
       "      <td>59.83</td>\n",
       "      <td>C</td>\n",
       "      <td>C4</td>\n",
       "      <td>RENT</td>\n",
       "      <td>&lt; 1 year</td>\n",
       "      <td>Charged Off</td>\n",
       "      <td>30000.0</td>\n",
       "      <td>Source Verified</td>\n",
       "      <td>car</td>\n",
       "      <td>309xx</td>\n",
       "      <td>GA</td>\n",
       "      <td>1.00</td>\n",
       "      <td>3</td>\n",
       "      <td>4</td>\n",
       "      <td>0</td>\n",
       "      <td>Apr-99</td>\n",
       "    </tr>\n",
       "    <tr>\n",
       "      <th>2</th>\n",
       "      <td>1077175</td>\n",
       "      <td>2400</td>\n",
       "      <td>36 months</td>\n",
       "      <td>15.96%</td>\n",
       "      <td>84.33</td>\n",
       "      <td>C</td>\n",
       "      <td>C5</td>\n",
       "      <td>RENT</td>\n",
       "      <td>10+ years</td>\n",
       "      <td>Fully Paid</td>\n",
       "      <td>12252.0</td>\n",
       "      <td>Not Verified</td>\n",
       "      <td>small_business</td>\n",
       "      <td>606xx</td>\n",
       "      <td>IL</td>\n",
       "      <td>8.72</td>\n",
       "      <td>2</td>\n",
       "      <td>10</td>\n",
       "      <td>0</td>\n",
       "      <td>Nov-01</td>\n",
       "    </tr>\n",
       "    <tr>\n",
       "      <th>3</th>\n",
       "      <td>1076863</td>\n",
       "      <td>10000</td>\n",
       "      <td>36 months</td>\n",
       "      <td>13.49%</td>\n",
       "      <td>339.31</td>\n",
       "      <td>C</td>\n",
       "      <td>C1</td>\n",
       "      <td>RENT</td>\n",
       "      <td>10+ years</td>\n",
       "      <td>Fully Paid</td>\n",
       "      <td>49200.0</td>\n",
       "      <td>Source Verified</td>\n",
       "      <td>other</td>\n",
       "      <td>917xx</td>\n",
       "      <td>CA</td>\n",
       "      <td>20.00</td>\n",
       "      <td>10</td>\n",
       "      <td>37</td>\n",
       "      <td>0</td>\n",
       "      <td>Feb-96</td>\n",
       "    </tr>\n",
       "    <tr>\n",
       "      <th>5</th>\n",
       "      <td>1075269</td>\n",
       "      <td>5000</td>\n",
       "      <td>36 months</td>\n",
       "      <td>7.90%</td>\n",
       "      <td>156.46</td>\n",
       "      <td>A</td>\n",
       "      <td>A4</td>\n",
       "      <td>RENT</td>\n",
       "      <td>3 years</td>\n",
       "      <td>Fully Paid</td>\n",
       "      <td>36000.0</td>\n",
       "      <td>Source Verified</td>\n",
       "      <td>wedding</td>\n",
       "      <td>852xx</td>\n",
       "      <td>AZ</td>\n",
       "      <td>11.20</td>\n",
       "      <td>9</td>\n",
       "      <td>12</td>\n",
       "      <td>0</td>\n",
       "      <td>Nov-04</td>\n",
       "    </tr>\n",
       "  </tbody>\n",
       "</table>\n",
       "</div>"
      ],
      "text/plain": [
       "        id  loan_amnt        term int_rate  installment grade sub_grade  \\\n",
       "0  1077501       5000   36 months   10.65%       162.87     B        B2   \n",
       "1  1077430       2500   60 months   15.27%        59.83     C        C4   \n",
       "2  1077175       2400   36 months   15.96%        84.33     C        C5   \n",
       "3  1076863      10000   36 months   13.49%       339.31     C        C1   \n",
       "5  1075269       5000   36 months    7.90%       156.46     A        A4   \n",
       "\n",
       "  home_ownership emp_length  loan_status  annual_inc verification_status  \\\n",
       "0           RENT  10+ years   Fully Paid     24000.0            Verified   \n",
       "1           RENT   < 1 year  Charged Off     30000.0     Source Verified   \n",
       "2           RENT  10+ years   Fully Paid     12252.0        Not Verified   \n",
       "3           RENT  10+ years   Fully Paid     49200.0     Source Verified   \n",
       "5           RENT    3 years   Fully Paid     36000.0     Source Verified   \n",
       "\n",
       "          purpose zip_code addr_state    dti  open_acc  total_acc  \\\n",
       "0     credit_card    860xx         AZ  27.65         3          9   \n",
       "1             car    309xx         GA   1.00         3          4   \n",
       "2  small_business    606xx         IL   8.72         2         10   \n",
       "3           other    917xx         CA  20.00        10         37   \n",
       "5         wedding    852xx         AZ  11.20         9         12   \n",
       "\n",
       "   delinq_2yrs earliest_cr_line  \n",
       "0            0           Jan-85  \n",
       "1            0           Apr-99  \n",
       "2            0           Nov-01  \n",
       "3            0           Feb-96  \n",
       "5            0           Nov-04  "
      ]
     },
     "execution_count": 546,
     "metadata": {},
     "output_type": "execute_result"
    }
   ],
   "source": [
    "# Having a look at the data\n",
    "lc_df.head()"
   ]
  },
  {
   "cell_type": "code",
   "execution_count": 547,
   "id": "a3971cb4",
   "metadata": {},
   "outputs": [
    {
     "name": "stdout",
     "output_type": "stream",
     "text": [
      "<class 'pandas.core.frame.DataFrame'>\n",
      "Int64Index: 38577 entries, 0 to 39716\n",
      "Data columns (total 20 columns):\n",
      " #   Column               Non-Null Count  Dtype  \n",
      "---  ------               --------------  -----  \n",
      " 0   id                   38577 non-null  int64  \n",
      " 1   loan_amnt            38577 non-null  int64  \n",
      " 2   term                 38577 non-null  object \n",
      " 3   int_rate             38577 non-null  object \n",
      " 4   installment          38577 non-null  float64\n",
      " 5   grade                38577 non-null  object \n",
      " 6   sub_grade            38577 non-null  object \n",
      " 7   home_ownership       38577 non-null  object \n",
      " 8   emp_length           37544 non-null  object \n",
      " 9   loan_status          38577 non-null  object \n",
      " 10  annual_inc           38577 non-null  float64\n",
      " 11  verification_status  38577 non-null  object \n",
      " 12  purpose              38577 non-null  object \n",
      " 13  zip_code             38577 non-null  object \n",
      " 14  addr_state           38577 non-null  object \n",
      " 15  dti                  38577 non-null  float64\n",
      " 16  open_acc             38577 non-null  int64  \n",
      " 17  total_acc            38577 non-null  int64  \n",
      " 18  delinq_2yrs          38577 non-null  int64  \n",
      " 19  earliest_cr_line     38577 non-null  object \n",
      "dtypes: float64(3), int64(5), object(12)\n",
      "memory usage: 6.2+ MB\n"
     ]
    },
    {
     "data": {
      "text/html": [
       "<div>\n",
       "<style scoped>\n",
       "    .dataframe tbody tr th:only-of-type {\n",
       "        vertical-align: middle;\n",
       "    }\n",
       "\n",
       "    .dataframe tbody tr th {\n",
       "        vertical-align: top;\n",
       "    }\n",
       "\n",
       "    .dataframe thead th {\n",
       "        text-align: right;\n",
       "    }\n",
       "</style>\n",
       "<table border=\"1\" class=\"dataframe\">\n",
       "  <thead>\n",
       "    <tr style=\"text-align: right;\">\n",
       "      <th></th>\n",
       "      <th>id</th>\n",
       "      <th>loan_amnt</th>\n",
       "      <th>installment</th>\n",
       "      <th>annual_inc</th>\n",
       "      <th>dti</th>\n",
       "      <th>open_acc</th>\n",
       "      <th>total_acc</th>\n",
       "      <th>delinq_2yrs</th>\n",
       "    </tr>\n",
       "  </thead>\n",
       "  <tbody>\n",
       "    <tr>\n",
       "      <th>count</th>\n",
       "      <td>3.857700e+04</td>\n",
       "      <td>38577.000000</td>\n",
       "      <td>38577.000000</td>\n",
       "      <td>3.857700e+04</td>\n",
       "      <td>38577.000000</td>\n",
       "      <td>38577.000000</td>\n",
       "      <td>38577.000000</td>\n",
       "      <td>38577.000000</td>\n",
       "    </tr>\n",
       "    <tr>\n",
       "      <th>mean</th>\n",
       "      <td>6.763787e+05</td>\n",
       "      <td>11047.025430</td>\n",
       "      <td>322.466318</td>\n",
       "      <td>6.877797e+04</td>\n",
       "      <td>13.272727</td>\n",
       "      <td>9.275423</td>\n",
       "      <td>22.052648</td>\n",
       "      <td>0.146668</td>\n",
       "    </tr>\n",
       "    <tr>\n",
       "      <th>std</th>\n",
       "      <td>2.092639e+05</td>\n",
       "      <td>7348.441646</td>\n",
       "      <td>208.639215</td>\n",
       "      <td>6.421868e+04</td>\n",
       "      <td>6.673044</td>\n",
       "      <td>4.401588</td>\n",
       "      <td>11.425861</td>\n",
       "      <td>0.492271</td>\n",
       "    </tr>\n",
       "    <tr>\n",
       "      <th>min</th>\n",
       "      <td>5.473400e+04</td>\n",
       "      <td>500.000000</td>\n",
       "      <td>15.690000</td>\n",
       "      <td>4.000000e+03</td>\n",
       "      <td>0.000000</td>\n",
       "      <td>2.000000</td>\n",
       "      <td>2.000000</td>\n",
       "      <td>0.000000</td>\n",
       "    </tr>\n",
       "    <tr>\n",
       "      <th>25%</th>\n",
       "      <td>5.120330e+05</td>\n",
       "      <td>5300.000000</td>\n",
       "      <td>165.740000</td>\n",
       "      <td>4.000000e+04</td>\n",
       "      <td>8.130000</td>\n",
       "      <td>6.000000</td>\n",
       "      <td>13.000000</td>\n",
       "      <td>0.000000</td>\n",
       "    </tr>\n",
       "    <tr>\n",
       "      <th>50%</th>\n",
       "      <td>6.564230e+05</td>\n",
       "      <td>9600.000000</td>\n",
       "      <td>277.860000</td>\n",
       "      <td>5.886800e+04</td>\n",
       "      <td>13.370000</td>\n",
       "      <td>9.000000</td>\n",
       "      <td>20.000000</td>\n",
       "      <td>0.000000</td>\n",
       "    </tr>\n",
       "    <tr>\n",
       "      <th>75%</th>\n",
       "      <td>8.291460e+05</td>\n",
       "      <td>15000.000000</td>\n",
       "      <td>425.550000</td>\n",
       "      <td>8.200000e+04</td>\n",
       "      <td>18.560000</td>\n",
       "      <td>12.000000</td>\n",
       "      <td>29.000000</td>\n",
       "      <td>0.000000</td>\n",
       "    </tr>\n",
       "    <tr>\n",
       "      <th>max</th>\n",
       "      <td>1.077501e+06</td>\n",
       "      <td>35000.000000</td>\n",
       "      <td>1305.190000</td>\n",
       "      <td>6.000000e+06</td>\n",
       "      <td>29.990000</td>\n",
       "      <td>44.000000</td>\n",
       "      <td>90.000000</td>\n",
       "      <td>11.000000</td>\n",
       "    </tr>\n",
       "  </tbody>\n",
       "</table>\n",
       "</div>"
      ],
      "text/plain": [
       "                 id     loan_amnt   installment    annual_inc           dti  \\\n",
       "count  3.857700e+04  38577.000000  38577.000000  3.857700e+04  38577.000000   \n",
       "mean   6.763787e+05  11047.025430    322.466318  6.877797e+04     13.272727   \n",
       "std    2.092639e+05   7348.441646    208.639215  6.421868e+04      6.673044   \n",
       "min    5.473400e+04    500.000000     15.690000  4.000000e+03      0.000000   \n",
       "25%    5.120330e+05   5300.000000    165.740000  4.000000e+04      8.130000   \n",
       "50%    6.564230e+05   9600.000000    277.860000  5.886800e+04     13.370000   \n",
       "75%    8.291460e+05  15000.000000    425.550000  8.200000e+04     18.560000   \n",
       "max    1.077501e+06  35000.000000   1305.190000  6.000000e+06     29.990000   \n",
       "\n",
       "           open_acc     total_acc   delinq_2yrs  \n",
       "count  38577.000000  38577.000000  38577.000000  \n",
       "mean       9.275423     22.052648      0.146668  \n",
       "std        4.401588     11.425861      0.492271  \n",
       "min        2.000000      2.000000      0.000000  \n",
       "25%        6.000000     13.000000      0.000000  \n",
       "50%        9.000000     20.000000      0.000000  \n",
       "75%       12.000000     29.000000      0.000000  \n",
       "max       44.000000     90.000000     11.000000  "
      ]
     },
     "execution_count": 547,
     "metadata": {},
     "output_type": "execute_result"
    }
   ],
   "source": [
    "# Understanding the data and data types\n",
    "lc_df.info(verbose=True,show_counts=True)\n",
    "lc_df.describe()"
   ]
  },
  {
   "cell_type": "markdown",
   "id": "b2dec733",
   "metadata": {},
   "source": [
    "### **5. Missing value imputation**"
   ]
  },
  {
   "cell_type": "markdown",
   "id": "2061aa94",
   "metadata": {},
   "source": [
    "### There are some columns which have missing values,Therefore understanding the number of missing values in these columns"
   ]
  },
  {
   "cell_type": "code",
   "execution_count": 548,
   "id": "85612a44",
   "metadata": {},
   "outputs": [
    {
     "name": "stdout",
     "output_type": "stream",
     "text": [
      "The missing values in columns is :\n",
      " {'emp_length': 1033}\n"
     ]
    }
   ],
   "source": [
    "empty_cols=lc_df.columns[lc_df.isna().any()].tolist()\n",
    "empty_vals=[lc_df[col].isna().sum() for col in empty_cols]\n",
    "empty_per_dict=dict(zip(empty_cols,empty_vals))\n",
    "print(\"The missing values in columns is :\\n\",empty_per_dict)"
   ]
  },
  {
   "cell_type": "markdown",
   "id": "05ff742f",
   "metadata": {},
   "source": [
    "#### It is observed that in selected columns for analysis, 'emp_length' column has some missing data"
   ]
  },
  {
   "cell_type": "code",
   "execution_count": 549,
   "id": "907a5e12",
   "metadata": {},
   "outputs": [
    {
     "data": {
      "text/plain": [
       "10+ years    8488\n",
       "< 1 year     4508\n",
       "2 years      4291\n",
       "3 years      4012\n",
       "4 years      3342\n",
       "5 years      3194\n",
       "1 year       3169\n",
       "6 years      2168\n",
       "7 years      1711\n",
       "8 years      1435\n",
       "9 years      1226\n",
       "Name: emp_length, dtype: int64"
      ]
     },
     "execution_count": 549,
     "metadata": {},
     "output_type": "execute_result"
    }
   ],
   "source": [
    "# As the number of missing data is less, missing value imputation can be done\n",
    "# Checking the values in emp_length column\n",
    "lc_df[\"emp_length\"].value_counts()"
   ]
  },
  {
   "cell_type": "code",
   "execution_count": 550,
   "id": "67bbf045",
   "metadata": {},
   "outputs": [],
   "source": [
    "# As the most recurring value is 10+years, adding 10+ years whereever the data is missing\n",
    "lc_df[\"emp_length\"] = lc_df[\"emp_length\"].fillna(\"10+ years\")"
   ]
  },
  {
   "cell_type": "markdown",
   "id": "722fdd07",
   "metadata": {},
   "source": [
    "### **6. Understanding variables and their datatypes**"
   ]
  },
  {
   "cell_type": "code",
   "execution_count": 551,
   "id": "ece1a849",
   "metadata": {},
   "outputs": [
    {
     "name": "stdout",
     "output_type": "stream",
     "text": [
      "<class 'pandas.core.frame.DataFrame'>\n",
      "Int64Index: 38577 entries, 0 to 39716\n",
      "Data columns (total 20 columns):\n",
      " #   Column               Dtype  \n",
      "---  ------               -----  \n",
      " 0   id                   int64  \n",
      " 1   loan_amnt            int64  \n",
      " 2   term                 object \n",
      " 3   int_rate             object \n",
      " 4   installment          float64\n",
      " 5   grade                object \n",
      " 6   sub_grade            object \n",
      " 7   home_ownership       object \n",
      " 8   emp_length           object \n",
      " 9   loan_status          object \n",
      " 10  annual_inc           float64\n",
      " 11  verification_status  object \n",
      " 12  purpose              object \n",
      " 13  zip_code             object \n",
      " 14  addr_state           object \n",
      " 15  dti                  float64\n",
      " 16  open_acc             int64  \n",
      " 17  total_acc            int64  \n",
      " 18  delinq_2yrs          int64  \n",
      " 19  earliest_cr_line     object \n",
      "dtypes: float64(3), int64(5), object(12)\n",
      "memory usage: 6.2+ MB\n"
     ]
    }
   ],
   "source": [
    "#Understanding the datatypes in the dataframe\n",
    "lc_df.info(verbose=True,show_counts=False)"
   ]
  },
  {
   "cell_type": "code",
   "execution_count": 552,
   "id": "0cc65b2f",
   "metadata": {},
   "outputs": [],
   "source": [
    "# Removing % and converting to float\n",
    "lc_df[\"int_rate\"]=lc_df[\"int_rate\"].str.replace(\"%\",\"\").astype(float)"
   ]
  },
  {
   "cell_type": "markdown",
   "id": "5140c101",
   "metadata": {},
   "source": [
    "### **Understanding type of variable for analysis**\n",
    "1. **Numeric Data** : <br>\n",
    "loan_amt,int_rate,installment,annual_inc,dti\n",
    "\n",
    "2. **Ordered Categorical Data** : <br>\n",
    "term,grade,sub_grade,emp_length,loan_status,verification_status,open_acc,total_acc,delinq_2yrs,earliest_cr_line\n",
    "\n",
    "3. **Unordered Categorical Data** : <br>\n",
    "home_ownership,purpose,zip_code,addr_state\n",
    "\n",
    "*id column can be used as a unique row identifier*"
   ]
  },
  {
   "cell_type": "code",
   "execution_count": 553,
   "id": "43f01d41",
   "metadata": {},
   "outputs": [],
   "source": [
    "#Declaring type of variables\n",
    "numeric_data=[\"loan_amnt\",\"int_rate\",\"installment\",\"annual_inc\",\"dti\"]\n",
    "ordered_cat_data=[\"term\",\"grade\",\"sub_grade\",\"emp_length\",\"loan_status\",\"verification_status\",\"open_acc\",\"total_acc\",\"delinq_2yrs\",\"earliest_cr_line\"]\n",
    "unordered_cat_data=[\"home_ownership\",\"purpose\",\"zip_code\",\"addr_state\"]"
   ]
  },
  {
   "cell_type": "markdown",
   "id": "6f3e6114",
   "metadata": {},
   "source": [
    "### **7. Data Distribution and Outlier Correction for Numeric Data**"
   ]
  },
  {
   "cell_type": "code",
   "execution_count": 554,
   "id": "44c7cb1f",
   "metadata": {},
   "outputs": [
    {
     "data": {
      "image/png": "[encoded data removed]",
      "text/plain": [
       "<Figure size 432x288 with 1 Axes>"
      ]
     },
     "metadata": {
      "needs_background": "light"
     },
     "output_type": "display_data"
    },
    {
     "data": {
      "image/png": "[encoded data removed]",
      "text/plain": [
       "<Figure size 432x288 with 1 Axes>"
      ]
     },
     "metadata": {
      "needs_background": "light"
     },
     "output_type": "display_data"
    },
    {
     "data": {
      "image/png": "[encoded data removed]",
      "text/plain": [
       "<Figure size 432x288 with 1 Axes>"
      ]
     },
     "metadata": {
      "needs_background": "light"
     },
     "output_type": "display_data"
    },
    {
     "data": {
      "image/png": "[encoded data removed]",
      "text/plain": [
       "<Figure size 432x288 with 1 Axes>"
      ]
     },
     "metadata": {
      "needs_background": "light"
     },
     "output_type": "display_data"
    },
    {
     "data": {
      "image/png": "[encoded data removed]",
      "text/plain": [
       "<Figure size 432x288 with 1 Axes>"
      ]
     },
     "metadata": {
      "needs_background": "light"
     },
     "output_type": "display_data"
    }
   ],
   "source": [
    "#Checking the distributions for numeric data\n",
    "#Function to plot box plots taking dataframe and columns as input\n",
    "def box_plot_col(df,cols):\n",
    "    for col in cols:\n",
    "        plt.boxplot(df[col])\n",
    "        plt.xlabel(col)\n",
    "        plt.show()\n",
    "box_plot_col(lc_df,numeric_data)"
   ]
  },
  {
   "cell_type": "markdown",
   "id": "35c8e1f5",
   "metadata": {},
   "source": [
    "### Outliers are detected in the box plot for some variables, it is important to remove outliers in the data based on a threshold of 99%"
   ]
  },
  {
   "cell_type": "code",
   "execution_count": 555,
   "id": "4dea191d",
   "metadata": {},
   "outputs": [
    {
     "name": "stdout",
     "output_type": "stream",
     "text": [
      "16687 data points were removed because they were outliers in the numeric data columns\n"
     ]
    }
   ],
   "source": [
    "#Remove outliers based on threshold of 99%\n",
    "def remove_outliers(df,thresh,cols):\n",
    "    for col in cols:\n",
    "        ser=df[col]\n",
    "        P = np.percentile(ser, [100-thresh, thresh])\n",
    "        df = df[(ser > P[0]) & (ser < P[1])]\n",
    "    return df\n",
    "        \n",
    "lc_df=remove_outliers(lc_df,99,numeric_data)\n",
    "removed_data_points=len(loan_df)-len(lc_df)\n",
    "print(f\"{removed_data_points} data points were removed because they were outliers in the numeric data columns\")"
   ]
  },
  {
   "cell_type": "code",
   "execution_count": null,
   "id": "f07e0117",
   "metadata": {},
   "outputs": [],
   "source": [
    "#Remove outliers based on threshold of 99%\n",
    "def remove_outliers(df,thresh,cols):\n",
    "    for col in cols:\n",
    "        ser=df[col]\n",
    "        P = np.percentile(ser, [100-thresh, thresh])\n",
    "        df = df[(ser > P[0]) & (ser < P[1])]\n",
    "    return df\n",
    "        \n",
    "lc_df=remove_outliers(lc_df,99,numeric_data)\n",
    "removed_data_points=len(loan_df)-len(lc_df)\n",
    "print(f\"{removed_data_points} data points were removed because they were outliers in the numeric data columns\")"
   ]
  },
  {
   "cell_type": "code",
   "execution_count": 556,
   "id": "a6be39d7",
   "metadata": {},
   "outputs": [
    {
     "data": {
      "image/png": "[encoded data removed]",
      "text/plain": [
       "<Figure size 432x288 with 1 Axes>"
      ]
     },
     "metadata": {
      "needs_background": "light"
     },
     "output_type": "display_data"
    },
    {
     "data": {
      "image/png": "[encoded data removed]",
      "text/plain": [
       "<Figure size 432x288 with 1 Axes>"
      ]
     },
     "metadata": {
      "needs_background": "light"
     },
     "output_type": "display_data"
    },
    {
     "data": {
      "image/png": "[encoded data removed]",
      "text/plain": [
       "<Figure size 432x288 with 1 Axes>"
      ]
     },
     "metadata": {
      "needs_background": "light"
     },
     "output_type": "display_data"
    },
    {
     "data": {
      "image/png": "[encoded data removed]",
      "text/plain": [
       "<Figure size 432x288 with 1 Axes>"
      ]
     },
     "metadata": {
      "needs_background": "light"
     },
     "output_type": "display_data"
    },
    {
     "data": {
      "image/png": "[encoded data removed]",
      "text/plain": [
       "<Figure size 432x288 with 1 Axes>"
      ]
     },
     "metadata": {
      "needs_background": "light"
     },
     "output_type": "display_data"
    }
   ],
   "source": [
    "#To check 95% threshold, and state reason why we are taking 99% threshold\n",
    "box_plot_col(lc_df,numeric_data)"
   ]
  },
  {
   "cell_type": "markdown",
   "id": "6d5bbd63",
   "metadata": {},
   "source": [
    "### **8. Data Distribution for Ordered Categorical Variables**"
   ]
  },
  {
   "cell_type": "code",
   "execution_count": null,
   "id": "e2e263ca",
   "metadata": {},
   "outputs": [],
   "source": [
    "#Function to plot histogram for given dataframe and categorical variables\n",
    "\n",
    "def plot_hist_univariate(df,cols):\n",
    "    for col in cols:\n",
    "        sdf=df.sort_values(by=col)\n",
    "        plot_data = sdf[col]\n",
    "        plt.figure(figsize=(15,5))\n",
    "        plt.hist(plot_data,color=\"b\")\n",
    "        plt.xlabel(col,fontsize=15)\n",
    "        plt.ylabel(\"Frequency\",fontsize=15)\n",
    "        plt.xticks(fontsize=15)\n",
    "        plt.yticks(fontsize=15)\n",
    "        plt.show()\n",
    "ord_cat_plot_cols=ordered_cat_data.copy()\n",
    "ord_cat_plot_cols.remove(\"earliest_cr_line\")\n",
    "plot_hist_univariate(lc_df,ord_cat_plot_cols)"
   ]
  },
  {
   "cell_type": "markdown",
   "id": "9c5d9a60",
   "metadata": {},
   "source": [
    "### **9. Derived Metrics and Binning for Ordered Categorical Variables**"
   ]
  },
  {
   "cell_type": "code",
   "execution_count": null,
   "id": "3c32d8c1",
   "metadata": {},
   "outputs": [],
   "source": [
    "#Employee length can be binned based on distribution into lesser categories (<1 yr,1-3yr,4-6yr,7-9yr,>10yr)\n",
    "def bin_emp_len(x):\n",
    "    if x in [\"< 1 year\"]:\n",
    "        return \"<1 year\"\n",
    "    elif x in [\"1 year\",\"2 years\",\"3 years\"]:\n",
    "        return \"1-3 years\"\n",
    "    elif x in [\"4 years\",\"5 years\",\"6 years\"]:\n",
    "        return \"4-6 years\"\n",
    "    elif x in [\"7 years\",\"8 years\",\"9 years\"]:\n",
    "        return \"7-9 years\"\n",
    "    elif x in [\"10+ years\"]:\n",
    "        return \">10 years\"\n",
    "\n",
    "lc_df['emp_length']=lc_df['emp_length'].apply(bin_emp_len)"
   ]
  },
  {
   "cell_type": "code",
   "execution_count": null,
   "id": "c8c4aecd",
   "metadata": {},
   "outputs": [],
   "source": [
    "#Derived Metric : Total Closed Credit lines\n",
    "lc_df['closed_acc']=lc_df['total_acc']-lc_df['open_acc']\n",
    "lc_df.drop([\"total_acc\",\"open_acc\"],axis=1,inplace=True)"
   ]
  },
  {
   "cell_type": "code",
   "execution_count": null,
   "id": "a292b0f5",
   "metadata": {},
   "outputs": [],
   "source": [
    "#Extract year from earliest_cr_line\n",
    "lc_df['last_credit_line_year'] = pd.to_datetime(lc_df['earliest_cr_line']).dt.year\n",
    "lc_df.drop([\"earliest_cr_line\"],axis=1,inplace=True)\n"
   ]
  },
  {
   "cell_type": "code",
   "execution_count": null,
   "id": "c5e16e00",
   "metadata": {},
   "outputs": [],
   "source": [
    "#More derived metrics can be put here"
   ]
  },
  {
   "cell_type": "code",
   "execution_count": null,
   "id": "0ee1ea1f",
   "metadata": {},
   "outputs": [],
   "source": [
    "#Univariate Analysis"
   ]
  },
  {
   "cell_type": "code",
   "execution_count": null,
   "id": "711c97d9",
   "metadata": {},
   "outputs": [],
   "source": [
    "# #Checking the distributions for numeric data and identifying relevant columns for business objective\n",
    "# def box_plot_col(df):\n",
    "#     i=1\n",
    "#     for col in df.columns:\n",
    "#         if df[col].dtype in [\"int64\",\"float64\"]:\n",
    "#             # plt.subplot(1, 2, 1)\n",
    "#             # plt.hist(df[col])\n",
    "#             # plt.xlabel(col)\n",
    "#             #plt.subplot(1, 2, 2)\n",
    "#             plt.boxplot(df[col])\n",
    "#             plt.xlabel(col)\n",
    "#             #plt.tight_layout()\n",
    "#             plt.show()\n",
    "# box_plot_col(lc_df)"
   ]
  },
  {
   "cell_type": "code",
   "execution_count": null,
   "id": "5a598d3d",
   "metadata": {},
   "outputs": [],
   "source": [
    "# Univariate Analysis\n",
    "# Functions for plotting graphs wrt columns (numerical) as percentage\n",
    "def plot_hist(df,column_name,bins):\n",
    "    plot_data = (df[df[\"loan_status\"]==\"Fully Paid\"][column_name],df[df[\"loan_status\"]==\"Charged Off\"][column_name])\n",
    "    #weight_data= (np.ones(len(plot_data[0])) / len(plot_data[0]+plot_data[1]),np.ones(len(plot_data[1])) / len(plot_data[0]+plot_data[1]))\n",
    "    weight_data= (np.ones(len(plot_data[0])) / len(plot_data[0]),np.ones(len(plot_data[1])) / len(plot_data[1]))\n",
    "    plt.figure(figsize=(20,10))\n",
    "    n,bin_data,patches=plt.hist(plot_data,color=(\"g\",\"r\"),weights=weight_data,bins=bins)\n",
    "    plt.xlabel(column_name,fontsize=22)\n",
    "    plt.ylabel(\"Percentage\",fontsize=22)\n",
    "    plt.xticks(fontsize=15)\n",
    "    plt.yticks(fontsize=15)\n",
    "    plt.gca().yaxis.set_major_formatter(PercentFormatter(1))\n",
    "    plt.legend((\"Fully Paid\",\"Charged Off\"),fontsize=15)\n",
    "    plt.show()\n",
    "    return n,bin_data,patches\n",
    "\n",
    "# Functions for plotting bar chart for categorical variables\n",
    "\n",
    "def plot_bar_cat(df,index_name,column_name,width,x_lbl_rotation):\n",
    "    pivot=pd.pivot_table(lc_df,values=\"id\",index=index_name,columns=column_name,aggfunc=lambda x: len(x.unique()))\n",
    "    plt.figure(figsize=(20,10))\n",
    "    colors = (\"r\",\"g\")\n",
    "    x_label = pivot.index\n",
    "    x_data = np.arange(len(x_label)) # create values from 0 to len(x_label) - 1\n",
    "    #height_data = (df[df[\"loan_status\"]==\"Fully Paid\"][column_name].value_counts().values,df[df[\"loan_status\"]==\"Charged Off\"][column_name].value_counts().values)\n",
    "    chart=[]\n",
    "    for j,i in enumerate(pivot.columns):\n",
    "        chart.append(plt.bar(x_data + j*(width), pivot[i],width=width,align=\"edge\"))\n",
    "    plt.xlabel(index_name,fontsize=22)\n",
    "    plt.ylabel(\"Frequency\",fontsize=22)\n",
    "    x_label_pos = x_data + (len(pivot.columns)*width)/2\n",
    "    plt.xticks(x_label_pos ,x_label,fontsize=15,rotation = x_lbl_rotation)\n",
    "    plt.yticks(fontsize=15)\n",
    "    plt.legend(chart,pivot.columns,fontsize=15)\n",
    "    plt.show()"
   ]
  },
  {
   "cell_type": "code",
   "execution_count": null,
   "id": "7e088c0d",
   "metadata": {},
   "outputs": [],
   "source": [
    "a1,b1,c1=plot_hist(lc_df,\"loan_amnt\",np.linspace(0,40000,num=9))\n",
    "a2,b2,c2 = plot_hist(lc_df,\"int_rate\",np.linspace(0,25,num=6))\n",
    "a3,b3,c3 = plot_hist(lc_df,\"annual_inc\",np.linspace(4000,6000000,num=100))"
   ]
  },
  {
   "cell_type": "code",
   "execution_count": null,
   "id": "6df92048",
   "metadata": {},
   "outputs": [],
   "source": [
    "# Insights from the histogram\n",
    "# No loan is offered from 0 to 5 % interest rate\n",
    "\n",
    "# wrt interest rate\n",
    "#1) Around 48% of the charged of customers fall under interest rate of 10 to 15 percentage\n",
    "#2) 85 % of the charged off customers have taken the loan at an interest rate of > 10 %\n",
    "\n",
    "# wrt loan_amnt\n",
    "#1) 82 % of the charged customers have taken the loan amount > 5000\n",
    "#2) 50 % of fully paid customers have taken the loan amont < 10000"
   ]
  },
  {
   "cell_type": "code",
   "execution_count": null,
   "id": "05e8e88a",
   "metadata": {},
   "outputs": [],
   "source": [
    "plot_bar_cat(lc_df,\"term\",\"loan_status\",0.2,0)\n",
    "plot_bar_cat(lc_df,\"home_ownership\",\"loan_status\",0.2,0)\n",
    "plot_bar_cat(lc_df,\"emp_length\",\"loan_status\",0.2,0)\n",
    "plot_bar_cat(lc_df,\"verification_status\",\"loan_status\",0.2,0)\n",
    "plot_bar_cat(lc_df,\"purpose\",\"loan_status\",0.2,45)\n",
    "plot_bar_cat(lc_df,\"addr_state\",\"loan_status\",0.2)"
   ]
  },
  {
   "cell_type": "code",
   "execution_count": null,
   "id": "a9c21d99",
   "metadata": {},
   "outputs": [],
   "source": [
    "# Insights from bar chart\n"
   ]
  },
  {
   "cell_type": "code",
   "execution_count": null,
   "id": "e60dadb8",
   "metadata": {},
   "outputs": [],
   "source": [
    "num_cols=[]\n",
    "for col in lc_df.columns:\n",
    "    if lc_df[col].dtype in [\"int64\",\"float64\"]:\n",
    "        num_cols.append(col)\n",
    "num_lc_df_corr=lc_df[num_cols].corr()\n",
    "num_lc_df = lc_df[num_cols]"
   ]
  },
  {
   "cell_type": "code",
   "execution_count": null,
   "id": "b3a506f1",
   "metadata": {},
   "outputs": [],
   "source": [
    "plt.figure(figsize=(20,10))\n",
    "sns.heatmap(num_lc_df_corr,cmap=\"viridis\",annot=True)\n",
    "plt.show()"
   ]
  }
 ],
 "metadata": {
  "kernelspec": {
   "display_name": "Python 3 (ipykernel)",
   "language": "python",
   "name": "python3"
  },
  "language_info": {
   "codemirror_mode": {
    "name": "ipython",
    "version": 3
   },
   "file_extension": ".py",
   "mimetype": "text/x-python",
   "name": "python",
   "nbconvert_exporter": "python",
   "pygments_lexer": "ipython3",
   "version": "3.9.7"
  }
 },
 "nbformat": 4,
 "nbformat_minor": 5
}
