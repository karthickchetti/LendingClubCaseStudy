{
 "cells": [
  {
   "cell_type": "markdown",
   "id": "6611e0e2",
   "metadata": {},
   "source": [
    "# LENDING CLUB CASE STUDY \n",
    "## Group Members :\n",
    "1. Karthick Chetti \n",
    "2. Anirudh KVC"
   ]
  },
  {
   "cell_type": "markdown",
   "id": "dcc5c8b7",
   "metadata": {},
   "source": [
    "## Objectives :\n",
    "1. Reduce Credit loss from 'charged-off' customers who are the 'defaulters'. (Lending loans to ‘risky’ applicants) which is largest source of financial loss\n",
    "2. Understand the driving factors (or driver variables) behind loan default"
   ]
  },
  {
   "attachments": {},
   "cell_type": "markdown",
   "id": "3eebe882",
   "metadata": {},
   "source": [
    "## Data Cleaning\n",
    "\n",
    "### Task 1 : Removing the unnecessary columns based on its relevance to the objective\n",
    "\n",
    "#### 1. id\t& member_id are unique and shouldn't influence the loan_status\n",
    "#### 2. emp_title - contains subjective information and irrevelant to analyze\n",
    "\n",
    "\n",
    "### Task 2 : Format Correction of Columns\n",
    "\n",
    "#### 1. term - remove months from each cell and convert to int\n",
    "\n",
    "### Task 3 : Relevant Columns\n",
    "loan_amnt\n",
    "funded_amnt\n",
    "funded_amnt_inv\n",
    "term\n",
    "int_rate\n",
    "installment\n",
    "grade\n",
    "sub_grade\n",
    "emp_length\n",
    "home_ownership\n",
    "annual_inc\n",
    "verification_status\n",
    "loan_status\n",
    "purpose\n",
    "addr_state\n",
    "dti\n",
    "delinq_2yrs\n",
    "earliest_cr_line\n",
    "mths_since_last_delinq\n",
    "open_acc\n",
    "pub_rec\n",
    "revol_bal\n",
    "revol_util\n",
    "total_acc\n",
    "last_pymnt_d\n",
    "pub_rec_bankruptcies\n",
    "\n"
   ]
  },
  {
   "cell_type": "code",
   "execution_count": null,
   "id": "f9a2f74e",
   "metadata": {},
   "outputs": [],
   "source": []
  }
 ],
 "metadata": {
  "kernelspec": {
   "display_name": "Python 3 (ipykernel)",
   "language": "python",
   "name": "python3"
  },
  "language_info": {
   "codemirror_mode": {
    "name": "ipython",
    "version": 3
   },
   "file_extension": ".py",
   "mimetype": "text/x-python",
   "name": "python",
   "nbconvert_exporter": "python",
   "pygments_lexer": "ipython3",
   "version": "3.9.7"
  }
 },
 "nbformat": 4,
 "nbformat_minor": 5
}
