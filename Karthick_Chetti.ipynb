{
 "cells": [
  {
   "cell_type": "markdown",
   "id": "6611e0e2",
   "metadata": {},
   "source": [
    "# LENDING CLUB CASE STUDY \n",
    "## Group Members :\n",
    "1. Karthick Chetti \n",
    "2. Anirudh KVC"
   ]
  },
  {
   "cell_type": "markdown",
   "id": "dcc5c8b7",
   "metadata": {},
   "source": [
    "## Objectives :\n",
    "1. Reduce Credit loss from 'charged-off' customers who are the 'defaulters'. (Lending loans to ‘risky’ applicants) which is largest source of financial loss\n",
    "2. Understand the driving factors (or driver variables) behind loan default"
   ]
  },
  {
   "cell_type": "markdown",
   "id": "3eebe882",
   "metadata": {},
   "source": [
    "## Data Cleaning\n",
    "\n",
    "### Task 1 : Removing the unnecessary columns based on its relevance to the objective\n",
    "\n",
    "#### 1. id\t& member_id are unique and shouldn't influence the loan_status\n",
    "#### 2. emp_title - contains subjective information and irrevelant to analyze\n",
    "\n",
    "\n",
    "### Task 2 : Format Correction of Columns\n",
    "\n",
    "#### 1. term - remove months from each cell and convert to int\n",
    "\n",
    "### Task 3 : Relevant Columns\n",
    "loan_amnt\n",
    "funded_amnt\n",
    "funded_amnt_inv\n",
    "term\n",
    "int_rate\n",
    "installment\n",
    "grade\n",
    "sub_grade\n",
    "emp_length\n",
    "home_ownership\n",
    "annual_inc\n",
    "verification_status\n",
    "loan_status\n",
    "purpose\n",
    "addr_state\n",
    "dti\n",
    "delinq_2yrs\n",
    "earliest_cr_line\n",
    "mths_since_last_delinq\n",
    "open_acc\n",
    "pub_rec\n",
    "revol_bal\n",
    "revol_util\n",
    "total_acc\n",
    "last_pymnt_d\n",
    "pub_rec_bankruptcies\n",
    "\n"
   ]
  },
  {
   "cell_type": "code",
   "execution_count": null,
   "id": "a303cb83",
   "metadata": {},
   "outputs": [],
   "source": [
    "# Load the libraries\n",
    "import pandas as pd #To work with dataset\n",
    "pd.set_option(\"display.max_columns\", 100)\n",
    "import numpy as np #Math library\n",
    "import seaborn as sns #Graph library that use matplot in background\n",
    "import matplotlib.pyplot as plt #to plot some parameters in seaborn\n",
    "from matplotlib.ticker import PercentFormatter # for percentage"
   ]
  },
  {
   "cell_type": "code",
   "execution_count": null,
   "id": "f9a2f74e",
   "metadata": {},
   "outputs": [],
   "source": [
    "# Importing data from loan.csv\n",
    "lc_df=pd.read_csv(\"loan.csv\")"
   ]
  },
  {
   "cell_type": "code",
   "execution_count": null,
   "id": "b7d51d3b",
   "metadata": {},
   "outputs": [],
   "source": [
    "# As we are interested in understanding charged off customers loan status as current is not useful for the analysis\n",
    "# Filtering data accorgingly\n",
    "\n",
    "lc_df = lc_df[~ (lc_df[\"loan_status\"] == \"Current\")]"
   ]
  },
  {
   "cell_type": "code",
   "execution_count": null,
   "id": "94a79f97",
   "metadata": {},
   "outputs": [],
   "source": [
    "# Key features\n",
    "# id,loan_amnt,term,int_rate,installment,grade,sub_grade,emp_length,annual_inc,verification_status,purpose,zip_code,add_state\n",
    "# Add other additional features if felt relevant in the future\n",
    "# Here id is conidered for aggregation purpose\n",
    "req_features=[\"id\",\"loan_amnt\",\"term\",\"int_rate\",\"installment\",\"grade\",\"sub_grade\",\"home_ownership\",\"emp_length\",\"loan_status\",\"annual_inc\",\"verification_status\",\"purpose\",\"zip_code\",\"addr_state\",\"dti\",\"open_acc\"]\n",
    "lc_df = lc_df[req_features]"
   ]
  },
  {
   "cell_type": "code",
   "execution_count": null,
   "id": "8f4c8d79",
   "metadata": {},
   "outputs": [],
   "source": [
    "# Having a look at the data\n",
    "lc_df.head()"
   ]
  },
  {
   "cell_type": "code",
   "execution_count": null,
   "id": "a3971cb4",
   "metadata": {},
   "outputs": [],
   "source": [
    "# Understanding the data and data types\n",
    "lc_df.info(verbose=True,show_counts=True)\n",
    "lc_df.describe()\n",
    "#Checking"
   ]
  },
  {
   "cell_type": "markdown",
   "id": "b2dec733",
   "metadata": {},
   "source": [
    "# Missing value imputation\n",
    "# Total number of data points found are 38577 \n",
    "## It is observed that for emp_length, some data is missing"
   ]
  },
  {
   "cell_type": "code",
   "execution_count": null,
   "id": "907a5e12",
   "metadata": {},
   "outputs": [],
   "source": [
    "# As the number of missing data is less, missing value imputation can be done\n",
    "# Checking the values in emp_length column\n",
    "lc_df[\"emp_length\"].value_counts()"
   ]
  },
  {
   "cell_type": "code",
   "execution_count": null,
   "id": "67bbf045",
   "metadata": {},
   "outputs": [],
   "source": [
    "# As the most recurring value is 10+years, adding 10+ years whereever the data is missing\n",
    "lc_df[\"emp_length\"] = lc_df[\"emp_length\"].fillna(\"10+ years\")\n",
    "lc_df.info()\n",
    "lc_df[\"emp_length\"].value_counts()"
   ]
  },
  {
   "cell_type": "code",
   "execution_count": null,
   "id": "498ae6be",
   "metadata": {},
   "outputs": [],
   "source": [
    "#Removing columns having 50% null values in them as such data is not useful\n",
    "#lc_df_nulldrop=lc_df.dropna(axis=1,thresh=int(0.5*len(lc_df)))"
   ]
  },
  {
   "cell_type": "code",
   "execution_count": null,
   "id": "efd80cf9",
   "metadata": {},
   "outputs": [],
   "source": [
    "#Printing number of columns removed\n",
    "#removed_columns=len(lc_df.columns)-len(lc_df_nulldrop.columns)\n",
    "#print(f\"{removed_columns} columns were removed\")"
   ]
  },
  {
   "cell_type": "code",
   "execution_count": null,
   "id": "9f7b54da",
   "metadata": {},
   "outputs": [],
   "source": [
    "#Checking the statistics of the new dataframe\n",
    "lc_df.describe()"
   ]
  },
  {
   "cell_type": "markdown",
   "id": "583c7a46",
   "metadata": {},
   "source": [
    "### It is observed that some columns have only one value(mostly 0) throughout the rows, which are not useful for the analysis"
   ]
  },
  {
   "cell_type": "code",
   "execution_count": null,
   "id": "529956cb",
   "metadata": {},
   "outputs": [],
   "source": [
    "#Dropping such columns in the dataframe\n",
    "# dropped_col=[]\n",
    "# for col in lc_df_nulldrop.columns:\n",
    "#     if len(lc_df_nulldrop[col].unique())==1:\n",
    "#         dropped_col.append(col)\n",
    "# print(f\"The columns to be dropped are : {dropped_col}\")\n",
    "# lc_df_droppedcol=lc_df_nulldrop.drop(dropped_col,axis=1)"
   ]
  },
  {
   "cell_type": "markdown",
   "id": "a1e33f77",
   "metadata": {},
   "source": [
    "### Dropping columns based on their relevance to the business objective\n",
    "#### 1. id ,member id and url will be specific to each customer \n",
    "#### 2. title,emp_title,desc - Very subjective and unstructured values in these columns"
   ]
  },
  {
   "cell_type": "code",
   "execution_count": null,
   "id": "24792702",
   "metadata": {},
   "outputs": [],
   "source": [
    "#Collecting all non relevant columns\n",
    "# non_relevant_cols=[\"id\",\"member_id\",\"url\",\"title\",\"emp_title\",\"desc\"]\n",
    "# #Dropping these columns\n",
    "# lc_df_droppedcol.drop(non_relevant_cols,axis=1,inplace=True)"
   ]
  },
  {
   "cell_type": "code",
   "execution_count": null,
   "id": "73caabac",
   "metadata": {},
   "outputs": [],
   "source": [
    "#lc_df_droppedcol.info(verbose=True,show_counts=True)"
   ]
  },
  {
   "cell_type": "markdown",
   "id": "399783ee",
   "metadata": {},
   "source": [
    "### It is observed that some columns still have missing values and 0 as only values in column\n",
    "#### collections_12_mths_ex_med, chargeoff_within_12_mths, tax_liens"
   ]
  },
  {
   "cell_type": "code",
   "execution_count": null,
   "id": "c8a3cdd9",
   "metadata": {},
   "outputs": [],
   "source": [
    "# print(\"Unique values of collections_12_mths_ex_med column :\",lc_df_droppedcol[\"collections_12_mths_ex_med\"].unique())\n",
    "# print(\"Unique values of chargeoff_within_12_mths column :\",lc_df_droppedcol[\"chargeoff_within_12_mths\"].unique())\n",
    "# print(\"Unique values of tax_liens column :\",lc_df_droppedcol[\"tax_liens\"].unique())\n",
    "# #Hence, dropping these columns\n",
    "# lc_df_droppedcol.drop([\"collections_12_mths_ex_med\",\"chargeoff_within_12_mths\",\"tax_liens\"],axis=1,inplace=True)"
   ]
  },
  {
   "cell_type": "code",
   "execution_count": null,
   "id": "4bea2931",
   "metadata": {},
   "outputs": [],
   "source": [
    "# lc_df_droppedcol.head()"
   ]
  },
  {
   "cell_type": "code",
   "execution_count": null,
   "id": "da6e5937",
   "metadata": {},
   "outputs": [],
   "source": [
    "# lc_df_droppedcol.info(verbose=True,show_counts=True)"
   ]
  },
  {
   "cell_type": "markdown",
   "id": "6ef357f6",
   "metadata": {},
   "source": [
    "### There are still some columns which have missing values, Therefore understanding the number of missing values in these columns"
   ]
  },
  {
   "cell_type": "code",
   "execution_count": null,
   "id": "5784c508",
   "metadata": {},
   "outputs": [],
   "source": [
    "# empty_cols=lc_df_droppedcol.columns[lc_df_droppedcol.isna().any()].tolist()\n",
    "# empty_vals=[lc_df_droppedcol[col].isna().sum() for col in empty_cols]\n",
    "# empty_per_dict=dict(zip(empty_cols,empty_vals))\n",
    "# print(\"The missing values in each column is :\\n\",empty_per_dict)"
   ]
  },
  {
   "cell_type": "markdown",
   "id": "88039319",
   "metadata": {},
   "source": [
    "### Missing Value Imputation"
   ]
  },
  {
   "cell_type": "code",
   "execution_count": null,
   "id": "67701804",
   "metadata": {},
   "outputs": [],
   "source": [
    "#Add mean and median to missing values"
   ]
  },
  {
   "cell_type": "code",
   "execution_count": null,
   "id": "15472fe7",
   "metadata": {},
   "outputs": [],
   "source": [
    "lc_df.median()"
   ]
  },
  {
   "cell_type": "code",
   "execution_count": null,
   "id": "13b8589d",
   "metadata": {},
   "outputs": [],
   "source": []
  },
  {
   "cell_type": "markdown",
   "id": "722fdd07",
   "metadata": {},
   "source": [
    "### Fixing data types of columns"
   ]
  },
  {
   "cell_type": "code",
   "execution_count": null,
   "id": "0cc65b2f",
   "metadata": {},
   "outputs": [],
   "source": [
    "# Removing % and converting to float\n",
    "lc_df[\"int_rate\"]=lc_df[\"int_rate\"].str.replace(\"%\",\"\").astype(float)\n",
    "# lc_df_droppedcol[\"revol_util\"]=lc_df_droppedcol[\"revol_util\"].str.replace(\"%\",\"\").astype(float)"
   ]
  },
  {
   "cell_type": "markdown",
   "id": "5140c101",
   "metadata": {},
   "source": [
    "## Checking Data Distributions for Numeric Data"
   ]
  },
  {
   "cell_type": "code",
   "execution_count": null,
   "id": "711c97d9",
   "metadata": {},
   "outputs": [],
   "source": [
    "#Checking the distributions for numeric data and identifying relevant columns for business objective\n",
    "def box_plot_col(df):\n",
    "    i=1\n",
    "    for col in df.columns:\n",
    "        if df[col].dtype in [\"int64\",\"float64\"]:\n",
    "            # plt.subplot(1, 2, 1)\n",
    "            # plt.hist(df[col])\n",
    "            # plt.xlabel(col)\n",
    "            #plt.subplot(1, 2, 2)\n",
    "            plt.boxplot(df[col])\n",
    "            plt.xlabel(col)\n",
    "            #plt.tight_layout()\n",
    "            plt.show()\n",
    "box_plot_col(lc_df)"
   ]
  },
  {
   "cell_type": "markdown",
   "id": "4255eb4b",
   "metadata": {},
   "source": [
    "## EDA for Business Objective 1 :\n",
    "### Reduce Credit loss from 'charged-off' customers who are the 'defaulters'. (Lending loans to ‘risky’ applicants) which is largest source of financial loss"
   ]
  },
  {
   "cell_type": "code",
   "execution_count": null,
   "id": "5a598d3d",
   "metadata": {},
   "outputs": [],
   "source": [
    "# Univariate Analysis\n",
    "# Functions for plotting graphs wrt columns (numerical) as percentage\n",
    "\n",
    "\n",
    "def plot_hist(df,column_name,bins):\n",
    "    plot_data = (df[df[\"loan_status\"]==\"Fully Paid\"][column_name],df[df[\"loan_status\"]==\"Charged Off\"][column_name])\n",
    "    #weight_data= (np.ones(len(plot_data[0])) / len(plot_data[0]+plot_data[1]),np.ones(len(plot_data[1])) / len(plot_data[0]+plot_data[1]))\n",
    "    weight_data= (np.ones(len(plot_data[0])) / len(plot_data[0]),np.ones(len(plot_data[1])) / len(plot_data[1]))\n",
    "    plt.figure(figsize=(20,10))\n",
    "    n,bin_data,patches=plt.hist(plot_data,color=(\"g\",\"r\"),weights=weight_data,bins=bins)\n",
    "    plt.xlabel(column_name,fontsize=22)\n",
    "    plt.ylabel(\"Percentage\",fontsize=22)\n",
    "    plt.xticks(fontsize=15)\n",
    "    plt.yticks(fontsize=15)\n",
    "    plt.gca().yaxis.set_major_formatter(PercentFormatter(1))\n",
    "    plt.legend((\"Fully Paid\",\"Charged Off\"),fontsize=15)\n",
    "    plt.show()\n",
    "    return n,bin_data,patches\n",
    "\n",
    "# Functions for plotting bar chart for categorical variables\n",
    "\n",
    "def plot_bar_cat(df,index_name,column_name,width,x_lbl_rotation):\n",
    "    pivot=pd.pivot_table(lc_df,values=\"id\",index=index_name,columns=column_name,aggfunc=lambda x: len(x.unique()))\n",
    "    plt.figure(figsize=(20,10))\n",
    "    colors = (\"r\",\"g\")\n",
    "    x_label = pivot.index\n",
    "    x_data = np.arange(len(x_label)) # create values from 0 to len(x_label) - 1\n",
    "    #height_data = (df[df[\"loan_status\"]==\"Fully Paid\"][column_name].value_counts().values,df[df[\"loan_status\"]==\"Charged Off\"][column_name].value_counts().values)\n",
    "    chart=[]\n",
    "    for j,i in enumerate(pivot.columns):\n",
    "        chart.append(plt.bar(x_data + j*(width), pivot[i],width=width,align=\"edge\"))\n",
    "    plt.xlabel(index_name,fontsize=22)\n",
    "    plt.ylabel(\"Frequency\",fontsize=22)\n",
    "    x_label_pos = x_data + (len(pivot.columns)*width)/2\n",
    "    plt.xticks(x_label_pos ,x_label,fontsize=15,rotation = x_lbl_rotation)\n",
    "    plt.yticks(fontsize=15)\n",
    "    plt.legend(chart,pivot.columns,fontsize=15)\n",
    "    plt.show()\n"
   ]
  },
  {
   "cell_type": "code",
   "execution_count": null,
   "id": "36eec752",
   "metadata": {},
   "outputs": [],
   "source": []
  },
  {
   "cell_type": "code",
   "execution_count": null,
   "id": "7e088c0d",
   "metadata": {},
   "outputs": [],
   "source": [
    "a1,b1,c1=plot_hist(lc_df,\"loan_amnt\",np.linspace(0,40000,num=9))\n",
    "a2,b2,c2 = plot_hist(lc_df,\"int_rate\",np.linspace(0,25,num=6))\n",
    "a3,b3,c3 = plot_hist(lc_df,\"annual_inc\",np.linspace(4000,6000000,num=100))"
   ]
  },
  {
   "cell_type": "code",
   "execution_count": null,
   "id": "6df92048",
   "metadata": {},
   "outputs": [],
   "source": [
    "# Insights from the histogram\n",
    "# No loan is offered from 0 to 5 % interest rate\n",
    "\n",
    "# wrt interest rate\n",
    "#1) Around 48% of the charged of customers fall under interest rate of 10 to 15 percentage\n",
    "#2) 85 % of the charged off customers have taken the loan at an interest rate of > 10 %\n",
    "\n",
    "# wrt loan_amnt\n",
    "#1) 82 % of the charged customers have taken the loan amount > 5000\n",
    "#2) 50 % of fully paid customers have taken the loan amont < 10000"
   ]
  },
  {
   "cell_type": "code",
   "execution_count": null,
   "id": "05e8e88a",
   "metadata": {},
   "outputs": [],
   "source": [
    "plot_bar_cat(lc_df,\"term\",\"loan_status\",0.2,0)\n",
    "plot_bar_cat(lc_df,\"home_ownership\",\"loan_status\",0.2,0)\n",
    "plot_bar_cat(lc_df,\"emp_length\",\"loan_status\",0.2,0)\n",
    "plot_bar_cat(lc_df,\"verification_status\",\"loan_status\",0.2,0)\n",
    "plot_bar_cat(lc_df,\"purpose\",\"loan_status\",0.2,45)\n",
    "plot_bar_cat(lc_df,\"addr_state\",\"loan_status\",0.2)"
   ]
  },
  {
   "cell_type": "code",
   "execution_count": null,
   "id": "a9c21d99",
   "metadata": {},
   "outputs": [],
   "source": [
    "# Insights from bar chart\n"
   ]
  },
  {
   "cell_type": "code",
   "execution_count": null,
   "id": "e60dadb8",
   "metadata": {},
   "outputs": [],
   "source": [
    "num_cols=[]\n",
    "for col in lc_df.columns:\n",
    "    if lc_df[col].dtype in [\"int64\",\"float64\"]:\n",
    "        num_cols.append(col)\n",
    "num_lc_df_corr=lc_df[num_cols].corr()\n",
    "num_lc_df = lc_df[num_cols]"
   ]
  },
  {
   "cell_type": "code",
   "execution_count": null,
   "id": "b3a506f1",
   "metadata": {},
   "outputs": [],
   "source": [
    "plt.figure(figsize=(20,10))\n",
    "sns.heatmap(num_lc_df_corr,cmap=\"viridis\",annot=True)\n",
    "plt.show()"
   ]
  },
  {
   "cell_type": "code",
   "execution_count": null,
   "id": "c57d7447",
   "metadata": {},
   "outputs": [],
   "source": []
  },
  {
   "cell_type": "code",
   "execution_count": null,
   "id": "dbaccd47",
   "metadata": {},
   "outputs": [],
   "source": [
    "# sns.pairplot(num_lc_df.iloc[:,1:10])\n",
    "# plt.show()"
   ]
  },
  {
   "cell_type": "code",
   "execution_count": null,
   "id": "00d78984",
   "metadata": {},
   "outputs": [],
   "source": [
    "### Derived Metrics\n",
    "#### earliest_cr_line to year\n",
    "#### closed acc = total - open acc\n",
    "#### ratio of funded_amt_inv to loan_amt"
   ]
  }
 ],
 "metadata": {
  "kernelspec": {
   "display_name": "Python 3 (ipykernel)",
   "language": "python",
   "name": "python3"
  },
  "language_info": {
   "codemirror_mode": {
    "name": "ipython",
    "version": 3
   },
   "file_extension": ".py",
   "mimetype": "text/x-python",
   "name": "python",
   "nbconvert_exporter": "python",
   "pygments_lexer": "ipython3",
   "version": "3.9.7"
  }
 },
 "nbformat": 4,
 "nbformat_minor": 5
}
